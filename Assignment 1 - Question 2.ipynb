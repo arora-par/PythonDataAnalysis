{
 "cells": [
  {
   "cell_type": "markdown",
   "metadata": {},
   "source": [
    "## Question 2. NLTK -> Gutenberg corpus -> Exploration of file melville-moby_dick.txt"
   ]
  },
  {
   "cell_type": "code",
   "execution_count": 18,
   "metadata": {
    "collapsed": true
   },
   "outputs": [],
   "source": [
    "from nltk.corpus import gutenberg as gb\n",
    "import operator, string"
   ]
  },
  {
   "cell_type": "markdown",
   "metadata": {},
   "source": [
    "### Find out frequency of 26 characters"
   ]
  },
  {
   "cell_type": "code",
   "execution_count": 25,
   "metadata": {
    "collapsed": false
   },
   "outputs": [
    {
     "data": {
      "text/plain": [
       "951971"
      ]
     },
     "execution_count": 25,
     "metadata": {},
     "output_type": "execute_result"
    }
   ],
   "source": [
    "raw_contents = gb.raw('melville-moby_dick.txt')\n",
    "contents_lower = raw_contents.lower()\n",
    "\n",
    "# filter out punctuations - keep only ascii lowercase chars.\n",
    "chars_lower = [ch for ch in contents_lower if ch in string.ascii_lowercase]\n",
    "len(chars_lower)\n"
   ]
  },
  {
   "cell_type": "code",
   "execution_count": 26,
   "metadata": {
    "collapsed": false
   },
   "outputs": [
    {
     "data": {
      "text/plain": [
       "26"
      ]
     },
     "execution_count": 26,
     "metadata": {},
     "output_type": "execute_result"
    }
   ],
   "source": [
    "char_freqs = {}\n",
    "for item in chars_lower:\n",
    "    if item not in char_freqs:\n",
    "        char_freqs[item] = 1                          # initialize entry with count as 1 in the dict for each word        \n",
    "    else:\n",
    "        existing_count = char_freqs[item]\n",
    "        char_freqs[item] = existing_count + 1         # add one for each new occurence\n",
    "\n",
    "len(char_freqs)        "
   ]
  },
  {
   "cell_type": "code",
   "execution_count": 27,
   "metadata": {
    "collapsed": false
   },
   "outputs": [
    {
     "name": "stdout",
     "output_type": "stream",
     "text": [
      "The chars in the decreasing order of frequency: \n",
      "\n",
      "('e', 117092)\n",
      "('t', 87996)\n",
      "('a', 77916)\n",
      "('o', 69326)\n",
      "('n', 65617)\n",
      "('i', 65434)\n",
      "('s', 64231)\n",
      "('h', 62896)\n",
      "('r', 52134)\n",
      "('l', 42793)\n",
      "('d', 38219)\n",
      "('u', 26697)\n",
      "('m', 23277)\n",
      "('c', 22507)\n",
      "('w', 22222)\n",
      "('f', 20833)\n",
      "('g', 20820)\n",
      "('p', 17255)\n",
      "('b', 16877)\n",
      "('y', 16872)\n",
      "('v', 8598)\n",
      "('k', 8059)\n",
      "('q', 1556)\n",
      "('j', 1082)\n",
      "('x', 1030)\n",
      "('z', 632)\n"
     ]
    }
   ],
   "source": [
    "# Dict is unordered by nature. So I need to create a list of tuples to store the sorted results\n",
    "sorted_char_freqs = sorted(char_freqs.items(), key=operator.itemgetter(1), reverse=True) \n",
    "\n",
    "print('The chars in the decreasing order of frequency: \\n')\n",
    "\n",
    "for sorted_char_pair in sorted_char_freqs:\n",
    "    print(sorted_char_pair)"
   ]
  },
  {
   "cell_type": "code",
   "execution_count": null,
   "metadata": {
    "collapsed": true
   },
   "outputs": [],
   "source": []
  },
  {
   "cell_type": "code",
   "execution_count": null,
   "metadata": {
    "collapsed": true
   },
   "outputs": [],
   "source": []
  }
 ],
 "metadata": {
  "kernelspec": {
   "display_name": "Python [conda root]",
   "language": "python",
   "name": "conda-root-py"
  },
  "language_info": {
   "codemirror_mode": {
    "name": "ipython",
    "version": 3
   },
   "file_extension": ".py",
   "mimetype": "text/x-python",
   "name": "python",
   "nbconvert_exporter": "python",
   "pygments_lexer": "ipython3",
   "version": "3.5.2"
  }
 },
 "nbformat": 4,
 "nbformat_minor": 1
}
