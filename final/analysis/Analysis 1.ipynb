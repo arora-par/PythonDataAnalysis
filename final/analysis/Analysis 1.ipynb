{
 "cells": [
  {
   "cell_type": "markdown",
   "metadata": {},
   "source": [
    "## Analysis 1 "
   ]
  },
  {
   "cell_type": "code",
   "execution_count": 2,
   "metadata": {
    "collapsed": true
   },
   "outputs": [],
   "source": [
    "import numpy as np\n",
    "import pandas as pd\n"
   ]
  },
  {
   "cell_type": "code",
   "execution_count": 3,
   "metadata": {
    "collapsed": true
   },
   "outputs": [],
   "source": [
    "df = pd.read_pickle('../data/pickled/gdelt.pickle')"
   ]
  },
  {
   "cell_type": "code",
   "execution_count": 8,
   "metadata": {
    "collapsed": false
   },
   "outputs": [],
   "source": [
    "df = df[['ActionGeo_CountryCode','AvgTone','NumArticles','GoldsteinScale','QuadClass','EventRootCode','IsRootEvent','Actor2Type1Code','Actor1Type1Code','SQLDATE', 'Actor1Code', 'Actor1Name', 'Actor1CountryCode', 'Actor2CountryCode','Actor2Code', 'Actor2Name', ]]"
   ]
  },
  {
   "cell_type": "code",
   "execution_count": 9,
   "metadata": {
    "collapsed": false
   },
   "outputs": [
    {
     "name": "stdout",
     "output_type": "stream",
     "text": [
      "ActionGeo_CountryCode                   US\n",
      "AvgTone                  -2.79955207166853\n",
      "NumArticles                              1\n",
      "GoldsteinScale                         4.0\n",
      "QuadClass                                1\n",
      "EventRootCode                           03\n",
      "IsRootEvent                              0\n",
      "Actor2Type1Code                        NaN\n",
      "Actor1Type1Code                        NaN\n",
      "SQLDATE                           20170101\n",
      "Actor1Code                             NaN\n",
      "Actor1Name                             NaN\n",
      "Actor1CountryCode                      NaN\n",
      "Actor2CountryCode                      CAN\n",
      "Actor2Code                             CAN\n",
      "Actor2Name                          CANADA\n",
      "Name: 613248559, dtype: object\n"
     ]
    },
    {
     "data": {
      "text/plain": [
       "GLOBALEVENTID\n",
       "613248559    None\n",
       "dtype: object"
      ]
     },
     "execution_count": 9,
     "metadata": {},
     "output_type": "execute_result"
    }
   ],
   "source": [
    "df.head(1).apply(lambda x:print(x), axis=1)"
   ]
  },
  {
   "cell_type": "code",
   "execution_count": 10,
   "metadata": {
    "collapsed": false
   },
   "outputs": [
    {
     "data": {
      "text/html": [
       "<div>\n",
       "<table border=\"1\" class=\"dataframe\">\n",
       "  <thead>\n",
       "    <tr style=\"text-align: right;\">\n",
       "      <th></th>\n",
       "      <th>ActionGeo_CountryCode</th>\n",
       "      <th>AvgTone</th>\n",
       "      <th>NumArticles</th>\n",
       "      <th>GoldsteinScale</th>\n",
       "      <th>QuadClass</th>\n",
       "      <th>EventRootCode</th>\n",
       "      <th>IsRootEvent</th>\n",
       "      <th>Actor2Type1Code</th>\n",
       "      <th>Actor1Type1Code</th>\n",
       "      <th>SQLDATE</th>\n",
       "      <th>Actor1Code</th>\n",
       "      <th>Actor1Name</th>\n",
       "      <th>Actor1CountryCode</th>\n",
       "      <th>Actor2CountryCode</th>\n",
       "      <th>Actor2Code</th>\n",
       "      <th>Actor2Name</th>\n",
       "    </tr>\n",
       "  </thead>\n",
       "  <tbody>\n",
       "    <tr>\n",
       "      <th>count</th>\n",
       "      <td>377348</td>\n",
       "      <td>377348</td>\n",
       "      <td>377348</td>\n",
       "      <td>377330</td>\n",
       "      <td>377348</td>\n",
       "      <td>377348</td>\n",
       "      <td>377348</td>\n",
       "      <td>108196</td>\n",
       "      <td>115052</td>\n",
       "      <td>377348</td>\n",
       "      <td>361693</td>\n",
       "      <td>361693</td>\n",
       "      <td>286150</td>\n",
       "      <td>257711</td>\n",
       "      <td>329938</td>\n",
       "      <td>329938</td>\n",
       "    </tr>\n",
       "    <tr>\n",
       "      <th>unique</th>\n",
       "      <td>158</td>\n",
       "      <td>103029</td>\n",
       "      <td>833</td>\n",
       "      <td>42</td>\n",
       "      <td>4</td>\n",
       "      <td>20</td>\n",
       "      <td>2</td>\n",
       "      <td>31</td>\n",
       "      <td>32</td>\n",
       "      <td>281</td>\n",
       "      <td>1518</td>\n",
       "      <td>2722</td>\n",
       "      <td>193</td>\n",
       "      <td>191</td>\n",
       "      <td>1497</td>\n",
       "      <td>2625</td>\n",
       "    </tr>\n",
       "    <tr>\n",
       "      <th>top</th>\n",
       "      <td>US</td>\n",
       "      <td>0</td>\n",
       "      <td>2</td>\n",
       "      <td>2.8</td>\n",
       "      <td>1</td>\n",
       "      <td>04</td>\n",
       "      <td>1</td>\n",
       "      <td>GOV</td>\n",
       "      <td>GOV</td>\n",
       "      <td>20170127</td>\n",
       "      <td>USA</td>\n",
       "      <td>UNITED STATES</td>\n",
       "      <td>USA</td>\n",
       "      <td>USA</td>\n",
       "      <td>USA</td>\n",
       "      <td>UNITED STATES</td>\n",
       "    </tr>\n",
       "    <tr>\n",
       "      <th>freq</th>\n",
       "      <td>180893</td>\n",
       "      <td>7723</td>\n",
       "      <td>125107</td>\n",
       "      <td>35247</td>\n",
       "      <td>251725</td>\n",
       "      <td>116904</td>\n",
       "      <td>205329</td>\n",
       "      <td>46494</td>\n",
       "      <td>51250</td>\n",
       "      <td>8162</td>\n",
       "      <td>111010</td>\n",
       "      <td>81718</td>\n",
       "      <td>133311</td>\n",
       "      <td>114994</td>\n",
       "      <td>94958</td>\n",
       "      <td>70922</td>\n",
       "    </tr>\n",
       "  </tbody>\n",
       "</table>\n",
       "</div>"
      ],
      "text/plain": [
       "       ActionGeo_CountryCode AvgTone NumArticles GoldsteinScale QuadClass  \\\n",
       "count                 377348  377348      377348         377330    377348   \n",
       "unique                   158  103029         833             42         4   \n",
       "top                       US       0           2            2.8         1   \n",
       "freq                  180893    7723      125107          35247    251725   \n",
       "\n",
       "       EventRootCode IsRootEvent Actor2Type1Code Actor1Type1Code   SQLDATE  \\\n",
       "count         377348      377348          108196          115052    377348   \n",
       "unique            20           2              31              32       281   \n",
       "top               04           1             GOV             GOV  20170127   \n",
       "freq          116904      205329           46494           51250      8162   \n",
       "\n",
       "       Actor1Code     Actor1Name Actor1CountryCode Actor2CountryCode  \\\n",
       "count      361693         361693            286150            257711   \n",
       "unique       1518           2722               193               191   \n",
       "top           USA  UNITED STATES               USA               USA   \n",
       "freq       111010          81718            133311            114994   \n",
       "\n",
       "       Actor2Code     Actor2Name  \n",
       "count      329938         329938  \n",
       "unique       1497           2625  \n",
       "top           USA  UNITED STATES  \n",
       "freq        94958          70922  "
      ]
     },
     "execution_count": 10,
     "metadata": {},
     "output_type": "execute_result"
    }
   ],
   "source": [
    "df.describe()"
   ]
  },
  {
   "cell_type": "code",
   "execution_count": null,
   "metadata": {
    "collapsed": true
   },
   "outputs": [],
   "source": [
    "# identify date, categorical, ordinal\n"
   ]
  }
 ],
 "metadata": {
  "anaconda-cloud": {},
  "kernelspec": {
   "display_name": "Python [conda root]",
   "language": "python",
   "name": "conda-root-py"
  },
  "language_info": {
   "codemirror_mode": {
    "name": "ipython",
    "version": 3
   },
   "file_extension": ".py",
   "mimetype": "text/x-python",
   "name": "python",
   "nbconvert_exporter": "python",
   "pygments_lexer": "ipython3",
   "version": "3.5.2"
  }
 },
 "nbformat": 4,
 "nbformat_minor": 1
}
