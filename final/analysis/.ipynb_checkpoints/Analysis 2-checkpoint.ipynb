{
 "cells": [
  {
   "cell_type": "markdown",
   "metadata": {},
   "source": [
    "## Analysis 2 - US relations with ethnic and religious groups"
   ]
  },
  {
   "cell_type": "code",
   "execution_count": 48,
   "metadata": {
    "collapsed": true
   },
   "outputs": [],
   "source": [
    "import numpy as np\n",
    "import pandas as pd\n",
    "import matplotlib\n",
    "from pandas.tools import plotting\n",
    "import seaborn as sns\n",
    "import matplotlib.pyplot as plt\n",
    "import os.path\n",
    "import glob\n",
    "import zipfile\n",
    "import operator\n",
    "%matplotlib inline"
   ]
  },
  {
   "cell_type": "markdown",
   "metadata": {},
   "source": [
    "#### Check if the Dataframe pickle exists. If not, create it using downloaded compressed files."
   ]
  },
  {
   "cell_type": "code",
   "execution_count": 2,
   "metadata": {
    "collapsed": true
   },
   "outputs": [],
   "source": [
    "def filterEthnicRelations(data_dir, compressed_path, extracted_path):\n",
    "    US_code = 'US'\n",
    "    for zip_name in glob.glob(compressed_path + '/*.zip'):\n",
    "        #print('extracting:', zip_name)\n",
    "        z = zipfile.ZipFile(file = zip_name, mode = 'r')    \n",
    "        z.extractall(path = extracted_path)\n",
    "        # open the extracted file and filter lines\n",
    "        csv_file_name = zip_name.replace('compressed', 'extracted/analysis2')[:-4]\n",
    "        filtered_file_name = csv_file_name[:-7] + 'filtered.csv'\n",
    "        with open(csv_file_name, mode='r') as extracted_file, open(filtered_file_name, mode='w') as filtered_file:\n",
    "            #print('using:', extracted_file, 'writing to:', filtered_file)\n",
    "            for line in extracted_file:\n",
    "                # extract lines with our interest country code\n",
    "                countries_involved = operator.itemgetter(51)(line.split('\\t'))\n",
    "                ethnic_religious_groups_involved = operator.itemgetter(9, 10, 19, 20)(line.split('\\t'))\n",
    "                ethnic_religious_groups_involved = list(filter(None, ethnic_religious_groups_involved))\n",
    "                if US_code in countries_involved:                      \n",
    "                    if ethnic_religious_groups_involved:\n",
    "                        filtered_file.write(line)\n",
    "\n",
    "        # delete the temporary extracted file\n",
    "        os.remove(csv_file_name)\n",
    "    \n",
    "    print('Filtered files are saved in dir:', extracted_path)"
   ]
  },
  {
   "cell_type": "code",
   "execution_count": 3,
   "metadata": {
    "collapsed": true
   },
   "outputs": [],
   "source": [
    "def prepareDataFrameFromFilteredCSVs(data_dir, extracted_path, pickle_path):\n",
    "    # Get column headers from the helper file (available under /extra directory)\n",
    "    col_headers = pd.read_excel(data_dir + '../extra/CSV.header.fieldids.xlsx', sheetname='Sheet1', \n",
    "                             index_col='Column ID', parse_cols=1)['Field Name']\n",
    "    filtered_csv_files = glob.glob(extracted_path + '/*')\n",
    "    dfs = []\n",
    "    for current_file in filtered_csv_files:\n",
    "        dfs.append(pd.read_csv(current_file, sep='\\t', header=None, dtype=str,\n",
    "                                  names=col_headers, index_col=['GLOBALEVENTID']))\n",
    "\n",
    "    combined_df = pd.concat(dfs)\n",
    "    combined_df.to_pickle(pickle_path)    \n",
    "    print('Combined pickled dataframe is saved at:', pickle_path)"
   ]
  },
  {
   "cell_type": "code",
   "execution_count": 5,
   "metadata": {
    "collapsed": false
   },
   "outputs": [
    {
     "name": "stdout",
     "output_type": "stream",
     "text": [
      "Filtered files are saved in dir: ../data/extracted/analysis2\n",
      "Combined pickled dataframe is saved at: ../data/pickled/analysis2/gdelt_analysis2.pickle\n",
      "Pickle file created. Ready to perform analysis.\n"
     ]
    }
   ],
   "source": [
    "data_dir = '../data/'\n",
    "pickle_path =  data_dir +'pickled/analysis2/gdelt_analysis2.pickle'\n",
    "compressed_path = data_dir + 'compressed/'\n",
    "extracted_path = data_dir + 'extracted/analysis2'\n",
    "\n",
    "if not os.path.exists(pickle_path):\n",
    "    if len(os.listdir(extracted_path)) <= 2:\n",
    "        filterEthnicRelations(data_dir, compressed_path, extracted_path)\n",
    "    else:\n",
    "        print('Filtered CSVs already exist')\n",
    "    prepareDataFrameFromFilteredCSVs(data_dir, extracted_path, pickle_path)    \n",
    "    print('Pickle file created. Ready to perform analysis.')\n",
    "else:\n",
    "    print('Pickle file exists. Ready to perform analysis.')"
   ]
  },
  {
   "cell_type": "markdown",
   "metadata": {},
   "source": [
    "#### Read the pickle file and take the columns required for this analysis."
   ]
  },
  {
   "cell_type": "code",
   "execution_count": 7,
   "metadata": {
    "collapsed": false
   },
   "outputs": [
    {
     "name": "stdout",
     "output_type": "stream",
     "text": [
      "Count of rows in the dataset: 268408\n"
     ]
    },
    {
     "data": {
      "text/html": [
       "<div>\n",
       "<table border=\"1\" class=\"dataframe\">\n",
       "  <thead>\n",
       "    <tr style=\"text-align: right;\">\n",
       "      <th></th>\n",
       "      <th>SQLDATE</th>\n",
       "      <th>MonthYear</th>\n",
       "      <th>Year</th>\n",
       "      <th>FractionDate</th>\n",
       "      <th>Actor1Code</th>\n",
       "      <th>Actor1Name</th>\n",
       "      <th>Actor1CountryCode</th>\n",
       "      <th>Actor1KnownGroupCode</th>\n",
       "      <th>Actor1EthnicCode</th>\n",
       "      <th>Actor1Religion1Code</th>\n",
       "      <th>...</th>\n",
       "      <th>Actor2Geo_FeatureID</th>\n",
       "      <th>ActionGeo_Type</th>\n",
       "      <th>ActionGeo_FullName</th>\n",
       "      <th>ActionGeo_CountryCode</th>\n",
       "      <th>ActionGeo_ADM1Code</th>\n",
       "      <th>ActionGeo_Lat</th>\n",
       "      <th>ActionGeo_Long</th>\n",
       "      <th>ActionGeo_FeatureID</th>\n",
       "      <th>DATEADDED</th>\n",
       "      <th>SOURCEURL</th>\n",
       "    </tr>\n",
       "    <tr>\n",
       "      <th>GLOBALEVENTID</th>\n",
       "      <th></th>\n",
       "      <th></th>\n",
       "      <th></th>\n",
       "      <th></th>\n",
       "      <th></th>\n",
       "      <th></th>\n",
       "      <th></th>\n",
       "      <th></th>\n",
       "      <th></th>\n",
       "      <th></th>\n",
       "      <th></th>\n",
       "      <th></th>\n",
       "      <th></th>\n",
       "      <th></th>\n",
       "      <th></th>\n",
       "      <th></th>\n",
       "      <th></th>\n",
       "      <th></th>\n",
       "      <th></th>\n",
       "      <th></th>\n",
       "      <th></th>\n",
       "    </tr>\n",
       "  </thead>\n",
       "  <tbody>\n",
       "    <tr>\n",
       "      <th>613248946</th>\n",
       "      <td>20170101</td>\n",
       "      <td>201701</td>\n",
       "      <td>2017</td>\n",
       "      <td>2017.0027</td>\n",
       "      <td>CHR</td>\n",
       "      <td>CHRISTIAN</td>\n",
       "      <td>NaN</td>\n",
       "      <td>NaN</td>\n",
       "      <td>NaN</td>\n",
       "      <td>CHR</td>\n",
       "      <td>...</td>\n",
       "      <td>TX</td>\n",
       "      <td>2</td>\n",
       "      <td>Texas, United States</td>\n",
       "      <td>US</td>\n",
       "      <td>USTX</td>\n",
       "      <td>31.106</td>\n",
       "      <td>-97.6475</td>\n",
       "      <td>TX</td>\n",
       "      <td>20170101</td>\n",
       "      <td>http://www.hawaiinewsnow.com/story/34159492/te...</td>\n",
       "    </tr>\n",
       "    <tr>\n",
       "      <th>613248947</th>\n",
       "      <td>20170101</td>\n",
       "      <td>201701</td>\n",
       "      <td>2017</td>\n",
       "      <td>2017.0027</td>\n",
       "      <td>CHR</td>\n",
       "      <td>CHRISTIAN</td>\n",
       "      <td>NaN</td>\n",
       "      <td>NaN</td>\n",
       "      <td>NaN</td>\n",
       "      <td>CHR</td>\n",
       "      <td>...</td>\n",
       "      <td>TX</td>\n",
       "      <td>2</td>\n",
       "      <td>Texas, United States</td>\n",
       "      <td>US</td>\n",
       "      <td>USTX</td>\n",
       "      <td>31.106</td>\n",
       "      <td>-97.6475</td>\n",
       "      <td>TX</td>\n",
       "      <td>20170101</td>\n",
       "      <td>http://www.hawaiinewsnow.com/story/34159492/te...</td>\n",
       "    </tr>\n",
       "    <tr>\n",
       "      <th>613248951</th>\n",
       "      <td>20170101</td>\n",
       "      <td>201701</td>\n",
       "      <td>2017</td>\n",
       "      <td>2017.0027</td>\n",
       "      <td>CHRPRO365</td>\n",
       "      <td>UNITED CHURCH OF CHRIST</td>\n",
       "      <td>NaN</td>\n",
       "      <td>NaN</td>\n",
       "      <td>NaN</td>\n",
       "      <td>CHR</td>\n",
       "      <td>...</td>\n",
       "      <td>408732</td>\n",
       "      <td>2</td>\n",
       "      <td>Illinois, United States</td>\n",
       "      <td>US</td>\n",
       "      <td>USIL</td>\n",
       "      <td>40.3363</td>\n",
       "      <td>-89.0022</td>\n",
       "      <td>IL</td>\n",
       "      <td>20170101</td>\n",
       "      <td>http://www.journalstandard.com/news/20161231/a...</td>\n",
       "    </tr>\n",
       "    <tr>\n",
       "      <th>613248952</th>\n",
       "      <td>20170101</td>\n",
       "      <td>201701</td>\n",
       "      <td>2017</td>\n",
       "      <td>2017.0027</td>\n",
       "      <td>CHRPRO365</td>\n",
       "      <td>UNITED CHURCH OF CHRIST</td>\n",
       "      <td>NaN</td>\n",
       "      <td>NaN</td>\n",
       "      <td>NaN</td>\n",
       "      <td>CHR</td>\n",
       "      <td>...</td>\n",
       "      <td>IL</td>\n",
       "      <td>2</td>\n",
       "      <td>Illinois, United States</td>\n",
       "      <td>US</td>\n",
       "      <td>USIL</td>\n",
       "      <td>40.3363</td>\n",
       "      <td>-89.0022</td>\n",
       "      <td>IL</td>\n",
       "      <td>20170101</td>\n",
       "      <td>http://www.journalstandard.com/news/20161231/a...</td>\n",
       "    </tr>\n",
       "    <tr>\n",
       "      <th>613249509</th>\n",
       "      <td>20170101</td>\n",
       "      <td>201701</td>\n",
       "      <td>2017</td>\n",
       "      <td>2017.0027</td>\n",
       "      <td>JEWHSD010</td>\n",
       "      <td>CHABAD</td>\n",
       "      <td>NaN</td>\n",
       "      <td>NaN</td>\n",
       "      <td>NaN</td>\n",
       "      <td>JEW</td>\n",
       "      <td>...</td>\n",
       "      <td>NaN</td>\n",
       "      <td>3</td>\n",
       "      <td>Bethesda, Maryland, United States</td>\n",
       "      <td>US</td>\n",
       "      <td>USMD</td>\n",
       "      <td>38.9807</td>\n",
       "      <td>-77.1003</td>\n",
       "      <td>583184</td>\n",
       "      <td>20170101</td>\n",
       "      <td>http://www.13wmaz.com/news/giant-bagel-menorah...</td>\n",
       "    </tr>\n",
       "  </tbody>\n",
       "</table>\n",
       "<p>5 rows × 57 columns</p>\n",
       "</div>"
      ],
      "text/plain": [
       "                SQLDATE MonthYear  Year FractionDate Actor1Code  \\\n",
       "GLOBALEVENTID                                                     \n",
       "613248946      20170101    201701  2017    2017.0027        CHR   \n",
       "613248947      20170101    201701  2017    2017.0027        CHR   \n",
       "613248951      20170101    201701  2017    2017.0027  CHRPRO365   \n",
       "613248952      20170101    201701  2017    2017.0027  CHRPRO365   \n",
       "613249509      20170101    201701  2017    2017.0027  JEWHSD010   \n",
       "\n",
       "                            Actor1Name Actor1CountryCode Actor1KnownGroupCode  \\\n",
       "GLOBALEVENTID                                                                   \n",
       "613248946                    CHRISTIAN               NaN                  NaN   \n",
       "613248947                    CHRISTIAN               NaN                  NaN   \n",
       "613248951      UNITED CHURCH OF CHRIST               NaN                  NaN   \n",
       "613248952      UNITED CHURCH OF CHRIST               NaN                  NaN   \n",
       "613249509                       CHABAD               NaN                  NaN   \n",
       "\n",
       "              Actor1EthnicCode Actor1Religion1Code  \\\n",
       "GLOBALEVENTID                                        \n",
       "613248946                  NaN                 CHR   \n",
       "613248947                  NaN                 CHR   \n",
       "613248951                  NaN                 CHR   \n",
       "613248952                  NaN                 CHR   \n",
       "613249509                  NaN                 JEW   \n",
       "\n",
       "                                     ...                          \\\n",
       "GLOBALEVENTID                        ...                           \n",
       "613248946                            ...                           \n",
       "613248947                            ...                           \n",
       "613248951                            ...                           \n",
       "613248952                            ...                           \n",
       "613249509                            ...                           \n",
       "\n",
       "              Actor2Geo_FeatureID ActionGeo_Type  \\\n",
       "GLOBALEVENTID                                      \n",
       "613248946                      TX              2   \n",
       "613248947                      TX              2   \n",
       "613248951                  408732              2   \n",
       "613248952                      IL              2   \n",
       "613249509                     NaN              3   \n",
       "\n",
       "                              ActionGeo_FullName ActionGeo_CountryCode  \\\n",
       "GLOBALEVENTID                                                            \n",
       "613248946                   Texas, United States                    US   \n",
       "613248947                   Texas, United States                    US   \n",
       "613248951                Illinois, United States                    US   \n",
       "613248952                Illinois, United States                    US   \n",
       "613249509      Bethesda, Maryland, United States                    US   \n",
       "\n",
       "              ActionGeo_ADM1Code ActionGeo_Lat ActionGeo_Long  \\\n",
       "GLOBALEVENTID                                                   \n",
       "613248946                   USTX        31.106       -97.6475   \n",
       "613248947                   USTX        31.106       -97.6475   \n",
       "613248951                   USIL       40.3363       -89.0022   \n",
       "613248952                   USIL       40.3363       -89.0022   \n",
       "613249509                   USMD       38.9807       -77.1003   \n",
       "\n",
       "              ActionGeo_FeatureID DATEADDED  \\\n",
       "GLOBALEVENTID                                 \n",
       "613248946                      TX  20170101   \n",
       "613248947                      TX  20170101   \n",
       "613248951                      IL  20170101   \n",
       "613248952                      IL  20170101   \n",
       "613249509                  583184  20170101   \n",
       "\n",
       "                                                       SOURCEURL  \n",
       "GLOBALEVENTID                                                     \n",
       "613248946      http://www.hawaiinewsnow.com/story/34159492/te...  \n",
       "613248947      http://www.hawaiinewsnow.com/story/34159492/te...  \n",
       "613248951      http://www.journalstandard.com/news/20161231/a...  \n",
       "613248952      http://www.journalstandard.com/news/20161231/a...  \n",
       "613249509      http://www.13wmaz.com/news/giant-bagel-menorah...  \n",
       "\n",
       "[5 rows x 57 columns]"
      ]
     },
     "execution_count": 7,
     "metadata": {},
     "output_type": "execute_result"
    }
   ],
   "source": [
    "df = pd.read_pickle(pickle_path)\n",
    "print('Count of rows in the dataset:',df['SQLDATE'].count())\n",
    "df.head()"
   ]
  },
  {
   "cell_type": "code",
   "execution_count": 8,
   "metadata": {
    "collapsed": true
   },
   "outputs": [],
   "source": [
    "df = df.reset_index()\n",
    "df = df[['SQLDATE','ActionGeo_CountryCode','Actor1Geo_CountryCode','Actor1Code', 'Actor1Name','Actor1Type1Code',  'Actor1EthnicCode', 'Actor1Religion1Code','Actor2Geo_CountryCode','Actor2Code', 'Actor2Name', 'Actor2Type1Code', 'Actor2EthnicCode', 'Actor2Religion1Code','AvgTone','NumArticles','GoldsteinScale','QuadClass','EventRootCode','IsRootEvent', 'MonthYear', 'Year']]"
   ]
  },
  {
   "cell_type": "markdown",
   "metadata": {},
   "source": [
    "#### Convert the required columns to numeric types"
   ]
  },
  {
   "cell_type": "code",
   "execution_count": 9,
   "metadata": {
    "collapsed": true
   },
   "outputs": [],
   "source": [
    "df[['AvgTone','NumArticles', 'GoldsteinScale', 'IsRootEvent', 'QuadClass', 'Year', 'MonthYear']] = df[['AvgTone','NumArticles', 'GoldsteinScale', 'IsRootEvent', 'QuadClass', 'Year', 'MonthYear']].apply(pd.to_numeric)"
   ]
  },
  {
   "cell_type": "markdown",
   "metadata": {},
   "source": [
    "#### Convert the required columns to numeric types"
   ]
  },
  {
   "cell_type": "code",
   "execution_count": 10,
   "metadata": {
    "collapsed": true
   },
   "outputs": [],
   "source": [
    "df['SQLDATE'] = pd.to_datetime(df['SQLDATE'],infer_datetime_format=True)"
   ]
  },
  {
   "cell_type": "markdown",
   "metadata": {},
   "source": [
    "#### Handle categorical variables"
   ]
  },
  {
   "cell_type": "code",
   "execution_count": 11,
   "metadata": {
    "collapsed": true
   },
   "outputs": [],
   "source": [
    "df['QuadClass_Cat'] = df['QuadClass'].astype(\"category\", categories=[1,2,3,4], ordered=False)"
   ]
  },
  {
   "cell_type": "code",
   "execution_count": 12,
   "metadata": {
    "collapsed": false
   },
   "outputs": [
    {
     "data": {
      "text/html": [
       "<div>\n",
       "<table border=\"1\" class=\"dataframe\">\n",
       "  <thead>\n",
       "    <tr style=\"text-align: right;\">\n",
       "      <th></th>\n",
       "      <th>AvgTone</th>\n",
       "      <th>NumArticles</th>\n",
       "      <th>GoldsteinScale</th>\n",
       "      <th>QuadClass</th>\n",
       "      <th>IsRootEvent</th>\n",
       "      <th>MonthYear</th>\n",
       "      <th>Year</th>\n",
       "    </tr>\n",
       "  </thead>\n",
       "  <tbody>\n",
       "    <tr>\n",
       "      <th>count</th>\n",
       "      <td>268408.000000</td>\n",
       "      <td>268408.000000</td>\n",
       "      <td>268408.000000</td>\n",
       "      <td>268408.000000</td>\n",
       "      <td>268408.000000</td>\n",
       "      <td>268408.000000</td>\n",
       "      <td>268408.000000</td>\n",
       "    </tr>\n",
       "    <tr>\n",
       "      <th>mean</th>\n",
       "      <td>-1.802632</td>\n",
       "      <td>13.206980</td>\n",
       "      <td>0.085787</td>\n",
       "      <td>1.875708</td>\n",
       "      <td>0.581849</td>\n",
       "      <td>201701.300807</td>\n",
       "      <td>2016.990652</td>\n",
       "    </tr>\n",
       "    <tr>\n",
       "      <th>std</th>\n",
       "      <td>3.624771</td>\n",
       "      <td>84.769375</td>\n",
       "      <td>4.579040</td>\n",
       "      <td>1.187068</td>\n",
       "      <td>0.493256</td>\n",
       "      <td>13.114768</td>\n",
       "      <td>0.131559</td>\n",
       "    </tr>\n",
       "    <tr>\n",
       "      <th>min</th>\n",
       "      <td>-26.666667</td>\n",
       "      <td>1.000000</td>\n",
       "      <td>-10.000000</td>\n",
       "      <td>1.000000</td>\n",
       "      <td>0.000000</td>\n",
       "      <td>200701.000000</td>\n",
       "      <td>2007.000000</td>\n",
       "    </tr>\n",
       "    <tr>\n",
       "      <th>25%</th>\n",
       "      <td>-4.205607</td>\n",
       "      <td>2.000000</td>\n",
       "      <td>-4.000000</td>\n",
       "      <td>1.000000</td>\n",
       "      <td>0.000000</td>\n",
       "      <td>201701.000000</td>\n",
       "      <td>2017.000000</td>\n",
       "    </tr>\n",
       "    <tr>\n",
       "      <th>50%</th>\n",
       "      <td>-1.742160</td>\n",
       "      <td>4.000000</td>\n",
       "      <td>1.000000</td>\n",
       "      <td>1.000000</td>\n",
       "      <td>1.000000</td>\n",
       "      <td>201702.000000</td>\n",
       "      <td>2017.000000</td>\n",
       "    </tr>\n",
       "    <tr>\n",
       "      <th>75%</th>\n",
       "      <td>0.763359</td>\n",
       "      <td>8.000000</td>\n",
       "      <td>3.400000</td>\n",
       "      <td>3.000000</td>\n",
       "      <td>1.000000</td>\n",
       "      <td>201703.000000</td>\n",
       "      <td>2017.000000</td>\n",
       "    </tr>\n",
       "    <tr>\n",
       "      <th>max</th>\n",
       "      <td>16.384181</td>\n",
       "      <td>8288.000000</td>\n",
       "      <td>10.000000</td>\n",
       "      <td>4.000000</td>\n",
       "      <td>1.000000</td>\n",
       "      <td>201704.000000</td>\n",
       "      <td>2017.000000</td>\n",
       "    </tr>\n",
       "  </tbody>\n",
       "</table>\n",
       "</div>"
      ],
      "text/plain": [
       "             AvgTone    NumArticles  GoldsteinScale      QuadClass  \\\n",
       "count  268408.000000  268408.000000   268408.000000  268408.000000   \n",
       "mean       -1.802632      13.206980        0.085787       1.875708   \n",
       "std         3.624771      84.769375        4.579040       1.187068   \n",
       "min       -26.666667       1.000000      -10.000000       1.000000   \n",
       "25%        -4.205607       2.000000       -4.000000       1.000000   \n",
       "50%        -1.742160       4.000000        1.000000       1.000000   \n",
       "75%         0.763359       8.000000        3.400000       3.000000   \n",
       "max        16.384181    8288.000000       10.000000       4.000000   \n",
       "\n",
       "         IsRootEvent      MonthYear           Year  \n",
       "count  268408.000000  268408.000000  268408.000000  \n",
       "mean        0.581849  201701.300807    2016.990652  \n",
       "std         0.493256      13.114768       0.131559  \n",
       "min         0.000000  200701.000000    2007.000000  \n",
       "25%         0.000000  201701.000000    2017.000000  \n",
       "50%         1.000000  201702.000000    2017.000000  \n",
       "75%         1.000000  201703.000000    2017.000000  \n",
       "max         1.000000  201704.000000    2017.000000  "
      ]
     },
     "execution_count": 12,
     "metadata": {},
     "output_type": "execute_result"
    }
   ],
   "source": [
    "df.describe()"
   ]
  },
  {
   "cell_type": "code",
   "execution_count": 13,
   "metadata": {
    "collapsed": false
   },
   "outputs": [
    {
     "name": "stdout",
     "output_type": "stream",
     "text": [
      "Actor1EthnicCode         28776\n",
      "Actor2EthnicCode         21543\n",
      "Actor1Geo_CountryCode    46374\n",
      "Actor2Geo_CountryCode    40990\n",
      "AvgTone                  49476\n",
      "dtype: int64\n"
     ]
    },
    {
     "data": {
      "text/html": [
       "<div>\n",
       "<table border=\"1\" class=\"dataframe\">\n",
       "  <thead>\n",
       "    <tr style=\"text-align: right;\">\n",
       "      <th></th>\n",
       "      <th>Actor1EthnicCode</th>\n",
       "      <th>Actor2EthnicCode</th>\n",
       "      <th>Actor1Geo_CountryCode</th>\n",
       "      <th>Actor2Geo_CountryCode</th>\n",
       "      <th>AvgTone</th>\n",
       "    </tr>\n",
       "  </thead>\n",
       "  <tbody>\n",
       "    <tr>\n",
       "      <th>13</th>\n",
       "      <td>NaN</td>\n",
       "      <td>sco</td>\n",
       "      <td>UK</td>\n",
       "      <td>US</td>\n",
       "      <td>1.813472</td>\n",
       "    </tr>\n",
       "    <tr>\n",
       "      <th>18</th>\n",
       "      <td>NaN</td>\n",
       "      <td>nai</td>\n",
       "      <td>US</td>\n",
       "      <td>US</td>\n",
       "      <td>-2.601703</td>\n",
       "    </tr>\n",
       "    <tr>\n",
       "      <th>19</th>\n",
       "      <td>NaN</td>\n",
       "      <td>sco</td>\n",
       "      <td>US</td>\n",
       "      <td>US</td>\n",
       "      <td>1.813472</td>\n",
       "    </tr>\n",
       "    <tr>\n",
       "      <th>20</th>\n",
       "      <td>nep</td>\n",
       "      <td>NaN</td>\n",
       "      <td>US</td>\n",
       "      <td>NaN</td>\n",
       "      <td>0.888892</td>\n",
       "    </tr>\n",
       "    <tr>\n",
       "      <th>21</th>\n",
       "      <td>sco</td>\n",
       "      <td>NaN</td>\n",
       "      <td>US</td>\n",
       "      <td>NaN</td>\n",
       "      <td>1.813472</td>\n",
       "    </tr>\n",
       "  </tbody>\n",
       "</table>\n",
       "</div>"
      ],
      "text/plain": [
       "   Actor1EthnicCode Actor2EthnicCode Actor1Geo_CountryCode  \\\n",
       "13              NaN              sco                    UK   \n",
       "18              NaN              nai                    US   \n",
       "19              NaN              sco                    US   \n",
       "20              nep              NaN                    US   \n",
       "21              sco              NaN                    US   \n",
       "\n",
       "   Actor2Geo_CountryCode   AvgTone  \n",
       "13                    US  1.813472  \n",
       "18                    US -2.601703  \n",
       "19                    US  1.813472  \n",
       "20                   NaN  0.888892  \n",
       "21                   NaN  1.813472  "
      ]
     },
     "execution_count": 13,
     "metadata": {},
     "output_type": "execute_result"
    }
   ],
   "source": [
    "df = df[df['Actor2EthnicCode'].notnull() | df['Actor1EthnicCode'].notnull()]\n",
    "df_ethnic = df[['Actor1EthnicCode','Actor2EthnicCode','Actor1Geo_CountryCode', 'Actor2Geo_CountryCode','AvgTone']]\n",
    "print(df_ethnic.count())\n",
    "df_ethnic.head()"
   ]
  },
  {
   "cell_type": "markdown",
   "metadata": {},
   "source": [
    "#### Group by ethnic codes. x = AvgTone, y = count"
   ]
  },
  {
   "cell_type": "code",
   "execution_count": 14,
   "metadata": {
    "collapsed": true
   },
   "outputs": [],
   "source": [
    "df_ethnic_grouped_agg = df_ethnic.groupby('Actor2EthnicCode').agg({'AvgTone':[np.mean,len]})"
   ]
  },
  {
   "cell_type": "code",
   "execution_count": 94,
   "metadata": {
    "collapsed": false
   },
   "outputs": [
    {
     "data": {
      "text/plain": [
       "array([<matplotlib.axes._subplots.AxesSubplot object at 0x120551b70>,\n",
       "       <matplotlib.axes._subplots.AxesSubplot object at 0x11618a860>], dtype=object)"
      ]
     },
     "execution_count": 94,
     "metadata": {},
     "output_type": "execute_result"
    },
    {
     "data": {
      "image/png": "[encoded data removed]",
      "text/plain": [
       "<matplotlib.figure.Figure at 0x12ac02a58>"
      ]
     },
     "metadata": {},
     "output_type": "display_data"
    }
   ],
   "source": [
    "df_ethnic_grouped_agg['AvgTone'].plot(subplots='True')"
   ]
  },
  {
   "cell_type": "markdown",
   "metadata": {},
   "source": [
    "### Pull the reference data to understand the Ethnic group details"
   ]
  },
  {
   "cell_type": "code",
   "execution_count": null,
   "metadata": {
    "collapsed": true
   },
   "outputs": [],
   "source": []
  },
  {
   "cell_type": "code",
   "execution_count": 121,
   "metadata": {
    "collapsed": false
   },
   "outputs": [
    {
     "data": {
      "text/html": [
       "<div>\n",
       "<table border=\"1\" class=\"dataframe\">\n",
       "  <thead>\n",
       "    <tr style=\"text-align: right;\">\n",
       "      <th></th>\n",
       "      <th>Ethnic Group Name</th>\n",
       "      <th>Code</th>\n",
       "      <th>Selected Countries</th>\n",
       "    </tr>\n",
       "  </thead>\n",
       "  <tbody>\n",
       "    <tr>\n",
       "      <th>1</th>\n",
       "      <td>Abkhaz (Abkhazians)</td>\n",
       "      <td>abk</td>\n",
       "      <td>GEO, DEU, RUS, SYR, TUR, UKR</td>\n",
       "    </tr>\n",
       "    <tr>\n",
       "      <th>3</th>\n",
       "      <td>Aboriginal-Australians (Aborigines)</td>\n",
       "      <td>abr</td>\n",
       "      <td>AUS</td>\n",
       "    </tr>\n",
       "    <tr>\n",
       "      <th>5</th>\n",
       "      <td>Acehnese (Achinese)</td>\n",
       "      <td>ace</td>\n",
       "      <td>IDN, MYS</td>\n",
       "    </tr>\n",
       "    <tr>\n",
       "      <th>7</th>\n",
       "      <td>Achang</td>\n",
       "      <td>acg</td>\n",
       "      <td>CHN, MMR</td>\n",
       "    </tr>\n",
       "    <tr>\n",
       "      <th>9</th>\n",
       "      <td>Acholi</td>\n",
       "      <td>ach</td>\n",
       "      <td>SDN, UGA</td>\n",
       "    </tr>\n",
       "  </tbody>\n",
       "</table>\n",
       "</div>"
      ],
      "text/plain": [
       "                     Ethnic Group Name  Code             Selected Countries \n",
       "1                  Abkhaz (Abkhazians)   abk   GEO, DEU, RUS, SYR, TUR, UKR \n",
       "3  Aboriginal-Australians (Aborigines)   abr                            AUS \n",
       "5                  Acehnese (Achinese)   ace                       IDN, MYS \n",
       "7                               Achang   acg                       CHN, MMR \n",
       "9                               Acholi   ach                       SDN, UGA "
      ]
     },
     "execution_count": 121,
     "metadata": {},
     "output_type": "execute_result"
    }
   ],
   "source": [
    "ethnic_codes_reference = pd.read_csv('../Extra/EthnicCodes.txt', sep='\\t', encoding = \"ISO-8859-1\")\n",
    "ethnic_codes_reference = ethnic_codes_reference.dropna()\n",
    "ethnic_codes_reference.head()"
   ]
  },
  {
   "cell_type": "code",
   "execution_count": 132,
   "metadata": {
    "collapsed": false
   },
   "outputs": [],
   "source": [
    "ethnic_codes_reference['Code'] = ethnic_codes_reference['Code '].str.strip()"
   ]
  },
  {
   "cell_type": "markdown",
   "metadata": {},
   "source": [
    "#### Find the most positively and negatively impacted ethnic groups"
   ]
  },
  {
   "cell_type": "code",
   "execution_count": 112,
   "metadata": {
    "collapsed": false
   },
   "outputs": [
    {
     "name": "stdout",
     "output_type": "stream",
     "text": [
      "Top 5 negatively impacted ethinicties\n"
     ]
    },
    {
     "name": "stderr",
     "output_type": "stream",
     "text": [
      "/Users/tanya/anaconda3/lib/python3.5/site-packages/ipykernel/__main__.py:2: FutureWarning: sort(columns=....) is deprecated, use sort_values(by=.....)\n",
      "  from ipykernel import kernelapp as app\n"
     ]
    },
    {
     "data": {
      "text/html": [
       "<div>\n",
       "<table border=\"1\" class=\"dataframe\">\n",
       "  <thead>\n",
       "    <tr>\n",
       "      <th></th>\n",
       "      <th>Actor2EthnicCode</th>\n",
       "      <th colspan=\"2\" halign=\"left\">AvgTone</th>\n",
       "      <th>product</th>\n",
       "    </tr>\n",
       "    <tr>\n",
       "      <th></th>\n",
       "      <th></th>\n",
       "      <th>mean</th>\n",
       "      <th>len</th>\n",
       "      <th></th>\n",
       "    </tr>\n",
       "  </thead>\n",
       "  <tbody>\n",
       "    <tr>\n",
       "      <th>0</th>\n",
       "      <td>dak</td>\n",
       "      <td>-2.362416</td>\n",
       "      <td>3423.0</td>\n",
       "      <td>-8086.548890</td>\n",
       "    </tr>\n",
       "    <tr>\n",
       "      <th>1</th>\n",
       "      <td>chy</td>\n",
       "      <td>-1.390854</td>\n",
       "      <td>1471.0</td>\n",
       "      <td>-2045.946886</td>\n",
       "    </tr>\n",
       "    <tr>\n",
       "      <th>2</th>\n",
       "      <td>nai</td>\n",
       "      <td>-0.656125</td>\n",
       "      <td>2712.0</td>\n",
       "      <td>-1779.410149</td>\n",
       "    </tr>\n",
       "    <tr>\n",
       "      <th>3</th>\n",
       "      <td>nav</td>\n",
       "      <td>-1.695377</td>\n",
       "      <td>856.0</td>\n",
       "      <td>-1451.242593</td>\n",
       "    </tr>\n",
       "    <tr>\n",
       "      <th>4</th>\n",
       "      <td>osa</td>\n",
       "      <td>-2.736749</td>\n",
       "      <td>419.0</td>\n",
       "      <td>-1146.697726</td>\n",
       "    </tr>\n",
       "  </tbody>\n",
       "</table>\n",
       "</div>"
      ],
      "text/plain": [
       "  Actor2EthnicCode   AvgTone              product\n",
       "                        mean     len             \n",
       "0              dak -2.362416  3423.0 -8086.548890\n",
       "1              chy -1.390854  1471.0 -2045.946886\n",
       "2              nai -0.656125  2712.0 -1779.410149\n",
       "3              nav -1.695377   856.0 -1451.242593\n",
       "4              osa -2.736749   419.0 -1146.697726"
      ]
     },
     "execution_count": 112,
     "metadata": {},
     "output_type": "execute_result"
    }
   ],
   "source": [
    "df_ethnic_grouped_agg['product'] = df_ethnic_grouped_agg['AvgTone']['mean'] * df_ethnic_grouped_agg['AvgTone']['len']\n",
    "df_ethnic_grouped_agg = df_ethnic_grouped_agg.sort('product')\n",
    "print('Top 5 negatively impacted ethinicties')\n",
    "neg_top_ethnic = df_ethnic_grouped_agg.head()\n",
    "neg_top_ethnic = neg_top_ethnic.reset_index()\n",
    "neg_top_ethnic"
   ]
  },
  {
   "cell_type": "code",
   "execution_count": 113,
   "metadata": {
    "collapsed": false
   },
   "outputs": [
    {
     "name": "stdout",
     "output_type": "stream",
     "text": [
      "Top 5 positively impacted ethinicties\n"
     ]
    },
    {
     "data": {
      "text/html": [
       "<div>\n",
       "<table border=\"1\" class=\"dataframe\">\n",
       "  <thead>\n",
       "    <tr>\n",
       "      <th></th>\n",
       "      <th>Actor2EthnicCode</th>\n",
       "      <th colspan=\"2\" halign=\"left\">AvgTone</th>\n",
       "      <th>product</th>\n",
       "    </tr>\n",
       "    <tr>\n",
       "      <th></th>\n",
       "      <th></th>\n",
       "      <th>mean</th>\n",
       "      <th>len</th>\n",
       "      <th></th>\n",
       "    </tr>\n",
       "  </thead>\n",
       "  <tbody>\n",
       "    <tr>\n",
       "      <th>0</th>\n",
       "      <td>nap</td>\n",
       "      <td>2.322605</td>\n",
       "      <td>46.0</td>\n",
       "      <td>106.839813</td>\n",
       "    </tr>\n",
       "    <tr>\n",
       "      <th>1</th>\n",
       "      <td>men</td>\n",
       "      <td>0.842202</td>\n",
       "      <td>134.0</td>\n",
       "      <td>112.855072</td>\n",
       "    </tr>\n",
       "    <tr>\n",
       "      <th>2</th>\n",
       "      <td>moh</td>\n",
       "      <td>0.463287</td>\n",
       "      <td>297.0</td>\n",
       "      <td>137.596153</td>\n",
       "    </tr>\n",
       "    <tr>\n",
       "      <th>3</th>\n",
       "      <td>oji</td>\n",
       "      <td>1.121624</td>\n",
       "      <td>123.0</td>\n",
       "      <td>137.959740</td>\n",
       "    </tr>\n",
       "    <tr>\n",
       "      <th>4</th>\n",
       "      <td>sco</td>\n",
       "      <td>0.280097</td>\n",
       "      <td>597.0</td>\n",
       "      <td>167.217739</td>\n",
       "    </tr>\n",
       "  </tbody>\n",
       "</table>\n",
       "</div>"
      ],
      "text/plain": [
       "  Actor2EthnicCode   AvgTone            product\n",
       "                        mean    len            \n",
       "0              nap  2.322605   46.0  106.839813\n",
       "1              men  0.842202  134.0  112.855072\n",
       "2              moh  0.463287  297.0  137.596153\n",
       "3              oji  1.121624  123.0  137.959740\n",
       "4              sco  0.280097  597.0  167.217739"
      ]
     },
     "execution_count": 113,
     "metadata": {},
     "output_type": "execute_result"
    }
   ],
   "source": [
    "print('Top 5 positively impacted ethinicties')\n",
    "pos_top_ethnic = df_ethnic_grouped_agg.tail()\n",
    "pos_top_ethnic = pos_top_ethnic.reset_index()\n",
    "pos_top_ethnic"
   ]
  },
  {
   "cell_type": "markdown",
   "metadata": {},
   "source": [
    "#### Merge Negatively impacted ethnic groups with Ethnic Codes Reference Data to get better understanding"
   ]
  },
  {
   "cell_type": "code",
   "execution_count": 134,
   "metadata": {
    "collapsed": false
   },
   "outputs": [
    {
     "name": "stderr",
     "output_type": "stream",
     "text": [
      "/Users/tanya/anaconda3/lib/python3.5/site-packages/pandas/tools/merge.py:205: UserWarning: merging between different levels can give an unintended result (2 levels on the left, 1 on the right)\n",
      "  warnings.warn(msg, UserWarning)\n"
     ]
    },
    {
     "data": {
      "text/html": [
       "<div>\n",
       "<table border=\"1\" class=\"dataframe\">\n",
       "  <thead>\n",
       "    <tr style=\"text-align: right;\">\n",
       "      <th></th>\n",
       "      <th>(Actor2EthnicCode, )</th>\n",
       "      <th>(AvgTone, mean)</th>\n",
       "      <th>(AvgTone, len)</th>\n",
       "      <th>(product, )</th>\n",
       "      <th>Ethnic Group Name</th>\n",
       "      <th>Code</th>\n",
       "      <th>Selected Countries</th>\n",
       "      <th>Code</th>\n",
       "    </tr>\n",
       "  </thead>\n",
       "  <tbody>\n",
       "    <tr>\n",
       "      <th>0</th>\n",
       "      <td>dak</td>\n",
       "      <td>-2.362416</td>\n",
       "      <td>3423.0</td>\n",
       "      <td>-8086.548890</td>\n",
       "      <td>Sioux</td>\n",
       "      <td>dak</td>\n",
       "      <td>USA</td>\n",
       "      <td>dak</td>\n",
       "    </tr>\n",
       "    <tr>\n",
       "      <th>1</th>\n",
       "      <td>chy</td>\n",
       "      <td>-1.390854</td>\n",
       "      <td>1471.0</td>\n",
       "      <td>-2045.946886</td>\n",
       "      <td>Cheyenne</td>\n",
       "      <td>chy</td>\n",
       "      <td>USA</td>\n",
       "      <td>chy</td>\n",
       "    </tr>\n",
       "    <tr>\n",
       "      <th>2</th>\n",
       "      <td>nai</td>\n",
       "      <td>-0.656125</td>\n",
       "      <td>2712.0</td>\n",
       "      <td>-1779.410149</td>\n",
       "      <td>Native American</td>\n",
       "      <td>nai</td>\n",
       "      <td>CAN, USA</td>\n",
       "      <td>nai</td>\n",
       "    </tr>\n",
       "    <tr>\n",
       "      <th>3</th>\n",
       "      <td>nav</td>\n",
       "      <td>-1.695377</td>\n",
       "      <td>856.0</td>\n",
       "      <td>-1451.242593</td>\n",
       "      <td>Navajo</td>\n",
       "      <td>nav</td>\n",
       "      <td>USA</td>\n",
       "      <td>nav</td>\n",
       "    </tr>\n",
       "    <tr>\n",
       "      <th>4</th>\n",
       "      <td>osa</td>\n",
       "      <td>-2.736749</td>\n",
       "      <td>419.0</td>\n",
       "      <td>-1146.697726</td>\n",
       "      <td>Osage</td>\n",
       "      <td>osa</td>\n",
       "      <td>USA</td>\n",
       "      <td>osa</td>\n",
       "    </tr>\n",
       "  </tbody>\n",
       "</table>\n",
       "</div>"
      ],
      "text/plain": [
       "  (Actor2EthnicCode, )  (AvgTone, mean)  (AvgTone, len)  (product, )  \\\n",
       "0                  dak        -2.362416          3423.0 -8086.548890   \n",
       "1                  chy        -1.390854          1471.0 -2045.946886   \n",
       "2                  nai        -0.656125          2712.0 -1779.410149   \n",
       "3                  nav        -1.695377           856.0 -1451.242593   \n",
       "4                  osa        -2.736749           419.0 -1146.697726   \n",
       "\n",
       "  Ethnic Group Name  Code  Selected Countries  Code  \n",
       "0             Sioux   dak                 USA   dak  \n",
       "1          Cheyenne   chy                 USA   chy  \n",
       "2   Native American   nai            CAN, USA   nai  \n",
       "3            Navajo   nav                 USA   nav  \n",
       "4             Osage   osa                 USA   osa  "
      ]
     },
     "execution_count": 134,
     "metadata": {},
     "output_type": "execute_result"
    }
   ],
   "source": [
    "neg_top_ethnic.merge(ethnic_codes_reference, left_on='Actor2EthnicCode', right_on='Code')"
   ]
  },
  {
   "cell_type": "markdown",
   "metadata": {},
   "source": [
    "#### Merge Positively impacted ethnic groups with Ethnic Codes Reference Data to get better understanding"
   ]
  },
  {
   "cell_type": "code",
   "execution_count": 137,
   "metadata": {
    "collapsed": false
   },
   "outputs": [
    {
     "name": "stderr",
     "output_type": "stream",
     "text": [
      "/Users/tanya/anaconda3/lib/python3.5/site-packages/pandas/tools/merge.py:205: UserWarning: merging between different levels can give an unintended result (2 levels on the left, 1 on the right)\n",
      "  warnings.warn(msg, UserWarning)\n"
     ]
    },
    {
     "data": {
      "text/html": [
       "<div>\n",
       "<table border=\"1\" class=\"dataframe\">\n",
       "  <thead>\n",
       "    <tr style=\"text-align: right;\">\n",
       "      <th></th>\n",
       "      <th>(Actor2EthnicCode, )</th>\n",
       "      <th>(AvgTone, mean)</th>\n",
       "      <th>(AvgTone, len)</th>\n",
       "      <th>(product, )</th>\n",
       "      <th>Ethnic Group Name</th>\n",
       "      <th>Code</th>\n",
       "      <th>Selected Countries</th>\n",
       "      <th>Code</th>\n",
       "    </tr>\n",
       "  </thead>\n",
       "  <tbody>\n",
       "    <tr>\n",
       "      <th>0</th>\n",
       "      <td>nap</td>\n",
       "      <td>2.322605</td>\n",
       "      <td>46.0</td>\n",
       "      <td>106.839813</td>\n",
       "      <td>Neapolitan</td>\n",
       "      <td>nap</td>\n",
       "      <td>ITA</td>\n",
       "      <td>nap</td>\n",
       "    </tr>\n",
       "    <tr>\n",
       "      <th>1</th>\n",
       "      <td>men</td>\n",
       "      <td>0.842202</td>\n",
       "      <td>134.0</td>\n",
       "      <td>112.855072</td>\n",
       "      <td>Mende</td>\n",
       "      <td>men</td>\n",
       "      <td>SLE</td>\n",
       "      <td>men</td>\n",
       "    </tr>\n",
       "    <tr>\n",
       "      <th>2</th>\n",
       "      <td>moh</td>\n",
       "      <td>0.463287</td>\n",
       "      <td>297.0</td>\n",
       "      <td>137.596153</td>\n",
       "      <td>Mohajirs</td>\n",
       "      <td>moh</td>\n",
       "      <td>PAK</td>\n",
       "      <td>moh</td>\n",
       "    </tr>\n",
       "    <tr>\n",
       "      <th>3</th>\n",
       "      <td>moh</td>\n",
       "      <td>0.463287</td>\n",
       "      <td>297.0</td>\n",
       "      <td>137.596153</td>\n",
       "      <td>Mohawk</td>\n",
       "      <td>moh</td>\n",
       "      <td>USA</td>\n",
       "      <td>moh</td>\n",
       "    </tr>\n",
       "    <tr>\n",
       "      <th>4</th>\n",
       "      <td>oji</td>\n",
       "      <td>1.121624</td>\n",
       "      <td>123.0</td>\n",
       "      <td>137.959740</td>\n",
       "      <td>Ojibwe</td>\n",
       "      <td>oji</td>\n",
       "      <td>CAN, USA</td>\n",
       "      <td>oji</td>\n",
       "    </tr>\n",
       "    <tr>\n",
       "      <th>5</th>\n",
       "      <td>sco</td>\n",
       "      <td>0.280097</td>\n",
       "      <td>597.0</td>\n",
       "      <td>167.217739</td>\n",
       "      <td>Scottish (Scots)</td>\n",
       "      <td>sco</td>\n",
       "      <td>ARG, AUS, CAN, CHL, GBR, NZL, USA</td>\n",
       "      <td>sco</td>\n",
       "    </tr>\n",
       "  </tbody>\n",
       "</table>\n",
       "</div>"
      ],
      "text/plain": [
       "  (Actor2EthnicCode, )  (AvgTone, mean)  (AvgTone, len)  (product, )  \\\n",
       "0                  nap         2.322605            46.0   106.839813   \n",
       "1                  men         0.842202           134.0   112.855072   \n",
       "2                  moh         0.463287           297.0   137.596153   \n",
       "3                  moh         0.463287           297.0   137.596153   \n",
       "4                  oji         1.121624           123.0   137.959740   \n",
       "5                  sco         0.280097           597.0   167.217739   \n",
       "\n",
       "  Ethnic Group Name  Code                  Selected Countries  Code  \n",
       "0        Neapolitan   nap                                 ITA   nap  \n",
       "1             Mende   men                                 SLE   men  \n",
       "2          Mohajirs   moh                                 PAK   moh  \n",
       "3            Mohawk   moh                                 USA   moh  \n",
       "4            Ojibwe   oji                            CAN, USA   oji  \n",
       "5  Scottish (Scots)   sco   ARG, AUS, CAN, CHL, GBR, NZL, USA   sco  "
      ]
     },
     "execution_count": 137,
     "metadata": {},
     "output_type": "execute_result"
    }
   ],
   "source": [
    "pos_top_ethnic.merge(ethnic_codes_reference, left_on='Actor2EthnicCode', right_on='Code')"
   ]
  },
  {
   "cell_type": "markdown",
   "metadata": {},
   "source": [
    "### Conclusion - The Scottish people are happy with the US events, while the Sioux (Native Americans) are most badly impacted"
   ]
  }
 ],
 "metadata": {
  "anaconda-cloud": {},
  "kernelspec": {
   "display_name": "Python [conda root]",
   "language": "python",
   "name": "conda-root-py"
  },
  "language_info": {
   "codemirror_mode": {
    "name": "ipython",
    "version": 3
   },
   "file_extension": ".py",
   "mimetype": "text/x-python",
   "name": "python",
   "nbconvert_exporter": "python",
   "pygments_lexer": "ipython3",
   "version": "3.5.2"
  }
 },
 "nbformat": 4,
 "nbformat_minor": 1
}
