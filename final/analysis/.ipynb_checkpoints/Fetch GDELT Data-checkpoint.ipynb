{
 "cells": [
  {
   "cell_type": "markdown",
   "metadata": {},
   "source": [
    "## Fetch GDELT Data"
   ]
  },
  {
   "cell_type": "code",
   "execution_count": 1,
   "metadata": {
    "collapsed": true
   },
   "outputs": [],
   "source": [
    "import requests\n",
    "import lxml.html as lh\n",
    "import os\n",
    "import zipfile\n",
    "import glob\n",
    "import operator\n",
    "import pandas as pd"
   ]
  },
  {
   "cell_type": "markdown",
   "metadata": {},
   "source": [
    "### 1. Identify 2017 file links from the data source website"
   ]
  },
  {
   "cell_type": "code",
   "execution_count": 2,
   "metadata": {
    "collapsed": false
   },
   "outputs": [
    {
     "name": "stdout",
     "output_type": "stream",
     "text": [
      "Total 2017 files identified: 107\n",
      "Sample of file names: ['20170417.export.CSV.zip', '20170416.export.CSV.zip', '20170415.export.CSV.zip']\n"
     ]
    }
   ],
   "source": [
    "year_to_analyze = '2017'\n",
    "# fetch all file names from source website\n",
    "gdelt_data_links = 'http://data.gdeltproject.org/events/'\n",
    "\n",
    "response = requests.get(gdelt_data_links + 'index.html')\n",
    "html_content = lh.fromstring(response.content)\n",
    "all_links = html_content.xpath(\"//*/ul/li/a/@href\")\n",
    "\n",
    "# identify 2017 files\n",
    "file_list = [x for x in all_links if x[0:4]==year_to_analyze]\n",
    "print('Total 2017 files identified:', len(file_list))\n",
    "print('Sample of file names:', file_list[:3])"
   ]
  },
  {
   "cell_type": "markdown",
   "metadata": {},
   "source": [
    "### 2. Fetch Data and Filter data for specific countries"
   ]
  },
  {
   "cell_type": "code",
   "execution_count": 3,
   "metadata": {
    "collapsed": false
   },
   "outputs": [],
   "source": [
    "pwd = os.getcwd()\n",
    "data_dir = pwd + '/../data/'\n",
    "us_code = 'US'\n",
    "countries_interested_codes = set(['UK', 'CA', 'CH', 'MX', 'IN'])\n"
   ]
  },
  {
   "cell_type": "markdown",
   "metadata": {},
   "source": [
    "#### 2.a Download the 2017 zip files"
   ]
  },
  {
   "cell_type": "code",
   "execution_count": 4,
   "metadata": {
    "collapsed": false
   },
   "outputs": [],
   "source": [
    "for file_name in file_list:\n",
    "    file_to_save = data_dir + 'compressed/' + file_name\n",
    "    # Avoid downloading if already exists\n",
    "    if not os.path.isfile(file_to_save): \n",
    "        response = requests.get(gdelt_data_links + file_name)\n",
    "        with open(file_to_save, 'wb') as f:\n",
    "            f.write(response.content) \n",
    "print('Compressed zip files are saved.')            "
   ]
  },
  {
   "cell_type": "markdown",
   "metadata": {},
   "source": [
    "#### 2.b Extract zip files and filter data for specific countries"
   ]
  },
  {
   "cell_type": "code",
   "execution_count": 5,
   "metadata": {
    "collapsed": false
   },
   "outputs": [
    {
     "name": "stdout",
     "output_type": "stream",
     "text": [
      "Filtered files are saved in dir: /Users/tanya/Documents/PARITOSH/pythonStuff/workingCopy/PythonDataAnalysis/final/analysis/../data/extracted/\n"
     ]
    }
   ],
   "source": [
    "for zip_name in glob.glob(data_dir + 'compressed/*.zip'):\n",
    "    #print('extracting:', zip_name)\n",
    "    z = zipfile.ZipFile(file = zip_name, mode = 'r')    \n",
    "    z.extractall(path = data_dir + 'extracted/')\n",
    "    # open the extracted file and filter lines\n",
    "    csv_file_name = zip_name.replace('compressed', 'extracted')[:-4]\n",
    "    filtered_file_name = csv_file_name[:-7] + 'filtered.csv'\n",
    "    with open(csv_file_name, mode='r') as extracted_file, open(filtered_file_name, mode='w') as filtered_file:\n",
    "        #print('using:', extracted_file, 'writing to:', filtered_file)\n",
    "        for line in extracted_file:\n",
    "            # extract lines with our interest country code\n",
    "            countries_involved = operator.itemgetter(37, 44, 51)(line.split('\\t'))\n",
    "            if us_code in countries_involved:  \n",
    "                other_country_code = set(countries_involved).intersection(countries_interested_codes)\n",
    "                if other_country_code:\n",
    "                    filtered_file.write(line)\n",
    "                                        \n",
    "\n",
    "    # delete the temporary extracted file\n",
    "    os.remove(csv_file_name)\n",
    "    \n",
    "print('Filtered files are saved in dir:', data_dir + 'extracted/')"
   ]
  },
  {
   "cell_type": "markdown",
   "metadata": {
    "collapsed": false
   },
   "source": [
    "#### 2.c Convert the File contents to Dataframes to allow flexible operations "
   ]
  },
  {
   "cell_type": "code",
   "execution_count": 6,
   "metadata": {
    "collapsed": false
   },
   "outputs": [
    {
     "name": "stdout",
     "output_type": "stream",
     "text": [
      "Combined pickled dataframe is saved at: /Users/tanya/Documents/PARITOSH/pythonStuff/workingCopy/PythonDataAnalysis/final/analysis/../data/pickled/gdelt.pickle\n"
     ]
    }
   ],
   "source": [
    "# Get column headers from the helper file (under /extra dir)\n",
    "col_headers = pd.read_excel(data_dir + '../extra/CSV.header.fieldids.xlsx', sheetname='Sheet1', \n",
    "                         index_col='Column ID', parse_cols=1)['Field Name']\n",
    "filtered_csv_files = glob.glob(data_dir + 'extracted/*')\n",
    "dfs = []\n",
    "for current_file in filtered_csv_files:\n",
    "    dfs.append(pd.read_csv(current_file, sep='\\t', header=None, dtype=str,\n",
    "                              names=col_headers, index_col=['GLOBALEVENTID']))\n",
    "\n",
    "combined_df = pd.concat(dfs)\n",
    "combined_df.to_pickle(data_dir + 'pickled/gdelt.pickle')    \n",
    "print('Combined pickled dataframe is saved at:', data_dir + 'pickled/gdelt.pickle')"
   ]
  },
  {
   "cell_type": "code",
   "execution_count": null,
   "metadata": {
    "collapsed": false
   },
   "outputs": [],
   "source": []
  },
  {
   "cell_type": "code",
   "execution_count": null,
   "metadata": {
    "collapsed": true
   },
   "outputs": [],
   "source": []
  }
 ],
 "metadata": {
  "anaconda-cloud": {},
  "kernelspec": {
   "display_name": "Python [conda root]",
   "language": "python",
   "name": "conda-root-py"
  },
  "language_info": {
   "codemirror_mode": {
    "name": "ipython",
    "version": 3
   },
   "file_extension": ".py",
   "mimetype": "text/x-python",
   "name": "python",
   "nbconvert_exporter": "python",
   "pygments_lexer": "ipython3",
   "version": "3.5.2"
  }
 },
 "nbformat": 4,
 "nbformat_minor": 1
}
