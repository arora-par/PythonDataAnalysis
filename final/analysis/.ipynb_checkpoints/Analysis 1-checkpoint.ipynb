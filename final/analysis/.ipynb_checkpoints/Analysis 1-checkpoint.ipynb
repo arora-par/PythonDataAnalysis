{
 "cells": [
  {
   "cell_type": "markdown",
   "metadata": {},
   "source": [
    "## Analysis 1 - US relations with other countries (mainly UK, China, Canada, Mexico and India)"
   ]
  },
  {
   "cell_type": "code",
   "execution_count": 1,
   "metadata": {
    "collapsed": false
   },
   "outputs": [],
   "source": [
    "import numpy as np\n",
    "import pandas as pd\n",
    "import matplotlib\n",
    "from pandas.tools import plotting\n",
    "import seaborn as sns\n",
    "import matplotlib.pyplot as plt\n",
    "import os.path\n",
    "import glob\n",
    "import zipfile\n",
    "import operator\n",
    "%matplotlib inline"
   ]
  },
  {
   "cell_type": "markdown",
   "metadata": {},
   "source": [
    "#### Check if the Dataframe pickle exists. If not, create it using downloaded compressed files."
   ]
  },
  {
   "cell_type": "code",
   "execution_count": 5,
   "metadata": {
    "collapsed": false
   },
   "outputs": [],
   "source": [
    "def prepareUSRelationsFilteredCSVs(data_dir, compressed_path, extracted_path, list_of_other_countries):\n",
    "    US_code = 'US'\n",
    "\n",
    "    for zip_name in glob.glob(compressed_path + '/*.zip'):\n",
    "        #print('extracting:', zip_name)\n",
    "        z = zipfile.ZipFile(file = zip_name, mode = 'r')    \n",
    "        z.extractall(path = extracted_path)\n",
    "        # open the extracted file and filter lines\n",
    "        csv_file_name = zip_name.replace('compressed', 'extracted/analysis1')[:-4]\n",
    "        filtered_file_name = csv_file_name[:-7] + 'filtered.csv'\n",
    "        with open(csv_file_name, mode='r') as extracted_file, open(filtered_file_name, mode='w') as filtered_file:\n",
    "            #print('using:', extracted_file, 'writing to:', filtered_file)\n",
    "            for line in extracted_file:\n",
    "                # extract lines with our interest country code\n",
    "                countries_involved = operator.itemgetter(37, 44, 51)(line.split('\\t'))\n",
    "                if US_code in countries_involved:  \n",
    "                    other_country_code = set(countries_involved).intersection(set(list_of_other_countries))\n",
    "                    if other_country_code:\n",
    "                        filtered_file.write(line)\n",
    "\n",
    "        # delete the temporary extracted file\n",
    "        os.remove(csv_file_name)\n",
    "    \n",
    "    print('Filtered files are saved in dir:', extracted_path)"
   ]
  },
  {
   "cell_type": "code",
   "execution_count": 6,
   "metadata": {
    "collapsed": true
   },
   "outputs": [],
   "source": [
    "def prepareDataFrameFromFilteredCSVs(data_dir, extracted_path, pickle_path, list_of_other_countries):\n",
    "    # Get column headers from the helper file (available under /extra directory)\n",
    "    col_headers = pd.read_excel(data_dir + '../extra/CSV.header.fieldids.xlsx', sheetname='Sheet1', \n",
    "                             index_col='Column ID', parse_cols=1)['Field Name']\n",
    "    filtered_csv_files = glob.glob(extracted_path + '/*')\n",
    "    dfs = []\n",
    "    for current_file in filtered_csv_files:\n",
    "        dfs.append(pd.read_csv(current_file, sep='\\t', header=None, dtype=str,\n",
    "                                  names=col_headers, index_col=['GLOBALEVENTID']))\n",
    "\n",
    "    combined_df = pd.concat(dfs)\n",
    "    combined_df.to_pickle(pickle_path)    \n",
    "    print('Combined pickled dataframe is saved at:', pickle_path)"
   ]
  },
  {
   "cell_type": "code",
   "execution_count": 7,
   "metadata": {
    "collapsed": false
   },
   "outputs": [
    {
     "name": "stdout",
     "output_type": "stream",
     "text": [
      "Filtered files are saved in dir: ../data/extracted/analysis1\n",
      "Combined pickled dataframe is saved at: ../data/pickled/analysis1/gdelt.pickle\n",
      "Pickle file created. Ready to perform analysis.\n"
     ]
    }
   ],
   "source": [
    "data_dir = '../data/'\n",
    "pickle_path =  data_dir +'pickled/analysis1/gdelt.pickle'\n",
    "compressed_path = data_dir + 'compressed/'\n",
    "extracted_path = data_dir + 'extracted/analysis1'\n",
    "list_of_other_countries = ['UK','CA','CH','MX','IN']\n",
    "\n",
    "if not os.path.exists(pickle_path):\n",
    "    prepareUSRelationsFilteredCSVs(data_dir, compressed_path, extracted_path, list_of_other_countries)\n",
    "    prepareDataFrameFromFilteredCSVs(data_dir, extracted_path, pickle_path, list_of_other_countries)    \n",
    "    print('Pickle file created. Ready to perform analysis.')\n",
    "else:\n",
    "    print('Pickle file exists. Ready to perform analysis.')"
   ]
  },
  {
   "cell_type": "markdown",
   "metadata": {},
   "source": [
    "#### Read the pickle file and take the columns required for this analysis."
   ]
  },
  {
   "cell_type": "code",
   "execution_count": null,
   "metadata": {
    "collapsed": false
   },
   "outputs": [],
   "source": [
    "df = pd.read_pickle(pickle_path)\n",
    "print(df.columns)"
   ]
  },
  {
   "cell_type": "code",
   "execution_count": null,
   "metadata": {
    "collapsed": false
   },
   "outputs": [],
   "source": [
    "df = df.reset_index()\n",
    "df = df[['SQLDATE','ActionGeo_CountryCode','Actor1Geo_CountryCode','Actor1Code', 'Actor1Name','Actor1Type1Code',  'Actor1EthnicCode', 'Actor1Religion1Code','Actor2Geo_CountryCode','Actor2Code', 'Actor2Name', 'Actor2Type1Code', 'Actor2EthnicCode', 'Actor2Religion1Code','AvgTone','NumArticles','GoldsteinScale','QuadClass','EventRootCode','IsRootEvent', 'MonthYear', 'Year']]"
   ]
  },
  {
   "cell_type": "markdown",
   "metadata": {},
   "source": [
    "#### Convert the required columns to numeric types"
   ]
  },
  {
   "cell_type": "code",
   "execution_count": null,
   "metadata": {
    "collapsed": true
   },
   "outputs": [],
   "source": [
    "df[['AvgTone','NumArticles', 'GoldsteinScale', 'IsRootEvent', 'QuadClass', 'Year', 'MonthYear']] = df[['AvgTone','NumArticles', 'GoldsteinScale', 'IsRootEvent', 'QuadClass', 'Year', 'MonthYear']].apply(pd.to_numeric)"
   ]
  },
  {
   "cell_type": "code",
   "execution_count": null,
   "metadata": {
    "collapsed": false
   },
   "outputs": [],
   "source": [
    "def findOtherCountry(row):\n",
    "    US_code = set(['US', 'USA'])\n",
    "    other_code = set(row[['ActionGeo_CountryCode', 'Actor2Geo_CountryCode', 'Actor2Geo_CountryCode']].dropna().values)\n",
    "    other_code = other_code.difference(US_code)\n",
    "    other_code = list(other_code)\n",
    "    if other_code:\n",
    "        return other_code[0]\n",
    "    else:\n",
    "        return np.nan\n"
   ]
  },
  {
   "cell_type": "code",
   "execution_count": null,
   "metadata": {
    "collapsed": false
   },
   "outputs": [],
   "source": [
    "df['OtherCountry'] = df.apply(lambda x:findOtherCountry(x),axis=1)\n",
    "df.head()"
   ]
  },
  {
   "cell_type": "markdown",
   "metadata": {},
   "source": [
    "#### Convert the required columns to numeric types"
   ]
  },
  {
   "cell_type": "code",
   "execution_count": null,
   "metadata": {
    "collapsed": false
   },
   "outputs": [],
   "source": [
    "df['SQLDATE'] = pd.to_datetime(df['SQLDATE'],infer_datetime_format=True)"
   ]
  },
  {
   "cell_type": "markdown",
   "metadata": {},
   "source": [
    "#### Handle categorical variables"
   ]
  },
  {
   "cell_type": "code",
   "execution_count": null,
   "metadata": {
    "collapsed": true
   },
   "outputs": [],
   "source": [
    "df['QuadClass_Cat'] = df['QuadClass'].astype(\"category\", categories=[1,2,3,4], ordered=False)"
   ]
  },
  {
   "cell_type": "code",
   "execution_count": null,
   "metadata": {
    "collapsed": false
   },
   "outputs": [],
   "source": [
    "df.describe()"
   ]
  },
  {
   "cell_type": "markdown",
   "metadata": {},
   "source": [
    "#### Filter out rows other than for Year 2017"
   ]
  },
  {
   "cell_type": "code",
   "execution_count": null,
   "metadata": {
    "collapsed": true
   },
   "outputs": [],
   "source": [
    "df = df[df['Year'] == 2017]"
   ]
  },
  {
   "cell_type": "markdown",
   "metadata": {},
   "source": [
    "#### Scatter Matrix to study the relationship between 'AvgTone', 'GoldsteinScale', 'NumArticles'"
   ]
  },
  {
   "cell_type": "code",
   "execution_count": null,
   "metadata": {
    "collapsed": false
   },
   "outputs": [],
   "source": [
    "plotting.scatter_matrix(df[['AvgTone', 'GoldsteinScale', 'NumArticles']]) \n",
    "plt.savefig('analysis1/scatter_matrix.png')"
   ]
  },
  {
   "cell_type": "markdown",
   "metadata": {},
   "source": [
    "#### Group by countries involved"
   ]
  },
  {
   "cell_type": "code",
   "execution_count": null,
   "metadata": {
    "collapsed": false
   },
   "outputs": [],
   "source": [
    "groupby_othercountry = df.groupby('OtherCountry')\n",
    "groupby_othercountry_agg = groupby_othercountry.agg({'NumArticles':sum, 'AvgTone':sum})\n",
    "groupby_othercountry_agg_sorted = groupby_othercountry_agg.sort(columns='AvgTone')\n",
    "groupby_othercountry_agg_sorted_head = groupby_othercountry_agg_sorted.head(5)\n",
    "groupby_othercountry_agg_sorted_head"
   ]
  },
  {
   "cell_type": "markdown",
   "metadata": {},
   "source": [
    "### Comparative study of US relations with other countries"
   ]
  },
  {
   "cell_type": "code",
   "execution_count": null,
   "metadata": {
    "collapsed": false
   },
   "outputs": [],
   "source": [
    "#top_other_countries = list(groupby_othercountry_agg_sorted_head.reset_index()['OtherCountry'])\n",
    "top_other_countries = ['UK', 'CA', 'CH', 'MX', 'IN']\n",
    "df_only_top_other_countries = df.loc[df['OtherCountry'].isin(top_other_countries)]\n",
    "df_only_top_other_countries.head()"
   ]
  },
  {
   "cell_type": "code",
   "execution_count": null,
   "metadata": {
    "collapsed": false
   },
   "outputs": [],
   "source": [
    "sns.violinplot(x=\"OtherCountry\", y=\"AvgTone\", data=df_only_top_other_countries)\n",
    "plt.savefig('analysis1/violinplot.png')"
   ]
  },
  {
   "cell_type": "markdown",
   "metadata": {},
   "source": [
    "#### The cumulative sum of AvgTone gives the real picture of the state of these relationships"
   ]
  },
  {
   "cell_type": "code",
   "execution_count": null,
   "metadata": {
    "collapsed": false
   },
   "outputs": [],
   "source": [
    "# Set ticks to months\n",
    "top_only_groupby_othercountry = df_only_top_other_countries.groupby('OtherCountry')\n",
    "f, axarr = plt.subplots(3,2, sharex=True, sharey=True)\n",
    "counter = 0\n",
    "for name, group in top_only_groupby_othercountry:\n",
    "    group['AvgToneCumSum'] = group['AvgTone'].cumsum()\n",
    "    row = int(counter / 2)\n",
    "    col = counter % 2    \n",
    "    axarr[row][col].plot(group['AvgToneCumSum'])\n",
    "    axarr[row][col].set_title(name)\n",
    "    axarr[row][col].set_ylabel('Cum. AvgTone')\n",
    "    axarr[row][col].xaxis.set_ticks(np.arange(0, 400000, 100000))\n",
    "    axarr[row][col].yaxis.set_ticks(np.arange(-120000, 20000, 40000))\n",
    "    counter = counter + 1\n",
    "axarr[2][0].set_xlabel('No of events')\n",
    "axarr[2][1].set_xlabel('No of events')\n",
    "\n",
    "plt.savefig('analysis1/comparitive_decline.png')\n"
   ]
  },
  {
   "cell_type": "code",
   "execution_count": null,
   "metadata": {
    "collapsed": true
   },
   "outputs": [],
   "source": []
  }
 ],
 "metadata": {
  "anaconda-cloud": {},
  "kernelspec": {
   "display_name": "Python [conda root]",
   "language": "python",
   "name": "conda-root-py"
  },
  "language_info": {
   "codemirror_mode": {
    "name": "ipython",
    "version": 3
   },
   "file_extension": ".py",
   "mimetype": "text/x-python",
   "name": "python",
   "nbconvert_exporter": "python",
   "pygments_lexer": "ipython3",
   "version": "3.5.2"
  }
 },
 "nbformat": 4,
 "nbformat_minor": 1
}
