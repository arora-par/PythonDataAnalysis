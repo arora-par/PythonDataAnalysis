{
 "cells": [
  {
   "cell_type": "markdown",
   "metadata": {},
   "source": [
    "## Fetch GDELT Data"
   ]
  },
  {
   "cell_type": "code",
   "execution_count": 1,
   "metadata": {
    "collapsed": true
   },
   "outputs": [],
   "source": [
    "import requests\n",
    "import lxml.html as lh\n",
    "import os\n",
    "import zipfile\n",
    "import glob\n",
    "import operator\n",
    "import pandas as pd"
   ]
  },
  {
   "cell_type": "markdown",
   "metadata": {},
   "source": [
    "### 1. Identify 2017 file links from the data source website"
   ]
  },
  {
   "cell_type": "code",
   "execution_count": 2,
   "metadata": {
    "collapsed": false
   },
   "outputs": [
    {
     "name": "stdout",
     "output_type": "stream",
     "text": [
      "Total 2017 files identified: 107\n",
      "Sample of file names: ['20170417.export.CSV.zip', '20170416.export.CSV.zip', '20170415.export.CSV.zip']\n"
     ]
    }
   ],
   "source": [
    "year_to_analyze = '2017'\n",
    "# fetch all file names from source website\n",
    "gdelt_data_links = 'http://data.gdeltproject.org/events/'\n",
    "\n",
    "response = requests.get(gdelt_data_links + 'index.html')\n",
    "html_content = lh.fromstring(response.content)\n",
    "all_links = html_content.xpath(\"//*/ul/li/a/@href\")\n",
    "\n",
    "# identify 2017 files\n",
    "file_list = [x for x in all_links if x[0:4]==year_to_analyze]\n",
    "print('Total 2017 files identified:', len(file_list))\n",
    "print('Sample of file names:', file_list[:3])"
   ]
  },
  {
   "cell_type": "markdown",
   "metadata": {},
   "source": [
    "### 2. Download Data using the links obtained"
   ]
  },
  {
   "cell_type": "code",
   "execution_count": 3,
   "metadata": {
    "collapsed": false
   },
   "outputs": [],
   "source": [
    "pwd = os.getcwd()\n",
    "data_dir = pwd + '/../data/'\n",
    "us_code = 'US'\n",
    "countries_interested_codes = set(['UK', 'CA', 'CH', 'MX', 'IN'])\n"
   ]
  },
  {
   "cell_type": "code",
   "execution_count": 4,
   "metadata": {
    "collapsed": false
   },
   "outputs": [],
   "source": [
    "for file_name in file_list:\n",
    "    file_to_save = data_dir + 'compressed/' + file_name\n",
    "    # Avoid downloading if already exists\n",
    "    if not os.path.isfile(file_to_save): \n",
    "        response = requests.get(gdelt_data_links + file_name)\n",
    "        with open(file_to_save, 'wb') as f:\n",
    "            f.write(response.content) \n",
    "print('Compressed zip files are saved at', data_dir + 'compressed/')            "
   ]
  },
  {
   "cell_type": "code",
   "execution_count": null,
   "metadata": {
    "collapsed": false
   },
   "outputs": [],
   "source": []
  },
  {
   "cell_type": "code",
   "execution_count": null,
   "metadata": {
    "collapsed": true
   },
   "outputs": [],
   "source": []
  }
 ],
 "metadata": {
  "anaconda-cloud": {},
  "kernelspec": {
   "display_name": "Python [conda root]",
   "language": "python",
   "name": "conda-root-py"
  },
  "language_info": {
   "codemirror_mode": {
    "name": "ipython",
    "version": 3
   },
   "file_extension": ".py",
   "mimetype": "text/x-python",
   "name": "python",
   "nbconvert_exporter": "python",
   "pygments_lexer": "ipython3",
   "version": "3.5.2"
  }
 },
 "nbformat": 4,
 "nbformat_minor": 1
}
