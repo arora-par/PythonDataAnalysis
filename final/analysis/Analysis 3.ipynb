{
 "cells": [
  {
   "cell_type": "markdown",
   "metadata": {
    "collapsed": true
   },
   "source": [
    "## Analysis 3 - Stability Trend among countries due to US actions"
   ]
  },
  {
   "cell_type": "code",
   "execution_count": 1,
   "metadata": {
    "collapsed": true
   },
   "outputs": [],
   "source": [
    "import numpy as np\n",
    "import pandas as pd\n",
    "import matplotlib\n",
    "from pandas.tools import plotting\n",
    "import seaborn as sns\n",
    "import matplotlib.pyplot as plt\n",
    "import os.path\n",
    "import glob\n",
    "import zipfile\n",
    "import operator\n",
    "%matplotlib inline"
   ]
  },
  {
   "cell_type": "code",
   "execution_count": 2,
   "metadata": {
    "collapsed": false
   },
   "outputs": [
    {
     "name": "stdout",
     "output_type": "stream",
     "text": [
      "Index(['SQLDATE', 'MonthYear', 'Year', 'FractionDate', 'Actor1Code',\n",
      "       'Actor1Name', 'Actor1CountryCode', 'Actor1KnownGroupCode',\n",
      "       'Actor1EthnicCode', 'Actor1Religion1Code', 'Actor1Religion2Code',\n",
      "       'Actor1Type1Code', 'Actor1Type2Code', 'Actor1Type3Code', 'Actor2Code',\n",
      "       'Actor2Name', 'Actor2CountryCode', 'Actor2KnownGroupCode',\n",
      "       'Actor2EthnicCode', 'Actor2Religion1Code', 'Actor2Religion2Code',\n",
      "       'Actor2Type1Code', 'Actor2Type2Code', 'Actor2Type3Code', 'IsRootEvent',\n",
      "       'EventCode', 'EventBaseCode', 'EventRootCode', 'QuadClass',\n",
      "       'GoldsteinScale', 'NumMentions', 'NumSources', 'NumArticles', 'AvgTone',\n",
      "       'Actor1Geo_Type', 'Actor1Geo_FullName', 'Actor1Geo_CountryCode',\n",
      "       'Actor1Geo_ADM1Code', 'Actor1Geo_Lat', 'Actor1Geo_Long',\n",
      "       'Actor1Geo_FeatureID', 'Actor2Geo_Type', 'Actor2Geo_FullName',\n",
      "       'Actor2Geo_CountryCode', 'Actor2Geo_ADM1Code', 'Actor2Geo_Lat',\n",
      "       'Actor2Geo_Long', 'Actor2Geo_FeatureID', 'ActionGeo_Type',\n",
      "       'ActionGeo_FullName', 'ActionGeo_CountryCode', 'ActionGeo_ADM1Code',\n",
      "       'ActionGeo_Lat', 'ActionGeo_Long', 'ActionGeo_FeatureID', 'DATEADDED',\n",
      "       'SOURCEURL'],\n",
      "      dtype='object')\n"
     ]
    }
   ],
   "source": [
    "# Read the same pickle file as analysis1\n",
    "data_dir = '../data/'\n",
    "pickle_path =  data_dir +'pickled/analysis1/gdelt.pickle'\n",
    "df = pd.read_pickle(pickle_path)\n",
    "print(df.columns)"
   ]
  },
  {
   "cell_type": "code",
   "execution_count": 3,
   "metadata": {
    "collapsed": true
   },
   "outputs": [],
   "source": [
    "df = df.reset_index()\n",
    "df = df[['SQLDATE','ActionGeo_CountryCode','Actor1Geo_CountryCode','Actor1Code', 'Actor1Name','Actor1Type1Code',  'Actor1EthnicCode', 'Actor1Religion1Code','Actor2Geo_CountryCode','Actor2Code', 'Actor2Name', 'Actor2Type1Code', 'Actor2EthnicCode', 'Actor2Religion1Code','AvgTone','NumArticles','GoldsteinScale','QuadClass','EventRootCode','IsRootEvent', 'MonthYear', 'Year']]"
   ]
  },
  {
   "cell_type": "markdown",
   "metadata": {},
   "source": [
    "#### Convert the required columns to numeric types\n"
   ]
  },
  {
   "cell_type": "code",
   "execution_count": 4,
   "metadata": {
    "collapsed": true
   },
   "outputs": [],
   "source": [
    "df[['AvgTone','NumArticles', 'GoldsteinScale', 'IsRootEvent', 'QuadClass', 'Year', 'MonthYear']] = df[['AvgTone','NumArticles', 'GoldsteinScale', 'IsRootEvent', 'QuadClass', 'Year', 'MonthYear']].apply(pd.to_numeric)"
   ]
  },
  {
   "cell_type": "code",
   "execution_count": 5,
   "metadata": {
    "collapsed": true
   },
   "outputs": [],
   "source": [
    "def findOtherCountry(row):\n",
    "    US_code = set(['US', 'USA'])\n",
    "    other_code = set(row[['ActionGeo_CountryCode', 'Actor2Geo_CountryCode', 'Actor2Geo_CountryCode']].dropna().values)\n",
    "    other_code = other_code.difference(US_code)\n",
    "    other_code = list(other_code)\n",
    "    if other_code:\n",
    "        return other_code[0]\n",
    "    else:\n",
    "        return np.nan\n",
    "\n"
   ]
  },
  {
   "cell_type": "code",
   "execution_count": 6,
   "metadata": {
    "collapsed": false
   },
   "outputs": [
    {
     "data": {
      "text/html": [
       "<div>\n",
       "<table border=\"1\" class=\"dataframe\">\n",
       "  <thead>\n",
       "    <tr style=\"text-align: right;\">\n",
       "      <th></th>\n",
       "      <th>SQLDATE</th>\n",
       "      <th>ActionGeo_CountryCode</th>\n",
       "      <th>Actor1Geo_CountryCode</th>\n",
       "      <th>Actor1Code</th>\n",
       "      <th>Actor1Name</th>\n",
       "      <th>Actor1Type1Code</th>\n",
       "      <th>Actor1EthnicCode</th>\n",
       "      <th>Actor1Religion1Code</th>\n",
       "      <th>Actor2Geo_CountryCode</th>\n",
       "      <th>Actor2Code</th>\n",
       "      <th>...</th>\n",
       "      <th>Actor2Religion1Code</th>\n",
       "      <th>AvgTone</th>\n",
       "      <th>NumArticles</th>\n",
       "      <th>GoldsteinScale</th>\n",
       "      <th>QuadClass</th>\n",
       "      <th>EventRootCode</th>\n",
       "      <th>IsRootEvent</th>\n",
       "      <th>MonthYear</th>\n",
       "      <th>Year</th>\n",
       "      <th>OtherCountry</th>\n",
       "    </tr>\n",
       "  </thead>\n",
       "  <tbody>\n",
       "    <tr>\n",
       "      <th>0</th>\n",
       "      <td>20170101</td>\n",
       "      <td>US</td>\n",
       "      <td>NaN</td>\n",
       "      <td>NaN</td>\n",
       "      <td>NaN</td>\n",
       "      <td>NaN</td>\n",
       "      <td>NaN</td>\n",
       "      <td>NaN</td>\n",
       "      <td>CA</td>\n",
       "      <td>CAN</td>\n",
       "      <td>...</td>\n",
       "      <td>NaN</td>\n",
       "      <td>-2.799552</td>\n",
       "      <td>1</td>\n",
       "      <td>4.0</td>\n",
       "      <td>1</td>\n",
       "      <td>03</td>\n",
       "      <td>0</td>\n",
       "      <td>201701</td>\n",
       "      <td>2017</td>\n",
       "      <td>CA</td>\n",
       "    </tr>\n",
       "    <tr>\n",
       "      <th>1</th>\n",
       "      <td>20170101</td>\n",
       "      <td>US</td>\n",
       "      <td>NaN</td>\n",
       "      <td>NaN</td>\n",
       "      <td>NaN</td>\n",
       "      <td>NaN</td>\n",
       "      <td>NaN</td>\n",
       "      <td>NaN</td>\n",
       "      <td>CA</td>\n",
       "      <td>USA</td>\n",
       "      <td>...</td>\n",
       "      <td>NaN</td>\n",
       "      <td>-5.400458</td>\n",
       "      <td>8</td>\n",
       "      <td>-9.0</td>\n",
       "      <td>4</td>\n",
       "      <td>18</td>\n",
       "      <td>0</td>\n",
       "      <td>201701</td>\n",
       "      <td>2017</td>\n",
       "      <td>CA</td>\n",
       "    </tr>\n",
       "    <tr>\n",
       "      <th>2</th>\n",
       "      <td>20170101</td>\n",
       "      <td>US</td>\n",
       "      <td>NaN</td>\n",
       "      <td>NaN</td>\n",
       "      <td>NaN</td>\n",
       "      <td>NaN</td>\n",
       "      <td>NaN</td>\n",
       "      <td>NaN</td>\n",
       "      <td>CA</td>\n",
       "      <td>USA</td>\n",
       "      <td>...</td>\n",
       "      <td>NaN</td>\n",
       "      <td>-5.400458</td>\n",
       "      <td>8</td>\n",
       "      <td>-10.0</td>\n",
       "      <td>4</td>\n",
       "      <td>19</td>\n",
       "      <td>0</td>\n",
       "      <td>201701</td>\n",
       "      <td>2017</td>\n",
       "      <td>CA</td>\n",
       "    </tr>\n",
       "    <tr>\n",
       "      <th>3</th>\n",
       "      <td>20170101</td>\n",
       "      <td>US</td>\n",
       "      <td>CA</td>\n",
       "      <td>CAN</td>\n",
       "      <td>CANADA</td>\n",
       "      <td>NaN</td>\n",
       "      <td>NaN</td>\n",
       "      <td>NaN</td>\n",
       "      <td>NaN</td>\n",
       "      <td>NaN</td>\n",
       "      <td>...</td>\n",
       "      <td>NaN</td>\n",
       "      <td>-0.603065</td>\n",
       "      <td>3</td>\n",
       "      <td>0.0</td>\n",
       "      <td>1</td>\n",
       "      <td>01</td>\n",
       "      <td>1</td>\n",
       "      <td>201701</td>\n",
       "      <td>2017</td>\n",
       "      <td>NaN</td>\n",
       "    </tr>\n",
       "    <tr>\n",
       "      <th>4</th>\n",
       "      <td>20170101</td>\n",
       "      <td>US</td>\n",
       "      <td>CA</td>\n",
       "      <td>CAN</td>\n",
       "      <td>CANADA</td>\n",
       "      <td>NaN</td>\n",
       "      <td>NaN</td>\n",
       "      <td>NaN</td>\n",
       "      <td>NaN</td>\n",
       "      <td>NaN</td>\n",
       "      <td>...</td>\n",
       "      <td>NaN</td>\n",
       "      <td>-2.793463</td>\n",
       "      <td>31</td>\n",
       "      <td>4.0</td>\n",
       "      <td>1</td>\n",
       "      <td>03</td>\n",
       "      <td>0</td>\n",
       "      <td>201701</td>\n",
       "      <td>2017</td>\n",
       "      <td>NaN</td>\n",
       "    </tr>\n",
       "  </tbody>\n",
       "</table>\n",
       "<p>5 rows × 23 columns</p>\n",
       "</div>"
      ],
      "text/plain": [
       "    SQLDATE ActionGeo_CountryCode Actor1Geo_CountryCode Actor1Code Actor1Name  \\\n",
       "0  20170101                    US                   NaN        NaN        NaN   \n",
       "1  20170101                    US                   NaN        NaN        NaN   \n",
       "2  20170101                    US                   NaN        NaN        NaN   \n",
       "3  20170101                    US                    CA        CAN     CANADA   \n",
       "4  20170101                    US                    CA        CAN     CANADA   \n",
       "\n",
       "  Actor1Type1Code Actor1EthnicCode Actor1Religion1Code Actor2Geo_CountryCode  \\\n",
       "0             NaN              NaN                 NaN                    CA   \n",
       "1             NaN              NaN                 NaN                    CA   \n",
       "2             NaN              NaN                 NaN                    CA   \n",
       "3             NaN              NaN                 NaN                   NaN   \n",
       "4             NaN              NaN                 NaN                   NaN   \n",
       "\n",
       "  Actor2Code      ...      Actor2Religion1Code   AvgTone NumArticles  \\\n",
       "0        CAN      ...                      NaN -2.799552           1   \n",
       "1        USA      ...                      NaN -5.400458           8   \n",
       "2        USA      ...                      NaN -5.400458           8   \n",
       "3        NaN      ...                      NaN -0.603065           3   \n",
       "4        NaN      ...                      NaN -2.793463          31   \n",
       "\n",
       "  GoldsteinScale  QuadClass  EventRootCode  IsRootEvent  MonthYear  Year  \\\n",
       "0            4.0          1             03            0     201701  2017   \n",
       "1           -9.0          4             18            0     201701  2017   \n",
       "2          -10.0          4             19            0     201701  2017   \n",
       "3            0.0          1             01            1     201701  2017   \n",
       "4            4.0          1             03            0     201701  2017   \n",
       "\n",
       "   OtherCountry  \n",
       "0            CA  \n",
       "1            CA  \n",
       "2            CA  \n",
       "3           NaN  \n",
       "4           NaN  \n",
       "\n",
       "[5 rows x 23 columns]"
      ]
     },
     "execution_count": 6,
     "metadata": {},
     "output_type": "execute_result"
    }
   ],
   "source": [
    "df['OtherCountry'] = df.apply(lambda x:findOtherCountry(x),axis=1)\n",
    "df.head()"
   ]
  },
  {
   "cell_type": "code",
   "execution_count": 7,
   "metadata": {
    "collapsed": true
   },
   "outputs": [],
   "source": [
    "df['SQLDATE'] = pd.to_datetime(df['SQLDATE'],infer_datetime_format=True)"
   ]
  },
  {
   "cell_type": "markdown",
   "metadata": {},
   "source": [
    "#### Handle categorical variables"
   ]
  },
  {
   "cell_type": "code",
   "execution_count": 8,
   "metadata": {
    "collapsed": false
   },
   "outputs": [
    {
     "name": "stderr",
     "output_type": "stream",
     "text": [
      "/Users/tanya/anaconda3/lib/python3.5/site-packages/numpy/lib/function_base.py:3834: RuntimeWarning: Invalid value encountered in percentile\n",
      "  RuntimeWarning)\n"
     ]
    },
    {
     "data": {
      "text/html": [
       "<div>\n",
       "<table border=\"1\" class=\"dataframe\">\n",
       "  <thead>\n",
       "    <tr style=\"text-align: right;\">\n",
       "      <th></th>\n",
       "      <th>AvgTone</th>\n",
       "      <th>NumArticles</th>\n",
       "      <th>GoldsteinScale</th>\n",
       "      <th>QuadClass</th>\n",
       "      <th>IsRootEvent</th>\n",
       "      <th>MonthYear</th>\n",
       "      <th>Year</th>\n",
       "    </tr>\n",
       "  </thead>\n",
       "  <tbody>\n",
       "    <tr>\n",
       "      <th>count</th>\n",
       "      <td>377348.000000</td>\n",
       "      <td>377348.000000</td>\n",
       "      <td>377330.000000</td>\n",
       "      <td>377348.000000</td>\n",
       "      <td>377348.000000</td>\n",
       "      <td>377348.000000</td>\n",
       "      <td>377348.000000</td>\n",
       "    </tr>\n",
       "    <tr>\n",
       "      <th>mean</th>\n",
       "      <td>-1.519271</td>\n",
       "      <td>8.740476</td>\n",
       "      <td>1.006107</td>\n",
       "      <td>1.675170</td>\n",
       "      <td>0.544137</td>\n",
       "      <td>201700.722248</td>\n",
       "      <td>2016.985144</td>\n",
       "    </tr>\n",
       "    <tr>\n",
       "      <th>std</th>\n",
       "      <td>3.157814</td>\n",
       "      <td>47.496627</td>\n",
       "      <td>4.328482</td>\n",
       "      <td>1.062037</td>\n",
       "      <td>0.498049</td>\n",
       "      <td>18.389454</td>\n",
       "      <td>0.184914</td>\n",
       "    </tr>\n",
       "    <tr>\n",
       "      <th>min</th>\n",
       "      <td>-23.545531</td>\n",
       "      <td>1.000000</td>\n",
       "      <td>-10.000000</td>\n",
       "      <td>1.000000</td>\n",
       "      <td>0.000000</td>\n",
       "      <td>200701.000000</td>\n",
       "      <td>2007.000000</td>\n",
       "    </tr>\n",
       "    <tr>\n",
       "      <th>25%</th>\n",
       "      <td>-3.405548</td>\n",
       "      <td>2.000000</td>\n",
       "      <td>NaN</td>\n",
       "      <td>1.000000</td>\n",
       "      <td>0.000000</td>\n",
       "      <td>201701.000000</td>\n",
       "      <td>2017.000000</td>\n",
       "    </tr>\n",
       "    <tr>\n",
       "      <th>50%</th>\n",
       "      <td>-1.437372</td>\n",
       "      <td>2.000000</td>\n",
       "      <td>NaN</td>\n",
       "      <td>1.000000</td>\n",
       "      <td>1.000000</td>\n",
       "      <td>201702.000000</td>\n",
       "      <td>2017.000000</td>\n",
       "    </tr>\n",
       "    <tr>\n",
       "      <th>75%</th>\n",
       "      <td>0.501253</td>\n",
       "      <td>5.000000</td>\n",
       "      <td>NaN</td>\n",
       "      <td>2.000000</td>\n",
       "      <td>1.000000</td>\n",
       "      <td>201703.000000</td>\n",
       "      <td>2017.000000</td>\n",
       "    </tr>\n",
       "    <tr>\n",
       "      <th>max</th>\n",
       "      <td>17.894737</td>\n",
       "      <td>6948.000000</td>\n",
       "      <td>10.000000</td>\n",
       "      <td>4.000000</td>\n",
       "      <td>1.000000</td>\n",
       "      <td>201704.000000</td>\n",
       "      <td>2017.000000</td>\n",
       "    </tr>\n",
       "  </tbody>\n",
       "</table>\n",
       "</div>"
      ],
      "text/plain": [
       "             AvgTone    NumArticles  GoldsteinScale      QuadClass  \\\n",
       "count  377348.000000  377348.000000   377330.000000  377348.000000   \n",
       "mean       -1.519271       8.740476        1.006107       1.675170   \n",
       "std         3.157814      47.496627        4.328482       1.062037   \n",
       "min       -23.545531       1.000000      -10.000000       1.000000   \n",
       "25%        -3.405548       2.000000             NaN       1.000000   \n",
       "50%        -1.437372       2.000000             NaN       1.000000   \n",
       "75%         0.501253       5.000000             NaN       2.000000   \n",
       "max        17.894737    6948.000000       10.000000       4.000000   \n",
       "\n",
       "         IsRootEvent      MonthYear           Year  \n",
       "count  377348.000000  377348.000000  377348.000000  \n",
       "mean        0.544137  201700.722248    2016.985144  \n",
       "std         0.498049      18.389454       0.184914  \n",
       "min         0.000000  200701.000000    2007.000000  \n",
       "25%         0.000000  201701.000000    2017.000000  \n",
       "50%         1.000000  201702.000000    2017.000000  \n",
       "75%         1.000000  201703.000000    2017.000000  \n",
       "max         1.000000  201704.000000    2017.000000  "
      ]
     },
     "execution_count": 8,
     "metadata": {},
     "output_type": "execute_result"
    }
   ],
   "source": [
    "df['QuadClass_Cat'] = df['QuadClass'].astype(\"category\", categories=[1,2,3,4], ordered=False)\n",
    "df.describe()"
   ]
  },
  {
   "cell_type": "markdown",
   "metadata": {},
   "source": [
    "#### Filter out rows other than for Year 2017"
   ]
  },
  {
   "cell_type": "code",
   "execution_count": 9,
   "metadata": {
    "collapsed": true
   },
   "outputs": [],
   "source": [
    "df = df[df['Year'] == 2017]"
   ]
  },
  {
   "cell_type": "code",
   "execution_count": 10,
   "metadata": {
    "collapsed": false
   },
   "outputs": [
    {
     "data": {
      "text/plain": [
       "372462"
      ]
     },
     "execution_count": 10,
     "metadata": {},
     "output_type": "execute_result"
    }
   ],
   "source": [
    "df['GoldsteinScale'].count()"
   ]
  },
  {
   "cell_type": "code",
   "execution_count": 11,
   "metadata": {
    "collapsed": true
   },
   "outputs": [],
   "source": [
    "df = df[df['Actor1Geo_CountryCode'] == 'US']"
   ]
  },
  {
   "cell_type": "code",
   "execution_count": 12,
   "metadata": {
    "collapsed": false
   },
   "outputs": [
    {
     "data": {
      "text/plain": [
       "176526"
      ]
     },
     "execution_count": 12,
     "metadata": {},
     "output_type": "execute_result"
    }
   ],
   "source": [
    "df['GoldsteinScale'].count()"
   ]
  },
  {
   "cell_type": "code",
   "execution_count": 13,
   "metadata": {
    "collapsed": false
   },
   "outputs": [
    {
     "data": {
      "text/html": [
       "<div>\n",
       "<table border=\"1\" class=\"dataframe\">\n",
       "  <thead>\n",
       "    <tr style=\"text-align: right;\">\n",
       "      <th></th>\n",
       "      <th>SQLDATE</th>\n",
       "      <th>ActionGeo_CountryCode</th>\n",
       "      <th>Actor1Geo_CountryCode</th>\n",
       "      <th>Actor1Code</th>\n",
       "      <th>Actor1Name</th>\n",
       "      <th>Actor1Type1Code</th>\n",
       "      <th>Actor1EthnicCode</th>\n",
       "      <th>Actor1Religion1Code</th>\n",
       "      <th>Actor2Geo_CountryCode</th>\n",
       "      <th>Actor2Code</th>\n",
       "      <th>...</th>\n",
       "      <th>AvgTone</th>\n",
       "      <th>NumArticles</th>\n",
       "      <th>GoldsteinScale</th>\n",
       "      <th>QuadClass</th>\n",
       "      <th>EventRootCode</th>\n",
       "      <th>IsRootEvent</th>\n",
       "      <th>MonthYear</th>\n",
       "      <th>Year</th>\n",
       "      <th>OtherCountry</th>\n",
       "      <th>QuadClass_Cat</th>\n",
       "    </tr>\n",
       "  </thead>\n",
       "  <tbody>\n",
       "    <tr>\n",
       "      <th>8</th>\n",
       "      <td>2017-01-01</td>\n",
       "      <td>UK</td>\n",
       "      <td>US</td>\n",
       "      <td>CHN</td>\n",
       "      <td>CHINA</td>\n",
       "      <td>NaN</td>\n",
       "      <td>NaN</td>\n",
       "      <td>NaN</td>\n",
       "      <td>UK</td>\n",
       "      <td>USAAGR</td>\n",
       "      <td>...</td>\n",
       "      <td>1.170399</td>\n",
       "      <td>24</td>\n",
       "      <td>3.4</td>\n",
       "      <td>1</td>\n",
       "      <td>05</td>\n",
       "      <td>1</td>\n",
       "      <td>201701</td>\n",
       "      <td>2017</td>\n",
       "      <td>UK</td>\n",
       "      <td>1</td>\n",
       "    </tr>\n",
       "    <tr>\n",
       "      <th>9</th>\n",
       "      <td>2017-01-01</td>\n",
       "      <td>US</td>\n",
       "      <td>US</td>\n",
       "      <td>GBR</td>\n",
       "      <td>UNITED KINGDOM</td>\n",
       "      <td>NaN</td>\n",
       "      <td>NaN</td>\n",
       "      <td>NaN</td>\n",
       "      <td>UK</td>\n",
       "      <td>COP</td>\n",
       "      <td>...</td>\n",
       "      <td>-10.861423</td>\n",
       "      <td>2</td>\n",
       "      <td>-5.0</td>\n",
       "      <td>4</td>\n",
       "      <td>17</td>\n",
       "      <td>1</td>\n",
       "      <td>201701</td>\n",
       "      <td>2017</td>\n",
       "      <td>UK</td>\n",
       "      <td>4</td>\n",
       "    </tr>\n",
       "    <tr>\n",
       "      <th>16</th>\n",
       "      <td>2017-01-01</td>\n",
       "      <td>FR</td>\n",
       "      <td>US</td>\n",
       "      <td>USA</td>\n",
       "      <td>UNITED STATES</td>\n",
       "      <td>NaN</td>\n",
       "      <td>NaN</td>\n",
       "      <td>NaN</td>\n",
       "      <td>CH</td>\n",
       "      <td>CHN</td>\n",
       "      <td>...</td>\n",
       "      <td>-2.248394</td>\n",
       "      <td>3</td>\n",
       "      <td>4.0</td>\n",
       "      <td>1</td>\n",
       "      <td>03</td>\n",
       "      <td>0</td>\n",
       "      <td>201701</td>\n",
       "      <td>2017</td>\n",
       "      <td>CH</td>\n",
       "      <td>1</td>\n",
       "    </tr>\n",
       "    <tr>\n",
       "      <th>17</th>\n",
       "      <td>2017-01-01</td>\n",
       "      <td>UK</td>\n",
       "      <td>US</td>\n",
       "      <td>USA</td>\n",
       "      <td>UNITED STATES</td>\n",
       "      <td>NaN</td>\n",
       "      <td>NaN</td>\n",
       "      <td>NaN</td>\n",
       "      <td>UK</td>\n",
       "      <td>GBR</td>\n",
       "      <td>...</td>\n",
       "      <td>-10.861423</td>\n",
       "      <td>2</td>\n",
       "      <td>-9.5</td>\n",
       "      <td>4</td>\n",
       "      <td>18</td>\n",
       "      <td>0</td>\n",
       "      <td>201701</td>\n",
       "      <td>2017</td>\n",
       "      <td>UK</td>\n",
       "      <td>4</td>\n",
       "    </tr>\n",
       "    <tr>\n",
       "      <th>18</th>\n",
       "      <td>2017-01-01</td>\n",
       "      <td>MX</td>\n",
       "      <td>US</td>\n",
       "      <td>USA</td>\n",
       "      <td>KANSAS</td>\n",
       "      <td>NaN</td>\n",
       "      <td>NaN</td>\n",
       "      <td>NaN</td>\n",
       "      <td>MX</td>\n",
       "      <td>MEX</td>\n",
       "      <td>...</td>\n",
       "      <td>-7.586260</td>\n",
       "      <td>14</td>\n",
       "      <td>-2.0</td>\n",
       "      <td>3</td>\n",
       "      <td>11</td>\n",
       "      <td>1</td>\n",
       "      <td>201701</td>\n",
       "      <td>2017</td>\n",
       "      <td>MX</td>\n",
       "      <td>3</td>\n",
       "    </tr>\n",
       "  </tbody>\n",
       "</table>\n",
       "<p>5 rows × 24 columns</p>\n",
       "</div>"
      ],
      "text/plain": [
       "      SQLDATE ActionGeo_CountryCode Actor1Geo_CountryCode Actor1Code  \\\n",
       "8  2017-01-01                    UK                    US        CHN   \n",
       "9  2017-01-01                    US                    US        GBR   \n",
       "16 2017-01-01                    FR                    US        USA   \n",
       "17 2017-01-01                    UK                    US        USA   \n",
       "18 2017-01-01                    MX                    US        USA   \n",
       "\n",
       "        Actor1Name Actor1Type1Code Actor1EthnicCode Actor1Religion1Code  \\\n",
       "8            CHINA             NaN              NaN                 NaN   \n",
       "9   UNITED KINGDOM             NaN              NaN                 NaN   \n",
       "16   UNITED STATES             NaN              NaN                 NaN   \n",
       "17   UNITED STATES             NaN              NaN                 NaN   \n",
       "18          KANSAS             NaN              NaN                 NaN   \n",
       "\n",
       "   Actor2Geo_CountryCode Actor2Code      ...          AvgTone NumArticles  \\\n",
       "8                     UK     USAAGR      ...         1.170399          24   \n",
       "9                     UK        COP      ...       -10.861423           2   \n",
       "16                    CH        CHN      ...        -2.248394           3   \n",
       "17                    UK        GBR      ...       -10.861423           2   \n",
       "18                    MX        MEX      ...        -7.586260          14   \n",
       "\n",
       "   GoldsteinScale QuadClass  EventRootCode  IsRootEvent  MonthYear  Year  \\\n",
       "8             3.4         1             05            1     201701  2017   \n",
       "9            -5.0         4             17            1     201701  2017   \n",
       "16            4.0         1             03            0     201701  2017   \n",
       "17           -9.5         4             18            0     201701  2017   \n",
       "18           -2.0         3             11            1     201701  2017   \n",
       "\n",
       "   OtherCountry  QuadClass_Cat  \n",
       "8            UK              1  \n",
       "9            UK              4  \n",
       "16           CH              1  \n",
       "17           UK              4  \n",
       "18           MX              3  \n",
       "\n",
       "[5 rows x 24 columns]"
      ]
     },
     "execution_count": 13,
     "metadata": {},
     "output_type": "execute_result"
    }
   ],
   "source": [
    "df.head()"
   ]
  },
  {
   "cell_type": "code",
   "execution_count": 14,
   "metadata": {
    "collapsed": true
   },
   "outputs": [],
   "source": [
    "table = pd.pivot_table(df, values='GoldsteinScale', index='SQLDATE', columns=['OtherCountry'], aggfunc=np.mean)"
   ]
  },
  {
   "cell_type": "code",
   "execution_count": 17,
   "metadata": {
    "collapsed": false
   },
   "outputs": [
    {
     "data": {
      "text/html": [
       "<div>\n",
       "<table border=\"1\" class=\"dataframe\">\n",
       "  <thead>\n",
       "    <tr style=\"text-align: right;\">\n",
       "      <th>OtherCountry</th>\n",
       "      <th>IN</th>\n",
       "      <th>MX</th>\n",
       "      <th>CH</th>\n",
       "      <th>UK</th>\n",
       "      <th>CA</th>\n",
       "    </tr>\n",
       "    <tr>\n",
       "      <th>SQLDATE</th>\n",
       "      <th></th>\n",
       "      <th></th>\n",
       "      <th></th>\n",
       "      <th></th>\n",
       "      <th></th>\n",
       "    </tr>\n",
       "  </thead>\n",
       "  <tbody>\n",
       "    <tr>\n",
       "      <th>2017-01-01</th>\n",
       "      <td>0.944000</td>\n",
       "      <td>0.886275</td>\n",
       "      <td>1.248148</td>\n",
       "      <td>0.394949</td>\n",
       "      <td>1.616250</td>\n",
       "    </tr>\n",
       "    <tr>\n",
       "      <th>2017-01-02</th>\n",
       "      <td>0.625455</td>\n",
       "      <td>0.775000</td>\n",
       "      <td>1.593750</td>\n",
       "      <td>0.983439</td>\n",
       "      <td>1.785827</td>\n",
       "    </tr>\n",
       "    <tr>\n",
       "      <th>2017-01-03</th>\n",
       "      <td>0.262295</td>\n",
       "      <td>1.444751</td>\n",
       "      <td>1.022442</td>\n",
       "      <td>0.921708</td>\n",
       "      <td>2.002890</td>\n",
       "    </tr>\n",
       "    <tr>\n",
       "      <th>2017-01-04</th>\n",
       "      <td>1.064151</td>\n",
       "      <td>1.476724</td>\n",
       "      <td>0.999248</td>\n",
       "      <td>1.151373</td>\n",
       "      <td>2.189904</td>\n",
       "    </tr>\n",
       "    <tr>\n",
       "      <th>2017-01-05</th>\n",
       "      <td>0.954839</td>\n",
       "      <td>0.172314</td>\n",
       "      <td>1.001045</td>\n",
       "      <td>1.109160</td>\n",
       "      <td>1.935377</td>\n",
       "    </tr>\n",
       "  </tbody>\n",
       "</table>\n",
       "</div>"
      ],
      "text/plain": [
       "OtherCountry        IN        MX        CH        UK        CA\n",
       "SQLDATE                                                       \n",
       "2017-01-01    0.944000  0.886275  1.248148  0.394949  1.616250\n",
       "2017-01-02    0.625455  0.775000  1.593750  0.983439  1.785827\n",
       "2017-01-03    0.262295  1.444751  1.022442  0.921708  2.002890\n",
       "2017-01-04    1.064151  1.476724  0.999248  1.151373  2.189904\n",
       "2017-01-05    0.954839  0.172314  1.001045  1.109160  1.935377"
      ]
     },
     "execution_count": 17,
     "metadata": {},
     "output_type": "execute_result"
    }
   ],
   "source": [
    "table = table[['IN','MX','CH','UK','CA']]\n",
    "table.head()"
   ]
  },
  {
   "cell_type": "code",
   "execution_count": 19,
   "metadata": {
    "collapsed": false
   },
   "outputs": [
    {
     "data": {
      "text/plain": [
       "DatetimeIndex(['2017-01-01', '2017-01-02', '2017-01-03', '2017-01-04',\n",
       "               '2017-01-05', '2017-01-06', '2017-01-07', '2017-01-08',\n",
       "               '2017-01-09', '2017-01-10',\n",
       "               ...\n",
       "               '2017-04-08', '2017-04-09', '2017-04-10', '2017-04-11',\n",
       "               '2017-04-12', '2017-04-13', '2017-04-14', '2017-04-15',\n",
       "               '2017-04-16', '2017-04-17'],\n",
       "              dtype='datetime64[ns]', name='SQLDATE', length=107, freq=None)"
      ]
     },
     "execution_count": 19,
     "metadata": {},
     "output_type": "execute_result"
    }
   ],
   "source": [
    "table.index"
   ]
  },
  {
   "cell_type": "code",
   "execution_count": 24,
   "metadata": {
    "collapsed": false
   },
   "outputs": [
    {
     "data": {
      "image/png": "[encoded data removed]",
      "text/plain": [
       "<matplotlib.figure.Figure at 0x115a673c8>"
      ]
     },
     "metadata": {},
     "output_type": "display_data"
    }
   ],
   "source": [
    "table.plot()\n",
    "plt.ylabel('GoldsteinScale')\n",
    "plt.savefig('analysis3/RegionalStability.png')"
   ]
  },
  {
   "cell_type": "markdown",
   "metadata": {},
   "source": [
    "### Conclusion - So far in the year 2017 US actions have caused both positive and negative impact to the stability of the above countries - India, Mexico, China, UK & Canada. Indian stability trend seems to be the most volatile due to US actions, while Canada seems to enjoy mostly stability enhancing US actions."
   ]
  }
 ],
 "metadata": {
  "anaconda-cloud": {},
  "kernelspec": {
   "display_name": "Python [conda root]",
   "language": "python",
   "name": "conda-root-py"
  },
  "language_info": {
   "codemirror_mode": {
    "name": "ipython",
    "version": 3
   },
   "file_extension": ".py",
   "mimetype": "text/x-python",
   "name": "python",
   "nbconvert_exporter": "python",
   "pygments_lexer": "ipython3",
   "version": "3.5.2"
  }
 },
 "nbformat": 4,
 "nbformat_minor": 1
}
