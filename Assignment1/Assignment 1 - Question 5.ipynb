{
 "cells": [
  {
   "cell_type": "markdown",
   "metadata": {},
   "source": [
    "## Question 5. Use Gutenberg and Web_text data. Find out what are the top 5 words that Shakespeare used but we do not use in currently."
   ]
  },
  {
   "cell_type": "code",
   "execution_count": 2,
   "metadata": {
    "collapsed": false
   },
   "outputs": [],
   "source": [
    "from nltk.corpus import webtext as wt\n",
    "from nltk.corpus import gutenberg as gb\n",
    "from collections import Counter\n",
    "from nltk.corpus import stopwords\n",
    "from nltk.tokenize import RegexpTokenizer\n",
    "import string"
   ]
  },
  {
   "cell_type": "markdown",
   "metadata": {},
   "source": [
    "### Filter out punctuation and stop words and select top 50 words from Shakespeare (all 3 books)\n"
   ]
  },
  {
   "cell_type": "code",
   "execution_count": 3,
   "metadata": {
    "collapsed": false
   },
   "outputs": [
    {
     "name": "stdout",
     "output_type": "stream",
     "text": [
      "Top 50 words from Shakespeare:\n",
      " [('haue', 448), ('ham', 337), ('thou', 312), ('shall', 300), ('lord', 293), ('come', 232), ('king', 231), ('enter', 230), ('good', 218), ('let', 217), ('thy', 202), ('caesar', 193), ('vs', 184), ('know', 176), ('thee', 174), ('would', 170), ('like', 162), ('vpon', 162), ('brutus', 162), ('bru', 153), ('well', 152), ('hath', 144), ('selfe', 143), ('man', 139), ('may', 138), ('macb', 137), ('yet', 136), ('heere', 135), ('must', 130), ('say', 130), ('tis', 129), ('th', 125), ('loue', 119), ('speake', 119), ('make', 119), ('giue', 118), ('see', 116), ('time', 115), ('sir', 114), ('night', 114), ('one', 112), ('st', 110), ('cassi', 107), ('ile', 106), ('doe', 103), ('hamlet', 100), ('go', 100), ('men', 96), ('hor', 95), ('vp', 94)]\n"
     ]
    }
   ],
   "source": [
    "tokenizer = RegexpTokenizer(r'\\w{2,}')\n",
    "\n",
    "s_books = [f for f in gb.fileids() if 'shakespeare' in f]\n",
    "s_words = [w.lower() for b in s_books for w in gb.words(b)]  # Get all Shakespeare words\n",
    "stop_words = set(stopwords.words('english'))\n",
    "s_words = [w for w in s_words if not w in stop_words]  # Remove stop words\n",
    "s_words = [w for w in s_words if not w in string.punctuation]  # Remove punctuation\n",
    "\n",
    "s_wordcount = Counter(s_words)\n",
    "s_top = sorted(s_wordcount.items(), key=lambda i:i[1], reverse=True)[:50]\n",
    "print('Top 50 words from Shakespeare:\\n',s_top)"
   ]
  },
  {
   "cell_type": "markdown",
   "metadata": {},
   "source": [
    "### Filter out punctuation and stop words and select top 50 words from Webtext (all files)"
   ]
  },
  {
   "cell_type": "code",
   "execution_count": 4,
   "metadata": {
    "collapsed": false
   },
   "outputs": [
    {
     "name": "stdout",
     "output_type": "stream",
     "text": [
      "Top 50 words from Webtext:\n",
      " [('girl', 2956), ('guy', 2751), ('like', 1696), ('man', 1075), ('know', 1025), ('woman', 998), ('yeah', 895), ('page', 887), ('firefox', 879), ('get', 869), ('new', 790), ('chick', 714), ('one', 700), ('oh', 682), ('open', 679), ('window', 670), ('good', 644), ('bookmarks', 598), ('teen', 587), ('well', 586), ('firebird', 583), ('cell', 577), ('right', 576), ('go', 564), ('work', 537), ('bar', 536), ('menu', 530), ('tab', 529), ('lady', 524), ('toolbar', 518), ('boy', 488), ('want', 485), ('browser', 484), ('think', 484), ('jack', 483), ('bookmark', 482), ('old', 475), ('really', 473), ('going', 460), ('download', 442), ('url', 440), ('back', 434), ('time', 432), ('black', 422), ('manager', 420), ('little', 419), ('got', 409), ('crash', 396), ('would', 392), ('button', 386)]\n"
     ]
    }
   ],
   "source": [
    "tokenizer = RegexpTokenizer(r'\\w{2,}')\n",
    "\n",
    "wt_books = [f for f in wt.fileids()]\n",
    "wt_words = [w.lower() for b in wt_books for w in tokenizer.tokenize(wt.raw(b))] # Get all webtext words\n",
    "stop_words = set(stopwords.words('english'))\n",
    "wt_words = [w for w in wt_words if not w in stop_words]  # Remove stop words\n",
    "wt_words = [w for w in wt_words if not w in string.punctuation]  # Remove punctuation\n",
    " \n",
    "wt_wordcount = Counter(wt_words)  # use the Counter feature from library collections\n",
    "wt_top = sorted(wt_wordcount.items(), key=lambda i:i[1], reverse=True)[:50]\n",
    "print('Top 50 words from Webtext:\\n', wt_top)"
   ]
  },
  {
   "cell_type": "markdown",
   "metadata": {},
   "source": [
    "### Remove the words we still use today, and get the unused list. Show the top 5 elements. \n"
   ]
  },
  {
   "cell_type": "code",
   "execution_count": 5,
   "metadata": {
    "collapsed": false
   },
   "outputs": [
    {
     "name": "stdout",
     "output_type": "stream",
     "text": [
      "Common words:  {'one', 'time', 'well', 'like', 'go', 'good', 'man', 'know', 'would'}\n",
      "Top 5 words used by Shakespeare not commonly used today:\n",
      "  ['shall', 'thou', 'lord', 'haue', 'ham']\n"
     ]
    }
   ],
   "source": [
    "s_dict, wt_dict = dict(s_top),dict(wt_top) \n",
    "common_keys = s_dict.keys() & wt_dict.keys()\n",
    "print('Common words: ', common_keys)\n",
    "s_only_dict = {key: s_dict[key] for key in s_dict if key not in common_keys}\n",
    "s_only_dict_top = sorted(s_only_dict.items(), key=lambda i:i[1], reverse=True)[:5]\n",
    "print('Top 5 words used by Shakespeare not commonly used today:\\n ', list(dict(s_only_dict_top).keys()))"
   ]
  },
  {
   "cell_type": "code",
   "execution_count": null,
   "metadata": {
    "collapsed": false
   },
   "outputs": [],
   "source": []
  },
  {
   "cell_type": "code",
   "execution_count": null,
   "metadata": {
    "collapsed": true
   },
   "outputs": [],
   "source": []
  }
 ],
 "metadata": {
  "anaconda-cloud": {},
  "kernelspec": {
   "display_name": "Python [conda root]",
   "language": "python",
   "name": "conda-root-py"
  },
  "language_info": {
   "codemirror_mode": {
    "name": "ipython",
    "version": 3
   },
   "file_extension": ".py",
   "mimetype": "text/x-python",
   "name": "python",
   "nbconvert_exporter": "python",
   "pygments_lexer": "ipython3",
   "version": "3.5.2"
  }
 },
 "nbformat": 4,
 "nbformat_minor": 1
}
