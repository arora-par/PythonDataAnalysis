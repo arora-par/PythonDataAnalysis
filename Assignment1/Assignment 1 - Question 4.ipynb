{
 "cells": [
  {
   "cell_type": "markdown",
   "metadata": {
    "collapsed": true
   },
   "source": [
    "## Question 4. NLTK -> NPS_CHAT -> users and posts"
   ]
  },
  {
   "cell_type": "code",
   "execution_count": 3,
   "metadata": {
    "collapsed": true
   },
   "outputs": [],
   "source": [
    "from nltk.corpus import nps_chat as nps"
   ]
  },
  {
   "cell_type": "code",
   "execution_count": 4,
   "metadata": {
    "collapsed": false
   },
   "outputs": [
    {
     "data": {
      "text/plain": [
       "['10-19-20s_706posts.xml',\n",
       " '10-19-30s_705posts.xml',\n",
       " '10-19-40s_686posts.xml',\n",
       " '10-19-adults_706posts.xml',\n",
       " '10-24-40s_706posts.xml',\n",
       " '10-26-teens_706posts.xml',\n",
       " '11-06-adults_706posts.xml',\n",
       " '11-08-20s_705posts.xml',\n",
       " '11-08-40s_706posts.xml',\n",
       " '11-08-adults_705posts.xml',\n",
       " '11-08-teens_706posts.xml',\n",
       " '11-09-20s_706posts.xml',\n",
       " '11-09-40s_706posts.xml',\n",
       " '11-09-adults_706posts.xml',\n",
       " '11-09-teens_706posts.xml']"
      ]
     },
     "execution_count": 4,
     "metadata": {},
     "output_type": "execute_result"
    }
   ],
   "source": [
    "nps.fileids()"
   ]
  },
  {
   "cell_type": "markdown",
   "metadata": {
    "collapsed": false
   },
   "source": [
    "### Find 'user121' and see how many posts he posted in all"
   ]
  },
  {
   "cell_type": "code",
   "execution_count": 13,
   "metadata": {
    "collapsed": false
   },
   "outputs": [
    {
     "name": "stdout",
     "output_type": "stream",
     "text": [
      "No. of posts by User121: 132\n"
     ]
    }
   ],
   "source": [
    "posts = nps.xml_posts()\n",
    "plen = len([p for p in posts if p.get('user').endswith('User121')])  # find posts by User121 in a for comprehension\n",
    "print('No. of posts by User121:', plen)\n",
    "    "
   ]
  },
  {
   "cell_type": "markdown",
   "metadata": {
    "collapsed": false
   },
   "source": [
    "### Find out how many unique user in each age range group."
   ]
  },
  {
   "cell_type": "code",
   "execution_count": 23,
   "metadata": {
    "collapsed": false
   },
   "outputs": [
    {
     "name": "stdout",
     "output_type": "stream",
     "text": [
      "Teens total unique users count:  443\n",
      "20s total unique users count:  305\n",
      "30s total unique users count:  44\n",
      "40s total unique users count:  228\n",
      "Adults total unique users count:  357\n"
     ]
    }
   ],
   "source": [
    "flen, teens_counter, twenty_ctr, thirty_ctr, forty_ctr, adult_ctr = 0, 0, 0, 0, 0, 0\n",
    "\n",
    "def addflentocounter(counter):\n",
    "    return flen + counter\n",
    "\n",
    "for f in nps.fileids():\n",
    "    flen = len(set([post.get('user') for post in nps.xml_posts(f)]))\n",
    "    if '-teens_' in f:\n",
    "        teens_counter = addflentocounter(teens_counter)\n",
    "    elif '-20s_' in f:\n",
    "        twenty_ctr = addflentocounter(twenty_ctr)\n",
    "    elif '-30s_' in f:\n",
    "        thirty_ctr = addflentocounter(thirty_ctr)\n",
    "    elif '-40s_' in f:\n",
    "        forty_ctr = addflentocounter(forty_ctr)\n",
    "    elif '-adults_' in f:\n",
    "        adult_ctr = addflentocounter(adult_ctr)    \n",
    "        \n",
    "        \n",
    "print('Teens total unique users count: ', teens_counter)\n",
    "print('20s total unique users count: ', twenty_ctr)\n",
    "print('30s total unique users count: ', thirty_ctr)\n",
    "print('40s total unique users count: ', forty_ctr)\n",
    "print('Adults total unique users count: ', adult_ctr)\n",
    "        \n",
    "        "
   ]
  },
  {
   "cell_type": "code",
   "execution_count": null,
   "metadata": {
    "collapsed": false
   },
   "outputs": [],
   "source": []
  },
  {
   "cell_type": "code",
   "execution_count": null,
   "metadata": {
    "collapsed": true
   },
   "outputs": [],
   "source": []
  }
 ],
 "metadata": {
  "anaconda-cloud": {},
  "kernelspec": {
   "display_name": "Python [conda root]",
   "language": "python",
   "name": "conda-root-py"
  },
  "language_info": {
   "codemirror_mode": {
    "name": "ipython",
    "version": 3
   },
   "file_extension": ".py",
   "mimetype": "text/x-python",
   "name": "python",
   "nbconvert_exporter": "python",
   "pygments_lexer": "ipython3",
   "version": "3.5.2"
  }
 },
 "nbformat": 4,
 "nbformat_minor": 1
}
