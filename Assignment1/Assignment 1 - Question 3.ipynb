{
 "cells": [
  {
   "cell_type": "markdown",
   "metadata": {},
   "source": [
    "## Question 3. NLTK -> Webtext corpus -> Exploration of pirates.txt"
   ]
  },
  {
   "cell_type": "code",
   "execution_count": 13,
   "metadata": {
    "collapsed": true
   },
   "outputs": [],
   "source": [
    "from nltk.corpus import webtext as wt\n"
   ]
  },
  {
   "cell_type": "code",
   "execution_count": 20,
   "metadata": {
    "collapsed": false
   },
   "outputs": [
    {
     "data": {
      "text/plain": [
       "['firefox.txt',\n",
       " 'grail.txt',\n",
       " 'overheard.txt',\n",
       " 'pirates.txt',\n",
       " 'singles.txt',\n",
       " 'wine.txt']"
      ]
     },
     "execution_count": 20,
     "metadata": {},
     "output_type": "execute_result"
    }
   ],
   "source": [
    "wt.fileids()"
   ]
  },
  {
   "cell_type": "code",
   "execution_count": 23,
   "metadata": {
    "collapsed": false
   },
   "outputs": [],
   "source": [
    "pirates_sents = wt.sents('pirates.txt')\n",
    "willCounter, jackCounter = 0, 0\n",
    "willDialog = ['WILL','TURNER',':']        # identification of Will Turner's dialog\n",
    "jackDialog = ['JACK', 'SPARROW',':']      # identification of Jack Sparrow's dialog\n"
   ]
  },
  {
   "cell_type": "code",
   "execution_count": 24,
   "metadata": {
    "collapsed": false
   },
   "outputs": [
    {
     "name": "stdout",
     "output_type": "stream",
     "text": [
      "No of dialogs by Will Turner: 84\n",
      "No of dialogs by Jack Sparrow: 120\n"
     ]
    }
   ],
   "source": [
    "for sent in pirates_sents:\n",
    "    if sent[:3] == willDialog:\n",
    "        willCounter = willCounter + 1\n",
    "    elif  sent[:3] == jackDialog:   \n",
    "        jackCounter = jackCounter + 1\n",
    "print('No of dialogs by Will Turner:', willCounter)\n",
    "print('No of dialogs by Jack Sparrow:', jackCounter)"
   ]
  },
  {
   "cell_type": "code",
   "execution_count": 25,
   "metadata": {
    "collapsed": false
   },
   "outputs": [
    {
     "name": "stdout",
     "output_type": "stream",
     "text": [
      "Based on the no of dialogs, Jack is the hero of the story!\n"
     ]
    }
   ],
   "source": [
    "if willCounter > jackCounter:\n",
    "    print('Based on the no of dialogs, Will is the hero of the story!')\n",
    "else:\n",
    "    print('Based on the no of dialogs, Jack is the hero of the story!')\n"
   ]
  },
  {
   "cell_type": "code",
   "execution_count": null,
   "metadata": {
    "collapsed": true
   },
   "outputs": [],
   "source": []
  }
 ],
 "metadata": {
  "kernelspec": {
   "display_name": "Python [conda root]",
   "language": "python",
   "name": "conda-root-py"
  },
  "language_info": {
   "codemirror_mode": {
    "name": "ipython",
    "version": 3
   },
   "file_extension": ".py",
   "mimetype": "text/x-python",
   "name": "python",
   "nbconvert_exporter": "python",
   "pygments_lexer": "ipython3",
   "version": "3.5.2"
  }
 },
 "nbformat": 4,
 "nbformat_minor": 1
}
