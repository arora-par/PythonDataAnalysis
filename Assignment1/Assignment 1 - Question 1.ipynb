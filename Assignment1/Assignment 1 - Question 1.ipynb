{
 "cells": [
  {
   "cell_type": "markdown",
   "metadata": {},
   "source": [
    "## Question 1. NLTK -> Gutenberg corpus -> Exploration of austen-persuasion.txt"
   ]
  },
  {
   "cell_type": "code",
   "execution_count": 34,
   "metadata": {
    "collapsed": true
   },
   "outputs": [],
   "source": [
    "from nltk.corpus import gutenberg as gb\n",
    "import operator"
   ]
  },
  {
   "cell_type": "markdown",
   "metadata": {},
   "source": [
    "### Look at all the file names in the gutenberg corpus"
   ]
  },
  {
   "cell_type": "code",
   "execution_count": 39,
   "metadata": {
    "collapsed": false
   },
   "outputs": [
    {
     "data": {
      "text/plain": [
       "['austen-emma.txt',\n",
       " 'austen-persuasion.txt',\n",
       " 'austen-sense.txt',\n",
       " 'bible-kjv.txt',\n",
       " 'blake-poems.txt',\n",
       " 'bryant-stories.txt',\n",
       " 'burgess-busterbrown.txt',\n",
       " 'carroll-alice.txt',\n",
       " 'chesterton-ball.txt',\n",
       " 'chesterton-brown.txt',\n",
       " 'chesterton-thursday.txt',\n",
       " 'edgeworth-parents.txt',\n",
       " 'melville-moby_dick.txt',\n",
       " 'milton-paradise.txt',\n",
       " 'shakespeare-caesar.txt',\n",
       " 'shakespeare-hamlet.txt',\n",
       " 'shakespeare-macbeth.txt',\n",
       " 'whitman-leaves.txt']"
      ]
     },
     "execution_count": 39,
     "metadata": {},
     "output_type": "execute_result"
    }
   ],
   "source": [
    "gb.fileids()"
   ]
  },
  {
   "cell_type": "markdown",
   "metadata": {},
   "source": [
    "### Find out how many words and how many unique words in file 'austen-persuasion.txt'"
   ]
  },
  {
   "cell_type": "code",
   "execution_count": 35,
   "metadata": {
    "collapsed": false
   },
   "outputs": [
    {
     "name": "stdout",
     "output_type": "stream",
     "text": [
      "Total words in the book titled Persuasion by Jane Austen:  98171\n",
      "Unique words in the book titled Persuasion by Jane Austen:  6132\n"
     ]
    }
   ],
   "source": [
    "all_words = gb.words('austen-persuasion.txt')\n",
    "total_words = len(all_words)\n",
    "unique_words = len(set(all_words))\n",
    "\n",
    "print('Total words in the book titled Persuasion by Jane Austen: ', total_words)\n",
    "print('Unique words in the book titled Persuasion by Jane Austen: ', unique_words)"
   ]
  },
  {
   "cell_type": "markdown",
   "metadata": {},
   "source": [
    "### Calculate the frequency for each words and show the top 10 most frequent words and their frequency."
   ]
  },
  {
   "cell_type": "code",
   "execution_count": 44,
   "metadata": {
    "collapsed": false
   },
   "outputs": [
    {
     "name": "stdout",
     "output_type": "stream",
     "text": [
      "Length of words and counts dictionary:  6132\n"
     ]
    }
   ],
   "source": [
    "word_freqs = {}\n",
    "for item in all_words:\n",
    "    if item not in word_freqs:\n",
    "        word_freqs[item] = 1                          # initialize entry with count as 1 in the dict for each word        \n",
    "    else:\n",
    "        existing_count = word_freqs[item]\n",
    "        word_freqs[item] = existing_count + 1         # add one for each new occurence\n",
    "print('Length of words and counts dictionary: ',len(word_freqs))"
   ]
  },
  {
   "cell_type": "code",
   "execution_count": 46,
   "metadata": {
    "collapsed": false
   },
   "outputs": [
    {
     "name": "stdout",
     "output_type": "stream",
     "text": [
      "The top most frequent words and their frequency: \n",
      "(',', 6750)\n",
      "('the', 3120)\n",
      "('to', 2775)\n",
      "('.', 2741)\n",
      "('and', 2739)\n",
      "('of', 2564)\n",
      "('a', 1529)\n",
      "('in', 1346)\n",
      "('was', 1330)\n",
      "(';', 1290)\n"
     ]
    }
   ],
   "source": [
    "# Dict is unordered by nature. So I need to create a list of tuples to store the sorted results\n",
    "sorted_word_freqs = sorted(word_freqs.items(), key=operator.itemgetter(1), reverse=True) \n",
    "\n",
    "print('The top most frequent words and their frequency: ')\n",
    "\n",
    "for word_count_pair in sorted_word_freqs[:10]:\n",
    "    print(word_count_pair)\n"
   ]
  },
  {
   "cell_type": "code",
   "execution_count": null,
   "metadata": {
    "collapsed": true
   },
   "outputs": [],
   "source": []
  }
 ],
 "metadata": {
  "anaconda-cloud": {},
  "kernelspec": {
   "display_name": "Python [conda root]",
   "language": "python",
   "name": "conda-root-py"
  },
  "language_info": {
   "codemirror_mode": {
    "name": "ipython",
    "version": 3
   },
   "file_extension": ".py",
   "mimetype": "text/x-python",
   "name": "python",
   "nbconvert_exporter": "python",
   "pygments_lexer": "ipython3",
   "version": "3.5.2"
  }
 },
 "nbformat": 4,
 "nbformat_minor": 1
}
