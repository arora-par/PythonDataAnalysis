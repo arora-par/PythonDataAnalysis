{
 "cells": [
  {
   "cell_type": "markdown",
   "metadata": {},
   "source": [
    "## Question 7. Use Name corpus, calculate the probability of a name being of a male or female based on the last character(s) of name"
   ]
  },
  {
   "cell_type": "code",
   "execution_count": 9,
   "metadata": {
    "collapsed": false
   },
   "outputs": [],
   "source": [
    "from nltk.corpus import names\n",
    "import string"
   ]
  },
  {
   "cell_type": "markdown",
   "metadata": {},
   "source": [
    "### Prepare data structures with required counts corresponding to all character endings"
   ]
  },
  {
   "cell_type": "code",
   "execution_count": 36,
   "metadata": {
    "collapsed": false
   },
   "outputs": [],
   "source": [
    "total_names = {}\n",
    "male_names = {}\n",
    "female_names = {}\n",
    "\n",
    "for name in names.words('female.txt'):\n",
    "    ch = name[-1]\n",
    "    if ch in string.ascii_lowercase:\n",
    "        total_names[ch] = total_names.setdefault(ch, 0) + 1  # short cut for initialize or update (if present)\n",
    "        female_names[ch] = female_names.setdefault(ch, 0) + 1  # do the same for females dict\n",
    "    \n",
    "for name in names.words('male.txt'):\n",
    "    ch = name[-1]\n",
    "    total_names[ch] = total_names.setdefault(ch, 0) + 1  # short cut for initialize or update (if present)\n",
    "    male_names[ch] = male_names.setdefault(ch, 0) + 1  # do the same for males dict\n",
    "        \n"
   ]
  },
  {
   "cell_type": "markdown",
   "metadata": {},
   "source": [
    "### Calculate probabilities of each character being an ending of a male or female name"
   ]
  },
  {
   "cell_type": "code",
   "execution_count": 39,
   "metadata": {
    "collapsed": false
   },
   "outputs": [
    {
     "name": "stdout",
     "output_type": "stream",
     "text": [
      "[ a ] Male:  1.61 %  Female:  98.39 %\n",
      "[ b ] Male:  70.00 %  Female:  30.00 %\n",
      "[ c ] Male:  100.00 %  Female:  0.00 %\n",
      "[ d ] Male:  85.39 %  Female:  14.61 %\n",
      "[ e ] Male:  24.63 %  Female:  75.37 %\n",
      "[ f ] Male:  92.59 %  Female:  7.41 %\n",
      "[ g ] Male:  76.19 %  Female:  23.81 %\n",
      "[ h ] Male:  46.97 %  Female:  53.03 %\n",
      "[ i ] Male:  13.62 %  Female:  86.38 %\n",
      "[ j ] Male:  75.00 %  Female:  25.00 %\n",
      "[ k ] Male:  95.83 %  Female:  4.17 %\n",
      "[ l ] Male:  51.09 %  Female:  48.91 %\n",
      "[ m ] Male:  84.34 %  Female:  15.66 %\n",
      "[ n ] Male:  55.32 %  Female:  44.68 %\n",
      "[ o ] Male:  83.33 %  Female:  16.67 %\n",
      "[ p ] Male:  90.00 %  Female:  10.00 %\n",
      "[ r ] Male:  80.17 %  Female:  19.83 %\n",
      "[ s ] Male:  71.21 %  Female:  28.79 %\n",
      "[ t ] Male:  70.69 %  Female:  29.31 %\n",
      "[ u ] Male:  66.67 %  Female:  33.33 %\n",
      "[ v ] Male:  88.89 %  Female:  11.11 %\n",
      "[ w ] Male:  77.27 %  Female:  22.73 %\n",
      "[ x ] Male:  50.00 %  Female:  50.00 %\n",
      "[ y ] Male:  41.87 %  Female:  58.13 %\n",
      "[ z ] Male:  73.33 %  Female:  26.67 %\n"
     ]
    }
   ],
   "source": [
    "ch_prob = {}\n",
    "for ch in total_names:\n",
    "    m_prob = 100 * male_names.setdefault(ch,0) / total_names[ch]\n",
    "    f_prob = 100 * female_names.setdefault(ch,0) / total_names[ch]\n",
    "    ch_prob[ch] = m_prob, f_prob\n",
    "\n",
    "for ch in sorted(ch_prob, key = lambda i:i[0]):      # sort to see output in alphabetical order\n",
    "    # format floating numbers upto 2 decimals\n",
    "    print('[', ch,']' ,'Male: ', \"{0:.2f}\".format(ch_prob[ch][0]), '%', ' Female: ', \"{0:.2f}\".format(ch_prob[ch][1]), '%')\n"
   ]
  },
  {
   "cell_type": "code",
   "execution_count": null,
   "metadata": {
    "collapsed": false
   },
   "outputs": [],
   "source": []
  },
  {
   "cell_type": "code",
   "execution_count": null,
   "metadata": {
    "collapsed": false
   },
   "outputs": [],
   "source": []
  },
  {
   "cell_type": "code",
   "execution_count": null,
   "metadata": {
    "collapsed": true
   },
   "outputs": [],
   "source": []
  }
 ],
 "metadata": {
  "anaconda-cloud": {},
  "kernelspec": {
   "display_name": "Python [conda root]",
   "language": "python",
   "name": "conda-root-py"
  },
  "language_info": {
   "codemirror_mode": {
    "name": "ipython",
    "version": 3
   },
   "file_extension": ".py",
   "mimetype": "text/x-python",
   "name": "python",
   "nbconvert_exporter": "python",
   "pygments_lexer": "ipython3",
   "version": "3.5.2"
  }
 },
 "nbformat": 4,
 "nbformat_minor": 1
}
