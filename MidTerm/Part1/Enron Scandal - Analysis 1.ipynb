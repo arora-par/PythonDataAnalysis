{
 "cells": [
  {
   "cell_type": "markdown",
   "metadata": {},
   "source": [
    "## Enron Scandal - Analysis 1"
   ]
  },
  {
   "cell_type": "markdown",
   "metadata": {},
   "source": [
    "### Study the distribution of emails in which the infamous 'trio' was involved over different stages of the Fraud and the Fate of the company"
   ]
  },
  {
   "cell_type": "code",
   "execution_count": 1,
   "metadata": {
    "collapsed": false
   },
   "outputs": [],
   "source": [
    "# The common functionality has been extracted and reused from the enronutil python module\n",
    "import enronutil\n",
    "# Other regular imports\n",
    "from email.parser import Parser\n",
    "import glob\n",
    "import os\n",
    "import datetime\n",
    "from collections import Counter\n",
    "from wordcloud import WordCloud, STOPWORDS\n",
    "import matplotlib.pyplot as plt"
   ]
  },
  {
   "cell_type": "code",
   "execution_count": 2,
   "metadata": {
    "collapsed": true
   },
   "outputs": [],
   "source": [
    "# Change the value of this variable as per your directory structure\n",
    "relative_path = '/Users/tanya/midterm/data/enron/maildir'\n"
   ]
  },
  {
   "cell_type": "code",
   "execution_count": 3,
   "metadata": {
    "collapsed": false
   },
   "outputs": [],
   "source": [
    "# Preparation for analysis\n",
    "imp_emails_stage1 = []\n",
    "imp_emails_stage2 = []\n",
    "imp_emails_stage3 = []\n",
    "unread_files = []\n",
    "\n",
    "# The TRIO - CEO, COO and CFO\n",
    "imp_people = ['kenneth.lay@enron.com', 'jeff.skilling@enron.com', 'andrew.fastow@enron.com']\n",
    "start_tracking_date = datetime.date(1998, 1, 1)\n",
    "resignation_date = datetime.date(2001, 8, 14)\n",
    "bankruptcy_date = datetime.date(2001, 12, 2)\n",
    "end_analysis_date = datetime.date(2002, 12, 31)"
   ]
  },
  {
   "cell_type": "code",
   "execution_count": 4,
   "metadata": {
    "collapsed": true
   },
   "outputs": [],
   "source": [
    "def action_simple_append(email_from, email_to, email_body, imp_email_stage_x, linked_members_stage_x = None):\n",
    "    return [1]"
   ]
  },
  {
   "cell_type": "markdown",
   "metadata": {},
   "source": [
    "## Let's look at the email counts where the 'trio' was involved across the stages"
   ]
  },
  {
   "cell_type": "markdown",
   "metadata": {},
   "source": [
    "> ### First, inspect the email distribution linked to the 'trio' by looking at Kenneth Lay's mailbox."
   ]
  },
  {
   "cell_type": "code",
   "execution_count": 5,
   "metadata": {
    "collapsed": false
   },
   "outputs": [
    {
     "name": "stdout",
     "output_type": "stream",
     "text": [
      "No of emails per week: 19 54 26\n"
     ]
    }
   ],
   "source": [
    "# Count emails during stages for Kenneth Lay's mailbox\n",
    "enronutil.reset_stages(imp_emails_stage1, imp_emails_stage2, imp_emails_stage3, unread_files)\n",
    "enronutil.readRecursively(relative_path + '/lay-k', imp_emails_stage1, imp_emails_stage2, imp_emails_stage3, unread_files, action_simple_append)\n",
    "\n",
    "stg1_emails_week = int(len(imp_emails_stage1) / ((resignation_date - start_tracking_date).days / 7))\n",
    "stg2_emails_week = int(len(imp_emails_stage2) / ((bankruptcy_date - resignation_date).days / 7))\n",
    "stg3_emails_week = int(len(imp_emails_stage3) / ((end_analysis_date - bankruptcy_date).days / 7))\n",
    "\n",
    "print('No of emails per week:', stg1_emails_week, stg2_emails_week, stg3_emails_week)\n",
    "\n"
   ]
  },
  {
   "cell_type": "markdown",
   "metadata": {},
   "source": [
    "> ### Next, inspect the email distribution linked to the 'trio' by looking at Jeff Skilling's mailbox."
   ]
  },
  {
   "cell_type": "code",
   "execution_count": 6,
   "metadata": {
    "collapsed": false
   },
   "outputs": [
    {
     "name": "stdout",
     "output_type": "stream",
     "text": [
      "No of emails per week: 17 47 0\n"
     ]
    }
   ],
   "source": [
    "# Count emails during stages for Jeff Skilling's mailbox\n",
    "enronutil.reset_stages(imp_emails_stage1, imp_emails_stage2, imp_emails_stage3, unread_files)\n",
    "enronutil.readRecursively(relative_path + '/skilling-j', imp_emails_stage1, imp_emails_stage2, imp_emails_stage3, unread_files, action_simple_append)\n",
    "\n",
    "stg1_emails_week = int(len(imp_emails_stage1) / ((resignation_date - start_tracking_date).days / 7))\n",
    "stg2_emails_week = int(len(imp_emails_stage2) / ((bankruptcy_date - resignation_date).days / 7))\n",
    "stg3_emails_week = int(len(imp_emails_stage3) / ((end_analysis_date - bankruptcy_date).days / 7))\n",
    "\n",
    "print('No of emails per week:', stg1_emails_week, stg2_emails_week, stg3_emails_week)\n",
    "\n"
   ]
  },
  {
   "cell_type": "markdown",
   "metadata": {},
   "source": [
    "### Conclusion 1: "
   ]
  },
  {
   "cell_type": "markdown",
   "metadata": {},
   "source": [
    "> ### Looking at how closely their involvement matches up across the first 2 stages, there is no doubt that he must have had access to insider information even after his resignation."
   ]
  }
 ],
 "metadata": {
  "anaconda-cloud": {},
  "kernelspec": {
   "display_name": "Python [conda root]",
   "language": "python",
   "name": "conda-root-py"
  },
  "language_info": {
   "codemirror_mode": {
    "name": "ipython",
    "version": 3
   },
   "file_extension": ".py",
   "mimetype": "text/x-python",
   "name": "python",
   "nbconvert_exporter": "python",
   "pygments_lexer": "ipython3",
   "version": "3.5.2"
  }
 },
 "nbformat": 4,
 "nbformat_minor": 1
}
