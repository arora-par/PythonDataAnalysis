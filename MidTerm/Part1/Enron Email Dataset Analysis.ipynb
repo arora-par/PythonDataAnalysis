{
 "cells": [
  {
   "cell_type": "markdown",
   "metadata": {},
   "source": [
    "### Enron Scandal Email Dataset Analysis"
   ]
  },
  {
   "cell_type": "markdown",
   "metadata": {},
   "source": [
    "### Parse the emails and identify people linked to C-suite"
   ]
  },
  {
   "cell_type": "code",
   "execution_count": 1,
   "metadata": {
    "collapsed": true
   },
   "outputs": [],
   "source": [
    "from email.parser import Parser\n",
    "import glob\n",
    "import os\n",
    "import datetime\n",
    "import sys\n",
    "from collections import Counter\n"
   ]
  },
  {
   "cell_type": "markdown",
   "metadata": {},
   "source": [
    "### Function Definitions and Variables"
   ]
  },
  {
   "cell_type": "code",
   "execution_count": 2,
   "metadata": {
    "collapsed": false
   },
   "outputs": [],
   "source": [
    "# Change the value of this variable as per your directory structure\n",
    "relative_path = '/Users/tanya/midterm/data/enron/maildir'\n"
   ]
  },
  {
   "cell_type": "code",
   "execution_count": 3,
   "metadata": {
    "collapsed": true
   },
   "outputs": [],
   "source": [
    "# Preparation for analysis\n",
    "imp_emails_stage1 = []\n",
    "imp_emails_stage2 = []\n",
    "imp_emails_stage3 = []\n",
    "unread_files = []\n",
    "\n",
    "# The TRIO - CEO, COO and CFO\n",
    "imp_people = ['kenneth.lay@enron.com', 'jeff.skilling@enron.com', 'andrew.fastow@enron.com']\n",
    "start_tracking_date = datetime.date(1998, 1, 1)\n",
    "resignation_date = datetime.date(2001, 8, 14)\n",
    "bankruptcy_date = datetime.date(2001, 12, 2)\n",
    "\n",
    "# Identified in previous analysis\n",
    "linked_members_stage_1 = ['rob.bradley@enron.com', 'joe.hillings@enron.com', \n",
    "                  'jeffrey.garten@yale.edu', 'mark.lay@enron.com','sally.keepers@enron.com', \n",
    "                    'sherri.sera@enron.com','kevinscott@onlinemailbox.net', \n",
    "                    'eharris@insightpartners.com','joannie.williamson@enron.com',\n",
    "                    'jeffrey.shankman@enron.com']\n",
    "\n",
    "linked_members_stage_2 = ['enron_update@concureworkplace.com', 'l..wells@enron.com,'\n",
    "                          ,'svarga@kudlow.com', 'nshaw@usenergyservices.com', \n",
    "                          'j..kean@enron.com', 'john@pgsenergy.com', \n",
    "                          'hema@izhuta.com','bpaddock@ghcf.org', 'news@real-net.net', \n",
    "                          '_corolla@response.etracks.com']\n",
    "\n",
    "linked_members_stage_3 = ['svarga@kudlow.com', 'mailings@cnn.com', 'lynda.l.phinney@williams.com', 'enron_update@concureworkplace.com','jharwood@mindspring.com']"
   ]
  },
  {
   "cell_type": "code",
   "execution_count": 4,
   "metadata": {
    "collapsed": true
   },
   "outputs": [],
   "source": [
    "def reset_stages(imp_emails_stage1, imp_emails_stage2, imp_emails_stage3, unread_files):\n",
    "    del imp_emails_stage1[:]\n",
    "    del imp_emails_stage2[:]\n",
    "    del imp_emails_stage3[:]\n",
    "    del unread_files[:]\n"
   ]
  },
  {
   "cell_type": "code",
   "execution_count": 5,
   "metadata": {
    "collapsed": true
   },
   "outputs": [],
   "source": [
    "def apply_action_for_stages(email_item, imp_emails_stage1, imp_emails_stage2, imp_emails_stage3, action):\n",
    "    \n",
    "    email_from = email_item['from']\n",
    "    email_recipients = []\n",
    "    email_to = email_item['to']\n",
    "    if email_to:\n",
    "        email_recipients = email_recipients + email_to.split()\n",
    "    email_cc = email_item['cc']\n",
    "    if email_cc:\n",
    "        email_recipients = email_recipients + email_cc.split()\n",
    "    email_bcc = email_item['bcc']    \n",
    "    if email_bcc:\n",
    "        email_recipients = email_recipients + email_bcc.split()\n",
    "        \n",
    "    email_date = email_item['date']\n",
    "    parsed_date = datetime.datetime.strptime(email_date[:-6], \"%a, %d %b %Y %H:%M:%S %z\")\n",
    "    parsed_date = parsed_date.date()    \n",
    "    \n",
    "    # check dates to figure out stage number\n",
    "    if parsed_date > start_tracking_date and parsed_date <= resignation_date:                                \n",
    "        # invoke action on corresponding stage\n",
    "        action(email_from, email_recipients, imp_emails_stage1, linked_members_stage_1)\n",
    "    elif parsed_date > resignation_date and parsed_date < bankruptcy_date:                                \n",
    "        action(email_from, email_recipients, imp_emails_stage2, linked_members_stage_2)\n",
    "    elif parsed_date > bankruptcy_date:                                    \n",
    "        action(email_from, email_recipients, imp_emails_stage3, linked_members_stage_3)"
   ]
  },
  {
   "cell_type": "code",
   "execution_count": 6,
   "metadata": {
    "collapsed": false
   },
   "outputs": [],
   "source": [
    "def readRecursively(dirname, imp_emails_stage1, imp_emails_stage2, imp_emails_stage3, unread_files, action):\n",
    "    for item in glob.glob(dirname + '/*'):\n",
    "        if os.path.isfile(item):\n",
    "            try:\n",
    "                with open(item) as email_file:                \n",
    "                    email_item = Parser().parsestr(email_file.read())\n",
    "                    if (email_item):\n",
    "                        apply_action_for_stages(email_item, imp_emails_stage1, imp_emails_stage2, imp_emails_stage3, action)\n",
    "                            \n",
    "            except UnicodeDecodeError:\n",
    "                unread_files.append(item)                                \n",
    "        else:\n",
    "            readRecursively(item, imp_emails_stage1, imp_emails_stage2, imp_emails_stage3, unread_files, action)\n"
   ]
  },
  {
   "cell_type": "code",
   "execution_count": 7,
   "metadata": {
    "collapsed": false
   },
   "outputs": [],
   "source": [
    "def action_word_bags(email_from, email_to, email_body, imp_email_stage_x, linked_members_stage_x):\n",
    "    email_participants = email_from + email_to    \n",
    "    participant_is_member_list = [p for p in email_participants if p in linked_members_stage_x]    \n",
    "    if participant_is_member_list:\n",
    "        imp_email_stage_x.extend(email_body.split())"
   ]
  },
  {
   "cell_type": "code",
   "execution_count": 8,
   "metadata": {
    "collapsed": true
   },
   "outputs": [],
   "source": [
    "def action_simple_append(email_from, email_to, email_body, imp_email_stage_x, linked_members_stage_x = None):\n",
    "    imp_email_stage_x.append(1)"
   ]
  },
  {
   "cell_type": "code",
   "execution_count": 9,
   "metadata": {
    "collapsed": true
   },
   "outputs": [],
   "source": [
    "def action_identify_people(email_from, email_to, email_body, imp_email_stage_x, linked_members_stage_x = None):\n",
    "    # check if sent FROM one of the imp_people\n",
    "    if email_from in imp_people:\n",
    "        # track people in sent TO list\n",
    "        imp_email_stage_x.extend([e for e in email_to]) \n",
    "    else:\n",
    "        # check if recipient is one of imp_people\n",
    "        imp_in_to_list = [e for e in email_to if e in imp_people]                                \n",
    "        if imp_in_to_list:\n",
    "            imp_email_stage_x.append(email_from)\n",
    "            # imp_email_stage_x.extend(imp_in_to_list)"
   ]
  },
  {
   "cell_type": "markdown",
   "metadata": {},
   "source": [
    "## Find out the other people linked to the 'trio' by looking at Kenneth Lay's mailbox."
   ]
  },
  {
   "cell_type": "markdown",
   "metadata": {},
   "source": [
    "> ### First let's look at the email counts where the 'trio' was involved across the stages"
   ]
  },
  {
   "cell_type": "code",
   "execution_count": 10,
   "metadata": {
    "collapsed": false
   },
   "outputs": [
    {
     "name": "stdout",
     "output_type": "stream",
     "text": [
      "No of emails: 0 0 0\n"
     ]
    }
   ],
   "source": [
    "# Count emails during stages for Kenneth Lay's mailbox\n",
    "reset_stages(imp_emails_stage1, imp_emails_stage2, imp_emails_stage3, unread_files)\n",
    "readRecursively(relative_path + '/lay-k', imp_emails_stage1, imp_emails_stage2, imp_emails_stage3, unread_files, action_simple_append)\n",
    "print('No of emails:', len(imp_emails_stage1), len(imp_emails_stage2), len(imp_emails_stage3))"
   ]
  },
  {
   "cell_type": "markdown",
   "metadata": {},
   "source": [
    "> ### Next, identify email ids that appear the most with the 'trio'"
   ]
  },
  {
   "cell_type": "code",
   "execution_count": 11,
   "metadata": {
    "collapsed": false,
    "scrolled": true
   },
   "outputs": [
    {
     "name": "stdout",
     "output_type": "stream",
     "text": [
      "Email Ids: 0 0 0\n",
      "Top 5 people in stage 1: \n",
      "Top 5 people in stage 2: \n",
      "Top 5 people in stage 3: \n"
     ]
    }
   ],
   "source": [
    "# Identify people (email_ids) during stages for Kenneth Lay's mailbox\n",
    "reset_stages(imp_emails_stage1, imp_emails_stage2, imp_emails_stage3, unread_files)\n",
    "readRecursively(relative_path + '/lay-k', imp_emails_stage1, imp_emails_stage2, imp_emails_stage3, unread_files, action_identify_people)\n",
    "print('Email Ids:', len(set(imp_emails_stage1)), len(set(imp_emails_stage2)), len(set(imp_emails_stage3)))\n",
    "\n",
    "email_occurrence_1 = Counter(imp_emails_stage1)\n",
    "email_occurrence_2 = Counter(imp_emails_stage2)\n",
    "email_occurrence_3 = Counter(imp_emails_stage3)\n",
    "\n",
    "s1_top = sorted(email_occurrence_1.items(), key=lambda i:i[1], reverse=True)[:5]\n",
    "s2_top = sorted(email_occurrence_2.items(), key=lambda i:i[1], reverse=True)[:5]\n",
    "s3_top = sorted(email_occurrence_3.items(), key=lambda i:i[1], reverse=True)[:5]\n",
    "\n",
    "print('Top 5 people in stage 1: ')\n",
    "for i in s1_top:\n",
    "    print(i)\n",
    "\n",
    "print('Top 5 people in stage 2: ')\n",
    "for i in s2_top:\n",
    "    print(i)\n",
    "\n",
    "print('Top 5 people in stage 3: ')\n",
    "for i in s3_top:\n",
    "    print(i)\n"
   ]
  },
  {
   "cell_type": "markdown",
   "metadata": {},
   "source": [
    "> ### Finally, let's see what these guys have been up to"
   ]
  },
  {
   "cell_type": "code",
   "execution_count": 12,
   "metadata": {
    "collapsed": true
   },
   "outputs": [],
   "source": [
    "# Action Function for word count\n",
    "\n"
   ]
  },
  {
   "cell_type": "markdown",
   "metadata": {},
   "source": [
    "## Now let's do the same thing on Jeff Skillings mailbox"
   ]
  },
  {
   "cell_type": "code",
   "execution_count": 13,
   "metadata": {
    "collapsed": false
   },
   "outputs": [
    {
     "name": "stdout",
     "output_type": "stream",
     "text": [
      "No of emails 0 0 0\n"
     ]
    }
   ],
   "source": [
    "# Count emails during stages for Jeff Skilling's mailbox\n",
    "reset_stages(imp_emails_stage1, imp_emails_stage2, imp_emails_stage3, unread_files)\n",
    "readRecursively(relative_path + '/skilling-j', imp_emails_stage1, imp_emails_stage2, imp_emails_stage3, unread_files, action_simple_append)\n",
    "print('No of emails', len(imp_emails_stage1), len(imp_emails_stage2), len(imp_emails_stage3))"
   ]
  },
  {
   "cell_type": "code",
   "execution_count": 14,
   "metadata": {
    "collapsed": false
   },
   "outputs": [
    {
     "name": "stdout",
     "output_type": "stream",
     "text": [
      "Email Ids 0 0 0\n",
      "Top 5 people in stage 1: \n",
      "Top 5 people in stage 2: \n"
     ]
    }
   ],
   "source": [
    "# Identify people (email_ids) during stages for Jeff Skilling's mailbox\n",
    "reset_stages(imp_emails_stage1, imp_emails_stage2, imp_emails_stage3, unread_files)\n",
    "readRecursively(relative_path + '/skilling-j', imp_emails_stage1, imp_emails_stage2, imp_emails_stage3, unread_files, action_identify_people)\n",
    "print('Email Ids', len(set(imp_emails_stage1)), len(set(imp_emails_stage2)), len(set(imp_emails_stage3)))\n",
    "\n",
    "email_occurrence_1 = Counter(imp_emails_stage1)\n",
    "email_occurrence_2 = Counter(imp_emails_stage2)\n",
    "email_occurrence_3 = Counter(imp_emails_stage3)\n",
    "\n",
    "s1_top = sorted(email_occurrence_1.items(), key=lambda i:i[1], reverse=True)[:5]\n",
    "s2_top = sorted(email_occurrence_2.items(), key=lambda i:i[1], reverse=True)[:5]\n",
    "# No people in stage 3 because Jeff Skillings resigned\n",
    "\n",
    "print('Top 5 people in stage 1: ')\n",
    "for i in s1_top:\n",
    "    print(i)\n",
    "\n",
    "print('Top 5 people in stage 2: ')\n",
    "for i in s2_top:\n",
    "    print(i)\n"
   ]
  },
  {
   "cell_type": "code",
   "execution_count": null,
   "metadata": {
    "collapsed": false
   },
   "outputs": [],
   "source": []
  },
  {
   "cell_type": "code",
   "execution_count": null,
   "metadata": {
    "collapsed": false
   },
   "outputs": [],
   "source": []
  },
  {
   "cell_type": "code",
   "execution_count": null,
   "metadata": {
    "collapsed": true
   },
   "outputs": [],
   "source": []
  },
  {
   "cell_type": "code",
   "execution_count": null,
   "metadata": {
    "collapsed": true
   },
   "outputs": [],
   "source": []
  },
  {
   "cell_type": "code",
   "execution_count": null,
   "metadata": {
    "collapsed": true
   },
   "outputs": [],
   "source": []
  },
  {
   "cell_type": "code",
   "execution_count": null,
   "metadata": {
    "collapsed": true
   },
   "outputs": [],
   "source": []
  },
  {
   "cell_type": "code",
   "execution_count": 15,
   "metadata": {
    "collapsed": false
   },
   "outputs": [
    {
     "name": "stdout",
     "output_type": "stream",
     "text": [
      "from a..davis@enron.com\n",
      "to ['kenneth.lay@enron.com']\n",
      "cc ['cindy.olson@enron.com']\n",
      "bcc ['cindy.olson@enron.com']\n",
      "combined ['kenneth.lay@enron.com', 'cindy.olson@enron.com', 'cindy.olson@enron.com']\n",
      "<class 'str'>\n"
     ]
    }
   ],
   "source": [
    "item = relative_path + '/lay-k/inbox/5.'\n",
    "with open(item) as email_file:                \n",
    "    email_item = Parser().parsestr(email_file.read())\n",
    "    if (email_item):\n",
    "        email_body = email_item.get_payload()\n",
    "        email_from = email_item['from']\n",
    "        email_to = email_item['to']\n",
    "        if email_to:\n",
    "            email_to = email_to.split()\n",
    "        email_cc = email_item['cc']    \n",
    "        if email_cc:\n",
    "            email_cc = email_cc.split()\n",
    "        email_bcc = email_item['bcc']    \n",
    "        if email_bcc:\n",
    "            email_bcc = email_bcc.split()   \n",
    "            \n",
    "    print('from', email_from)        \n",
    "    print('to', email_to)\n",
    "    print('cc', email_cc)\n",
    "    print('bcc', email_bcc)  \n",
    "    print('combined', email_to + email_cc  + email_bcc)\n",
    "    \n",
    "    print(type(email_body))"
   ]
  },
  {
   "cell_type": "markdown",
   "metadata": {},
   "source": [
    "a = []\n",
    "b = ['a','b']\n",
    "c = ['a','b','c']\n",
    "a = a+b\n",
    "a"
   ]
  },
  {
   "cell_type": "markdown",
   "metadata": {},
   "source": [
    "a = a+c\n",
    "a"
   ]
  },
  {
   "cell_type": "code",
   "execution_count": null,
   "metadata": {
    "collapsed": true
   },
   "outputs": [],
   "source": []
  }
 ],
 "metadata": {
  "anaconda-cloud": {},
  "kernelspec": {
   "display_name": "Python [conda root]",
   "language": "python",
   "name": "conda-root-py"
  },
  "language_info": {
   "codemirror_mode": {
    "name": "ipython",
    "version": 3
   },
   "file_extension": ".py",
   "mimetype": "text/x-python",
   "name": "python",
   "nbconvert_exporter": "python",
   "pygments_lexer": "ipython3",
   "version": "3.5.2"
  }
 },
 "nbformat": 4,
 "nbformat_minor": 1
}
