{
 "cells": [
  {
   "cell_type": "markdown",
   "metadata": {},
   "source": [
    "## Enron Scandal - Analysis 2"
   ]
  },
  {
   "cell_type": "markdown",
   "metadata": {},
   "source": [
    "### Identify the people (email ids) that communicated the most with the 'trio' over different stages of the Fraud and the Fate of the company"
   ]
  },
  {
   "cell_type": "code",
   "execution_count": 1,
   "metadata": {
    "collapsed": true
   },
   "outputs": [],
   "source": [
    "# The common functionality has been extracted and reused from the enronutil python module\n",
    "import enronutil\n",
    "# Other regular imports\n",
    "from email.parser import Parser\n",
    "import glob\n",
    "import os\n",
    "import datetime\n",
    "from collections import Counter\n",
    "from wordcloud import WordCloud, STOPWORDS\n",
    "import matplotlib.pyplot as plt"
   ]
  },
  {
   "cell_type": "code",
   "execution_count": 2,
   "metadata": {
    "collapsed": true
   },
   "outputs": [],
   "source": [
    "# Change the value of this variable as per your directory structure\n",
    "relative_path = '/Users/tanya/midterm/data/enron/maildir'"
   ]
  },
  {
   "cell_type": "code",
   "execution_count": 3,
   "metadata": {
    "collapsed": true
   },
   "outputs": [],
   "source": [
    "# Preparation for analysis\n",
    "imp_emails_stage1 = []\n",
    "imp_emails_stage2 = []\n",
    "imp_emails_stage3 = []\n",
    "unread_files = []\n",
    "\n",
    "# The TRIO - CEO, COO and CFO\n",
    "imp_people = ['kenneth.lay@enron.com', 'jeff.skilling@enron.com', 'andrew.fastow@enron.com']\n",
    "start_tracking_date = datetime.date(1998, 1, 1)\n",
    "resignation_date = datetime.date(2001, 8, 14)\n",
    "bankruptcy_date = datetime.date(2001, 12, 2)\n",
    "end_analysis_date = datetime.date(2002, 12, 31)"
   ]
  },
  {
   "cell_type": "code",
   "execution_count": 4,
   "metadata": {
    "collapsed": true
   },
   "outputs": [],
   "source": [
    "def action_identify_people(email_from, email_to, email_body, imp_email_stage_x, linked_members_stage_x = None):\n",
    "    # check if sent FROM one of the imp_people\n",
    "    if email_from in imp_people:\n",
    "        # track people in sent TO list\n",
    "        return email_to\n",
    "    else:\n",
    "        # check if recipient is one of imp_people\n",
    "        imp_in_to_list = [e for e in email_to if e in imp_people]                                \n",
    "        if imp_in_to_list:\n",
    "            return [email_from]\n",
    "            # imp_email_stage_x.extend(imp_in_to_list)\n",
    "    return []        "
   ]
  },
  {
   "cell_type": "markdown",
   "metadata": {},
   "source": [
    "## Let's identify the top 5 communicators linked to the 'trio' across the stages"
   ]
  },
  {
   "cell_type": "markdown",
   "metadata": {},
   "source": [
    "> ### First, find out the other people linked to the 'trio' by looking at Kenneth Lay's mailbox."
   ]
  },
  {
   "cell_type": "code",
   "execution_count": 5,
   "metadata": {
    "collapsed": false
   },
   "outputs": [
    {
     "name": "stdout",
     "output_type": "stream",
     "text": [
      "\n",
      "Top 5 people in stage 1: \n",
      "('rob.bradley@enron.com', 31)\n",
      "('joe.hillings@enron.com', 22)\n",
      "('mark.lay@enron.com', 18)\n",
      "('jeffrey.garten@yale.edu', 18)\n",
      "('sally.keepers@enron.com', 17)\n",
      "\n",
      "Top 5 people in stage 2: \n",
      "('svarga@kudlow.com', 7)\n",
      "('l..wells@enron.com,', 7)\n",
      "('enron_update@concureworkplace.com', 7)\n",
      "('nshaw@usenergyservices.com', 6)\n",
      "('j..kean@enron.com', 6)\n",
      "\n",
      "Top 5 people in stage 3: \n",
      "('svarga@kudlow.com', 13)\n",
      "('mailings@cnn.com', 11)\n",
      "('lynda.l.phinney@williams.com', 7)\n",
      "('enron_update@concureworkplace.com', 6)\n",
      "('jharwood@mindspring.com', 5)\n"
     ]
    }
   ],
   "source": [
    "# Identify people (email_ids) during stages for Kenneth Lay's mailbox\n",
    "enronutil.reset_stages(imp_emails_stage1, imp_emails_stage2, imp_emails_stage3, unread_files)\n",
    "enronutil.readRecursively(relative_path + '/lay-k', imp_emails_stage1, imp_emails_stage2, imp_emails_stage3, unread_files, action_identify_people)\n",
    "\n",
    "email_occurrence_1 = Counter(imp_emails_stage1)\n",
    "email_occurrence_2 = Counter(imp_emails_stage2)\n",
    "email_occurrence_3 = Counter(imp_emails_stage3)\n",
    "\n",
    "s1_top = sorted(email_occurrence_1.items(), key=lambda i:i[1], reverse=True)[:5]\n",
    "s2_top = sorted(email_occurrence_2.items(), key=lambda i:i[1], reverse=True)[:5]\n",
    "s3_top = sorted(email_occurrence_3.items(), key=lambda i:i[1], reverse=True)[:5]\n",
    "\n",
    "print('\\nTop 5 people in stage 1: ')\n",
    "for i in s1_top:\n",
    "    print(i)\n",
    "\n",
    "print('\\nTop 5 people in stage 2: ')\n",
    "for i in s2_top:\n",
    "    print(i)\n",
    "\n",
    "print('\\nTop 5 people in stage 3: ')\n",
    "for i in s3_top:\n",
    "    print(i)\n",
    "\n"
   ]
  },
  {
   "cell_type": "markdown",
   "metadata": {},
   "source": [
    "> ### Next, find out the other people linked to the 'trio' by looking at Jeff Skilling's mailbox."
   ]
  },
  {
   "cell_type": "code",
   "execution_count": 6,
   "metadata": {
    "collapsed": false
   },
   "outputs": [
    {
     "name": "stdout",
     "output_type": "stream",
     "text": [
      "\n",
      "Top 5 people in stage 1: \n",
      "('sherri.sera@enron.com', 23)\n",
      "('kevinscott@onlinemailbox.net', 20)\n",
      "('eharris@insightpartners.com', 17)\n",
      "('joannie.williamson@enron.com', 16)\n",
      "('fparra@swbanktx.com', 15)\n",
      "\n",
      "Top 5 people in stage 2: \n",
      "('john@pgsenergy.com', 10)\n",
      "('hema@izhuta.com', 7)\n",
      "('news@real-net.net', 4)\n",
      "('bpaddock@ghcf.org', 4)\n",
      "('_corolla@response.etracks.com', 4)\n"
     ]
    }
   ],
   "source": [
    "# Identify people (email_ids) during stages for Kenneth Lay's mailbox\n",
    "enronutil.reset_stages(imp_emails_stage1, imp_emails_stage2, imp_emails_stage3, unread_files)\n",
    "enronutil.readRecursively(relative_path + '/skilling-j', imp_emails_stage1, imp_emails_stage2, imp_emails_stage3, unread_files, action_identify_people)\n",
    "\n",
    "email_occurrence_1 = Counter(imp_emails_stage1)\n",
    "email_occurrence_2 = Counter(imp_emails_stage2)\n",
    "email_occurrence_3 = Counter(imp_emails_stage3)\n",
    "\n",
    "s1_top = sorted(email_occurrence_1.items(), key=lambda i:i[1], reverse=True)[:5]\n",
    "s2_top = sorted(email_occurrence_2.items(), key=lambda i:i[1], reverse=True)[:5]\n",
    "# No people in stage 3 because Jeff Skillings resigned\n",
    "\n",
    "print('\\nTop 5 people in stage 1: ')\n",
    "for i in s1_top:\n",
    "    print(i)\n",
    "\n",
    "print('\\nTop 5 people in stage 2: ')\n",
    "for i in s2_top:\n",
    "    print(i)"
   ]
  },
  {
   "cell_type": "markdown",
   "metadata": {},
   "source": [
    "### Conclusion 2: "
   ]
  },
  {
   "cell_type": "markdown",
   "metadata": {},
   "source": [
    "> ### There are different people involved in different stages in both Kenneth Lay's an Jeff Skilling's emails. This means that while the 'trio' gained the most from the scandal, there were a lot more people tha must have helped them with the Fraudulent Financial Accounting during Stage 1 and later Insider Trading during Stage 2. "
   ]
  },
  {
   "cell_type": "markdown",
   "metadata": {},
   "source": [
    "> ### As it is evident from some of the email ids, the government agencies (GHCF) and media (CNN) started questioning the resignation of Jeff Skilling and they continued to question them after the Bankruptcy. There was something wrong before and after Jeff Skilling was CEO and the media had got the attention."
   ]
  }
 ],
 "metadata": {
  "anaconda-cloud": {},
  "kernelspec": {
   "display_name": "Python [conda root]",
   "language": "python",
   "name": "conda-root-py"
  },
  "language_info": {
   "codemirror_mode": {
    "name": "ipython",
    "version": 3
   },
   "file_extension": ".py",
   "mimetype": "text/x-python",
   "name": "python",
   "nbconvert_exporter": "python",
   "pygments_lexer": "ipython3",
   "version": "3.5.2"
  }
 },
 "nbformat": 4,
 "nbformat_minor": 1
}
