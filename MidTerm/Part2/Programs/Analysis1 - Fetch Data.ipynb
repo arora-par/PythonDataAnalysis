{
 "cells": [
  {
   "cell_type": "markdown",
   "metadata": {},
   "source": [
    "## Fetch Data - New York Times - Article Search API - Sports"
   ]
  },
  {
   "cell_type": "code",
   "execution_count": null,
   "metadata": {
    "collapsed": false
   },
   "outputs": [],
   "source": [
    "import requests\n",
    "import os\n",
    "import json\n",
    "import time\n",
    "from datetime import datetime"
   ]
  },
  {
   "cell_type": "markdown",
   "metadata": {},
   "source": [
    "#### Confirm key"
   ]
  },
  {
   "cell_type": "code",
   "execution_count": null,
   "metadata": {
    "collapsed": false
   },
   "outputs": [],
   "source": [
    "nyt_api_key = os.getenv('NYT_API_KEY')\n",
    "articlesearch_url = 'https://api.nytimes.com/svc/search/v2/articlesearch.json'\n",
    "print('Value of the environment variable for api-key: ', nyt_api_key) "
   ]
  },
  {
   "cell_type": "markdown",
   "metadata": {},
   "source": [
    "### Define all the functions needed to carry out the download process dynamically"
   ]
  },
  {
   "cell_type": "code",
   "execution_count": null,
   "metadata": {
    "collapsed": true
   },
   "outputs": [],
   "source": [
    "def createdir(filename):                           # funtion to create directory if not exists\n",
    "    dirname=os.path.dirname(filename)\n",
    "    if not os.path.exists(dirname):\n",
    "        os.makedirs(dirname)"
   ]
  },
  {
   "cell_type": "code",
   "execution_count": null,
   "metadata": {
    "collapsed": true
   },
   "outputs": [],
   "source": [
    "def saveDocs(folderName, page, docs):             # funtion to save downloaded data\n",
    "    for doc in docs:\n",
    "        pub_datetime_str = doc['pub_date']\n",
    "        pub_datetime = datetime.strptime(pub_datetime_str[0:19], \"%Y-%m-%dT%H:%M:%S\")\n",
    "        month_name = pub_datetime.strftime(\"%b\")\n",
    "        \n",
    "        finalfilepath = '../Data/NYT/Sports/' + folderName + '/' + month_name + '/' + doc['_id'] + '.json'\n",
    "        createdir(finalfilepath)\n",
    "        with open(finalfilepath, 'w') as open_file:\n",
    "            json.dump(doc, open_file)"
   ]
  },
  {
   "cell_type": "code",
   "execution_count": null,
   "metadata": {
    "collapsed": true
   },
   "outputs": [],
   "source": [
    "# This is the primary function that starts the whole process\n",
    "def downloadData(url, reqparams, destFolder):\n",
    "    remaining_pages = downloadFirstPage(url, reqparams, destFolder)\n",
    "    downloadRemainingPages(url, reqparams, remaining_pages, destFolder)"
   ]
  },
  {
   "cell_type": "code",
   "execution_count": null,
   "metadata": {
    "collapsed": false
   },
   "outputs": [],
   "source": [
    "# First request\n",
    "def downloadFirstPage(url, reqparams, destFolder):\n",
    "    r = requests.get(url, params = reqparams)\n",
    "    if r.status_code == 200:\n",
    "        jsonObj = json.loads(r.text)\n",
    "        # save docs from current request\n",
    "        saveDocs(destFolder, page = 0, docs = jsonObj['response']['docs'])\n",
    "        # get total hits to prepare for dynamically getting remaining docs\n",
    "        hits = jsonObj['response']['meta']['hits']\n",
    "        remaining_pages = int(hits / 10)\n",
    "        if hits % 10 == 0:\n",
    "            remaining_pages = remaining_pages - 1\n",
    "    else:\n",
    "        print('Error downloading first page', r.text)\n",
    "    print('Remaining pages:', remaining_pages)\n",
    "    return remaining_pages\n",
    "    "
   ]
  },
  {
   "cell_type": "code",
   "execution_count": null,
   "metadata": {
    "collapsed": false
   },
   "outputs": [],
   "source": [
    "# Download documents from remaining_pages\n",
    "def downloadRemainingPages(url, reqparams, remaining_pages, destFolder):\n",
    "    for page_number in range(1, remaining_pages + 1):\n",
    "        if page_number % 5:\n",
    "            # API restriction: sleep 1 sec after every 5 request \n",
    "            time.sleep(2)\n",
    "        reqparams['page'] = page_number\n",
    "        r = requests.get(url, params = reqparams)\n",
    "        if r.status_code == 200:\n",
    "            jsonObj = json.loads(r.text)\n",
    "            # save docs from current request\n",
    "            saveDocs(destFolder, page = page_number, docs = jsonObj['response']['docs'])\n",
    "        else:\n",
    "            print('Error downloading page:', page_number, r.text)\n",
    "\n",
    "\n"
   ]
  },
  {
   "cell_type": "code",
   "execution_count": null,
   "metadata": {
    "collapsed": false
   },
   "outputs": [],
   "source": [
    "# Request Map for Celtics\n",
    "reqparams = {'api-key':nyt_api_key, 'q':'Boston Celtics','begin_date':'20160101', 'end_date':'20161231'}\n",
    "downloadData(articlesearch_url, reqparams, 'Boston Celtics')"
   ]
  },
  {
   "cell_type": "code",
   "execution_count": null,
   "metadata": {
    "collapsed": false
   },
   "outputs": [],
   "source": [
    "# Request Map for Patriots\n",
    "reqparams = {'api-key':nyt_api_key, 'q':'New England Patriots','begin_date':'20160101', 'end_date':'20161231'}\n",
    "downloadData(articlesearch_url, reqparams, 'New England Patriots')"
   ]
  },
  {
   "cell_type": "code",
   "execution_count": null,
   "metadata": {
    "collapsed": false
   },
   "outputs": [],
   "source": []
  },
  {
   "cell_type": "code",
   "execution_count": null,
   "metadata": {
    "collapsed": true
   },
   "outputs": [],
   "source": []
  }
 ],
 "metadata": {
  "anaconda-cloud": {},
  "kernelspec": {
   "display_name": "Python [conda root]",
   "language": "python",
   "name": "conda-root-py"
  },
  "language_info": {
   "codemirror_mode": {
    "name": "ipython",
    "version": 3
   },
   "file_extension": ".py",
   "mimetype": "text/x-python",
   "name": "python",
   "nbconvert_exporter": "python",
   "pygments_lexer": "ipython3",
   "version": "3.5.2"
  }
 },
 "nbformat": 4,
 "nbformat_minor": 1
}
