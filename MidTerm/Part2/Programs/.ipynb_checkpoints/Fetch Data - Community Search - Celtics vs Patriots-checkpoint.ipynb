{
 "cells": [
  {
   "cell_type": "markdown",
   "metadata": {},
   "source": [
    "## Fetch Data - New York Times - Community API - Celtics vs Patriots"
   ]
  },
  {
   "cell_type": "code",
   "execution_count": null,
   "metadata": {
    "collapsed": true
   },
   "outputs": [],
   "source": [
    "import requests\n",
    "import os\n",
    "import json\n",
    "import time\n",
    "from datetime import datetime\n",
    "from wordcloud import WordCloud, STOPWORDS\n",
    "import glob\n",
    "import calendar\n"
   ]
  },
  {
   "cell_type": "markdown",
   "metadata": {},
   "source": [
    "#### Confirm key"
   ]
  },
  {
   "cell_type": "code",
   "execution_count": null,
   "metadata": {
    "collapsed": false
   },
   "outputs": [],
   "source": [
    "nyt_api_key = os.getenv('NYT_API_KEY')\n",
    "community_url = 'http://api.nytimes.com/svc/community/v3/user-content/url.json'\n",
    "print('Value of the environment variable for api-key: ', nyt_api_key) \n"
   ]
  },
  {
   "cell_type": "code",
   "execution_count": null,
   "metadata": {
    "collapsed": true
   },
   "outputs": [],
   "source": [
    "# Read Folder locations\n",
    "celtics_path = '../Data/NYT/Sports/Boston Celtics'\n",
    "patriots_path = '../Data/NYT/Sports/New England Patriots'"
   ]
  },
  {
   "cell_type": "code",
   "execution_count": null,
   "metadata": {
    "collapsed": true
   },
   "outputs": [],
   "source": [
    "# Write Folder locations\n",
    "celtics_comments_path = '../Data/NYT/Comments/Boston Celtics'\n",
    "patriots_comments_path = '../Data/NYT/Comments/New England Patriots'"
   ]
  },
  {
   "cell_type": "code",
   "execution_count": null,
   "metadata": {
    "collapsed": true
   },
   "outputs": [],
   "source": [
    "# Get Celtics Article URLs\n",
    "celtics_url_bag = []\n",
    "for monthly_path in glob.glob(celtics_path + '/*'):\n",
    "    for article_path in glob.glob(monthly_path + '/*.json'):\n",
    "        with open(article_path, 'r', encoding=\"utf-8-sig\") as f:     \n",
    "            jsonobj = json.load(f)\n",
    "            web_url = jsonobj['web_url']\n",
    "            celtics_url_bag.append(web_url)"
   ]
  },
  {
   "cell_type": "code",
   "execution_count": null,
   "metadata": {
    "collapsed": true
   },
   "outputs": [],
   "source": [
    "# Get Patriots Article URLs\n",
    "patriots_url_bag = []\n",
    "for monthly_path in glob.glob(patriots_path + '/*'):\n",
    "    for article_path in glob.glob(monthly_path + '/*.json'):\n",
    "        with open(article_path, 'r', encoding=\"utf-8-sig\") as f:     \n",
    "            jsonobj = json.load(f)\n",
    "            web_url = jsonobj['web_url']\n",
    "            patriots_url_bag.append(web_url)"
   ]
  },
  {
   "cell_type": "code",
   "execution_count": null,
   "metadata": {
    "collapsed": true
   },
   "outputs": [],
   "source": [
    "def createdir(filename):                           # funtion to create directory if not exists\n",
    "    dirname=os.path.dirname(filename)\n",
    "    if not os.path.exists(dirname):\n",
    "        os.makedirs(dirname)"
   ]
  },
  {
   "cell_type": "code",
   "execution_count": null,
   "metadata": {
    "collapsed": true
   },
   "outputs": [],
   "source": [
    "def saveDocs(folderName, comments):             # funtion to save downloaded data\n",
    "    for comment in comments:\n",
    "        comment_id = str(comment['commentID'])\n",
    "        finalfilepath =  folderName + '/' + comment_id + '.json'\n",
    "        createdir(finalfilepath)\n",
    "        with open(finalfilepath, 'w') as open_file:\n",
    "            json.dump(comment, open_file)"
   ]
  },
  {
   "cell_type": "code",
   "execution_count": null,
   "metadata": {
    "collapsed": false
   },
   "outputs": [],
   "source": [
    "# Patriots - Use URLs to fetch Comments\n",
    "reqparams2 = {'api-key':nyt_api_key}\n",
    "counter = 1\n",
    "for url_item in patriots_url_bag:\n",
    "    if counter == 300:\n",
    "        print('300 requests reached')\n",
    "        break\n",
    "    if counter % 5:\n",
    "        time.sleep(1)\n",
    "    counter = counter + 1\n",
    "    reqparams2['url'] = url_item\n",
    "    r = requests.get(community_url, params = reqparams2)\n",
    "    if r.status_code == 200:        \n",
    "        jsonCommentPat = json.loads(r.text)\n",
    "        # save docs from current request\n",
    "        commentsPat = jsonCommentPat['results']['comments']\n",
    "        if commentsPat:\n",
    "\n",
    "            saveDocs(patriots_comments_path, commentsPat)\n",
    "    else:\n",
    "        print(r.text)"
   ]
  },
  {
   "cell_type": "code",
   "execution_count": null,
   "metadata": {
    "collapsed": false
   },
   "outputs": [],
   "source": [
    "# Celtics - Use URLs to fetch Comments\n",
    "reqparams = {'api-key':nyt_api_key}\n",
    "counter = 0\n",
    "for url_item in celtics_url_bag:\n",
    "    if counter == 300:\n",
    "        print('300 requests reached')\n",
    "        break\n",
    "    if counter % 5:\n",
    "        time.sleep(1)\n",
    "    counter = counter + 1    \n",
    "    reqparams['url'] = url_item\n",
    "    r = requests.get(community_url, params = reqparams)\n",
    "    if r.status_code == 200:\n",
    "        jsonComment = json.loads(r.text)\n",
    "        # save docs from current request\n",
    "        comments = jsonComment['results']['comments']\n",
    "        saveDocs(celtics_comments_path, comments)\n",
    "    else:\n",
    "        print(r.text)\n",
    "print('Done saving comments for the articles.')        "
   ]
  }
 ],
 "metadata": {
  "anaconda-cloud": {},
  "kernelspec": {
   "display_name": "Python [conda root]",
   "language": "python",
   "name": "conda-root-py"
  },
  "language_info": {
   "codemirror_mode": {
    "name": "ipython",
    "version": 3
   },
   "file_extension": ".py",
   "mimetype": "text/x-python",
   "name": "python",
   "nbconvert_exporter": "python",
   "pygments_lexer": "ipython3",
   "version": "3.5.2"
  }
 },
 "nbformat": 4,
 "nbformat_minor": 1
}
