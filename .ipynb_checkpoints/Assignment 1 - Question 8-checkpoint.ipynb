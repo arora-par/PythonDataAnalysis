{
 "cells": [
  {
   "cell_type": "markdown",
   "metadata": {},
   "source": [
    "## Question 8. NLTK -> unusual words people use in chat"
   ]
  },
  {
   "cell_type": "code",
   "execution_count": 16,
   "metadata": {
    "collapsed": false
   },
   "outputs": [],
   "source": [
    "from nltk.corpus import nps_chat as chat\n",
    "from nltk.corpus import words"
   ]
  },
  {
   "cell_type": "code",
   "execution_count": 48,
   "metadata": {
    "collapsed": false
   },
   "outputs": [
    {
     "name": "stdout",
     "output_type": "stream",
     "text": [
      "The total no. of weird words found only in chat rooms is:  2865\n",
      "\n",
      "Some of these words are:\n",
      "\n",
      " [':(', 'beckley', 'lawl', 'zyban', 'evertonr', '...', 'flirts', 'canadaian', 'ny', 'u143', '3', 'lpn', '((((((((((((((((((((', 'foreplay', '^^', 'donuts', 'dr', 'definitley', 'jayse', 'jordison', 'goneee', 'e1', 'aqwesome', 'sweeeeeeeeet', 'blowjob', 'sets', 'polllution', 'heyyyyyyyy', 'msutah', 'midgets', 'u103', '>>>>>>>>>>', 'louder', 'clients', '64.8', 'congrat', 'suggested', 'pffft', 'n.n', 'finds', 'dem', 'every1', 'stationed', 'newp', 'sunnn', 'marlaya', 'xxxxxxxxxx', 'mama', 'files', 'u153', 'co-op', 'muahz', 'tacoma', '41', 'o0', 'ja', 'suked', 'entitled', 'u92', 'moochhhhhhhhh', 'ages', \"k's\", '98.5', 'sentences', 'hahaaaa', 'wahoooooooo', 'o_o', '0', 'hours', 'rashes', '77', 'categories', 'h.s', ')))))))', 'lavendar', 'beattles', 'heyyyy', '>>>>>>>>>>>>', 'listenin', 'pages', 'ohhhh', 'u71', 'e-husband', 'moanz', 'aim.com', 'pasties', '47.', 'suprise', 'convo', 'seagulls', 'hih', 'spelled', 'passes', '((((((', 'laughed', 'pro-se', 'awwww', 'nj', 'sevendust', 'chunks']\n"
     ]
    }
   ],
   "source": [
    "wl = words.words()\n",
    "cwl = set([w.lower() for p in chat.posts() for w in p])\n",
    "chat_lingo = cwl - set([w.lower() for w in wl])\n",
    "\n",
    "print('The total no. of weird words found only in chat rooms is: ', len(chat_lingo))\n",
    "print('\\nSome of these words are:\\n\\n', list(chat_lingo)[900:1000])\n",
    "        "
   ]
  },
  {
   "cell_type": "code",
   "execution_count": null,
   "metadata": {
    "collapsed": false
   },
   "outputs": [],
   "source": []
  },
  {
   "cell_type": "code",
   "execution_count": null,
   "metadata": {
    "collapsed": true
   },
   "outputs": [],
   "source": []
  }
 ],
 "metadata": {
  "anaconda-cloud": {},
  "kernelspec": {
   "display_name": "Python [conda root]",
   "language": "python",
   "name": "conda-root-py"
  },
  "language_info": {
   "codemirror_mode": {
    "name": "ipython",
    "version": 3
   },
   "file_extension": ".py",
   "mimetype": "text/x-python",
   "name": "python",
   "nbconvert_exporter": "python",
   "pygments_lexer": "ipython3",
   "version": "3.5.2"
  }
 },
 "nbformat": 4,
 "nbformat_minor": 1
}
