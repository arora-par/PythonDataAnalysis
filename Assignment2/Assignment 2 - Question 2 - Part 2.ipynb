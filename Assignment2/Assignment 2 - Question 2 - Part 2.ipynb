{
 "cells": [
  {
   "cell_type": "markdown",
   "metadata": {},
   "source": [
    "## Read the open timings of the restaurants from the given json files and save to csv"
   ]
  },
  {
   "cell_type": "code",
   "execution_count": 15,
   "metadata": {
    "collapsed": true
   },
   "outputs": [],
   "source": [
    "import glob\n",
    "import os\n",
    "import json\n",
    "import decimal\n",
    "import shutil\n",
    "import csv"
   ]
  },
  {
   "cell_type": "code",
   "execution_count": 13,
   "metadata": {
    "collapsed": false
   },
   "outputs": [
    {
     "name": "stdout",
     "output_type": "stream",
     "text": [
      "Total number of entries found: 40981\n"
     ]
    }
   ],
   "source": [
    "def parsefloat(s): return decimal.Decimal(str(round(float(s), 2)))  # function to indicate how to parse float values\n",
    "\n",
    "inputpath = os.getcwd() + '/Data/*.json'                      # source of original files\n",
    "\n",
    "listoftuples = []\n",
    "\n",
    "for filename in glob.glob(inputpath):                          # iteratively process all files \n",
    "    with open(filename, 'r', encoding=\"utf-8-sig\") as f:     \n",
    "        jsonobj = json.load(f, parse_float = parsefloat)\n",
    "        term = jsonobj['term']\n",
    "        if term == 'restaurants':   \n",
    "            hours = jsonobj.get('hours')\n",
    "            if (hours):                \n",
    "                country = jsonobj['location']['country']\n",
    "                city = jsonobj['location']['city']\n",
    "                entity = jsonobj['name']\n",
    "                for i in hours[0]['open']:\n",
    "                    dayofweek = i['day']\n",
    "                    starttime = i['start']\n",
    "                    endtime = i['end']\n",
    "                    newtuple = (entity, city, country, dayofweek, starttime, endtime)\n",
    "                    listoftuples.append(newtuple)\n",
    "\n",
    "print('Total number of entries found:', len(listoftuples))            \n"
   ]
  },
  {
   "cell_type": "code",
   "execution_count": 17,
   "metadata": {
    "collapsed": false
   },
   "outputs": [
    {
     "name": "stdout",
     "output_type": "stream",
     "text": [
      "The information has been written to the CSV file: openHours.csv\n"
     ]
    }
   ],
   "source": [
    "with open('openHours.csv', 'w', newline='') as csvfile:\n",
    "    hourswriter = csv.writer(csvfile, delimiter=',')\n",
    "    for hourstuple in listoftuples:\n",
    "        hourswriter.writerow(hourstuple)\n",
    "print('The information has been written to the CSV file: openHours.csv')        "
   ]
  },
  {
   "cell_type": "code",
   "execution_count": null,
   "metadata": {
    "collapsed": true
   },
   "outputs": [],
   "source": []
  }
 ],
 "metadata": {
  "anaconda-cloud": {},
  "kernelspec": {
   "display_name": "Python [conda root]",
   "language": "python",
   "name": "conda-root-py"
  },
  "language_info": {
   "codemirror_mode": {
    "name": "ipython",
    "version": 3
   },
   "file_extension": ".py",
   "mimetype": "text/x-python",
   "name": "python",
   "nbconvert_exporter": "python",
   "pygments_lexer": "ipython3",
   "version": "3.5.2"
  }
 },
 "nbformat": 4,
 "nbformat_minor": 1
}
