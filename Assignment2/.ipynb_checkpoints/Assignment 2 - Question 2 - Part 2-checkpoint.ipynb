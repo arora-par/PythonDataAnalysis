{
 "cells": [
  {
   "cell_type": "markdown",
   "metadata": {},
   "source": [
    "## Read the open timings of the restaurants from the given json files and save to csv"
   ]
  },
  {
   "cell_type": "code",
   "execution_count": 6,
   "metadata": {
    "collapsed": true
   },
   "outputs": [],
   "source": [
    "import glob\n",
    "import os\n",
    "import json\n",
    "import decimal\n",
    "import shutil"
   ]
  },
  {
   "cell_type": "code",
   "execution_count": 8,
   "metadata": {
    "collapsed": false
   },
   "outputs": [
    {
     "name": "stdout",
     "output_type": "stream",
     "text": [
      "None\n"
     ]
    }
   ],
   "source": [
    "def parsefloat(s): return decimal.Decimal(str(round(float(s), 2)))  # function to indicate how to parse float values\n",
    "\n",
    "inputpath = os.getcwd() + '/Data/*.json'                      # source of original files\n",
    "\n",
    "listoftuples = None\n",
    "\n",
    "for filename in glob.glob(inputpath):                          # iteratively process all files \n",
    "    with open(filename, 'r', encoding=\"utf-8-sig\") as f:     \n",
    "        jsonobj = json.load(f, parse_float = parsefloat)\n",
    "        term = jsonobj['term']\n",
    "        if term == 'restaurants':   \n",
    "            print('true 1')\n",
    "            hours = jsonobj['hours'][0]\n",
    "            if (hours):\n",
    "                print('true 2')\n",
    "                country = jsonobj['location']['country']\n",
    "                city = jsonobj['location']['city']\n",
    "                entity = jsonobj['name']\n",
    "                for i in hours['open']:\n",
    "                    print('true 3')\n",
    "                    dayofweek = i['day']\n",
    "                    starttime = i['start']\n",
    "                    endtime = i['end']\n",
    "                    newtuple = (entity, city, country, dayofweek, starttime, endtime)\n",
    "                    listoftuples.append(newtuple)\n",
    "\n",
    "print(listoftuples)            \n"
   ]
  },
  {
   "cell_type": "code",
   "execution_count": 5,
   "metadata": {
    "collapsed": false
   },
   "outputs": [
    {
     "name": "stdout",
     "output_type": "stream",
     "text": [
      "attractions\n"
     ]
    }
   ],
   "source": []
  },
  {
   "cell_type": "code",
   "execution_count": null,
   "metadata": {
    "collapsed": true
   },
   "outputs": [],
   "source": []
  }
 ],
 "metadata": {
  "anaconda-cloud": {},
  "kernelspec": {
   "display_name": "Python [conda root]",
   "language": "python",
   "name": "conda-root-py"
  },
  "language_info": {
   "codemirror_mode": {
    "name": "ipython",
    "version": 3
   },
   "file_extension": ".py",
   "mimetype": "text/x-python",
   "name": "python",
   "nbconvert_exporter": "python",
   "pygments_lexer": "ipython3",
   "version": "3.5.2"
  }
 },
 "nbformat": 4,
 "nbformat_minor": 1
}
