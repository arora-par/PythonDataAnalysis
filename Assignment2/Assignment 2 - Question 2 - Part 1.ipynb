{
 "cells": [
  {
   "cell_type": "markdown",
   "metadata": {},
   "source": [
    "# Arrange files in the given Data folder into categories and save to the Data Processed folder\n"
   ]
  },
  {
   "cell_type": "markdown",
   "metadata": {},
   "source": [
    "### Read all files and copy to directory structure according to this rule:\n",
    "\n",
    "### Data Processed/[country]/[state]/[city]/[term]/[categories]"
   ]
  },
  {
   "cell_type": "code",
   "execution_count": 6,
   "metadata": {
    "collapsed": false
   },
   "outputs": [],
   "source": [
    "import glob\n",
    "import os\n",
    "import json\n",
    "import decimal\n",
    "import shutil"
   ]
  },
  {
   "cell_type": "code",
   "execution_count": 7,
   "metadata": {
    "collapsed": false
   },
   "outputs": [],
   "source": [
    "def createdir(filename):                           # funtion to create directory if not exists\n",
    "    dirname=os.path.dirname(filename)\n",
    "    if not os.path.exists(dirname):\n",
    "        os.makedirs(dirname)\n",
    "        \n",
    "def parsefloat(s): return decimal.Decimal(str(round(float(s), 2)))  # function to indicate how to parse float values"
   ]
  },
  {
   "cell_type": "code",
   "execution_count": 12,
   "metadata": {
    "collapsed": false
   },
   "outputs": [
    {
     "name": "stdout",
     "output_type": "stream",
     "text": [
      "Original number of files is: 11728\n",
      "After copying the files across multiple categories, total files created is: 20397\n"
     ]
    }
   ],
   "source": [
    "inputpath = os.getcwd() + '/Data/*.json'                      # source of original files\n",
    "\n",
    "originalcounter = 0\n",
    "finalcounter = 0\n",
    "\n",
    "for filename in glob.glob(inputpath):                          # iteratively process all files \n",
    "    with open(filename, 'r', encoding=\"utf-8-sig\") as f:     \n",
    "        jsonobj = json.load(f, parse_float = parsefloat)\n",
    "        country = jsonobj['location']['country']\n",
    "        state = jsonobj['location']['state']\n",
    "        city = jsonobj['location']['city']\n",
    "        term = jsonobj['term']\n",
    "        entity = jsonobj['name']\n",
    "        categories = jsonobj['categories']\n",
    "        \n",
    "        originalcounter = originalcounter + 1                      \n",
    "        for category in categories:\n",
    "            finalfilepath = 'Data Processed/' + country + '/' + state + '/' + city + '/' + term + '/' + category['alias'] + '/' + entity + '.json'\n",
    "            finalcounter = finalcounter + 1\n",
    "            createdir(finalfilepath)\n",
    "            shutil.copyfile(filename, finalfilepath)\n",
    "            \n",
    "\n",
    "print('Original number of files is:', originalcounter)            \n",
    "print('After copying the files across multiple categories, total files created is:', finalcounter)\n",
    "    "
   ]
  },
  {
   "cell_type": "code",
   "execution_count": null,
   "metadata": {
    "collapsed": true
   },
   "outputs": [],
   "source": [
    "\n"
   ]
  },
  {
   "cell_type": "code",
   "execution_count": null,
   "metadata": {
    "collapsed": true
   },
   "outputs": [],
   "source": []
  }
 ],
 "metadata": {
  "anaconda-cloud": {},
  "kernelspec": {
   "display_name": "Python [conda root]",
   "language": "python",
   "name": "conda-root-py"
  },
  "language_info": {
   "codemirror_mode": {
    "name": "ipython",
    "version": 3
   },
   "file_extension": ".py",
   "mimetype": "text/x-python",
   "name": "python",
   "nbconvert_exporter": "python",
   "pygments_lexer": "ipython3",
   "version": "3.5.2"
  }
 },
 "nbformat": 4,
 "nbformat_minor": 1
}
