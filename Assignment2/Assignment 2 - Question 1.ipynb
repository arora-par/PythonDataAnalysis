{
 "cells": [
  {
   "cell_type": "markdown",
   "metadata": {},
   "source": [
    "##  Prove if Zipf’s Law works in Natural Language or not."
   ]
  },
  {
   "cell_type": "markdown",
   "metadata": {},
   "source": [
    "###  Use ’glob’ to open and read file\n",
    ""
   ]
  },
  {
   "cell_type": "code",
   "execution_count": 101,
   "metadata": {
    "collapsed": false
   },
   "outputs": [],
   "source": [
    "import glob\n",
    "from collections import Counter\n",
    "import csv\n",
    "import numpy as np\n",
    "import matplotlib.pyplot as plt\n",
    "import string\n"
   ]
  },
  {
   "cell_type": "code",
   "execution_count": 107,
   "metadata": {
    "collapsed": false
   },
   "outputs": [],
   "source": [
    "path = '/Users/tanya/nltk_data/corpora/inaugural/19*.txt'  # taking all the speeches from 20th century\n",
    "\n",
    "totalwordcount = None\n",
    "\n",
    "def appendWordCount(filename, totalwordcount):            # function to read \n",
    "    with open(filename, 'r', encoding=\"utf-8-sig\") as f:\n",
    "        wordcount = Counter(f.read().split())\n",
    "        if (totalwordcount):\n",
    "            return totalwordcount + wordcount             # append to existing wordcount from previous files\n",
    "        else:\n",
    "            return wordcount\n",
    "\n",
    "for filename in glob.glob(path):\n",
    "    totalwordcount = appendWordCount(filename, totalwordcount)    \n",
    "        "
   ]
  },
  {
   "cell_type": "markdown",
   "metadata": {},
   "source": [
    "###  Save the data as a CSV file contains (Word, Rank, Frequency) with TITLE and Sort it by RANK. \n"
   ]
  },
  {
   "cell_type": "code",
   "execution_count": 108,
   "metadata": {
    "collapsed": false
   },
   "outputs": [],
   "source": [
    "exclude = set(string.punctuation)\n",
    "\n",
    "with open('zipf.csv', 'w', newline='') as csvfile:\n",
    "    spamwriter = csv.writer(csvfile, delimiter=',')\n",
    "    rank = 0\n",
    "    for pair in totalwordcount.most_common():\n",
    "        rank = (lambda x:x+1)(rank)                              # Increment rank variable before saving to the file\n",
    "        word = ''.join(ch for ch in pair[0] if ch not in exclude)\n",
    "        spamwriter.writerow([word, rank, pair[1]])\n"
   ]
  },
  {
   "cell_type": "markdown",
   "metadata": {},
   "source": [
    "###  Open your CSV file, generate a log-log figure according to the data you saved (using Matplotlib).\n"
   ]
  },
  {
   "cell_type": "code",
   "execution_count": 109,
   "metadata": {
    "collapsed": false
   },
   "outputs": [
    {
     "data": {
      "image/png": "[encoded data removed]",
      "text/plain": [
       "<matplotlib.figure.Figure at 0x104b14f98>"
      ]
     },
     "metadata": {},
     "output_type": "display_data"
    }
   ],
   "source": [
    "\n",
    "data = np.genfromtxt('zipf.csv', delimiter=',')\n",
    "\n",
    "plt.loglog(data[:,1],data[:,2], basex=np.e, basey=np.e)  # Using rank as the x-axis and count as the y-axis\n",
    "plt.axes().set_xscale('log')                             # Using log scales\n",
    "plt.axes().set_yscale('log')\n",
    "plt.axes().set_xlabel('log(rank)')\n",
    "plt.axes().set_ylabel('log(count)')\n",
    "\n",
    "\n",
    "plt.show()"
   ]
  },
  {
   "cell_type": "markdown",
   "metadata": {},
   "source": [
    "### Conclusion:\n",
    "#### Looking at the shape of the loglog graph above, it is clear that the text obtained from the 20th century inaugural speeches conforms to the Zipf's law"
   ]
  }
 ],
 "metadata": {
  "anaconda-cloud": {},
  "kernelspec": {
   "display_name": "Python [conda root]",
   "language": "python",
   "name": "conda-root-py"
  },
  "language_info": {
   "codemirror_mode": {
    "name": "ipython",
    "version": 3
   },
   "file_extension": ".py",
   "mimetype": "text/x-python",
   "name": "python",
   "nbconvert_exporter": "python",
   "pygments_lexer": "ipython3",
   "version": "3.5.2"
  }
 },
 "nbformat": 4,
 "nbformat_minor": 1
}
